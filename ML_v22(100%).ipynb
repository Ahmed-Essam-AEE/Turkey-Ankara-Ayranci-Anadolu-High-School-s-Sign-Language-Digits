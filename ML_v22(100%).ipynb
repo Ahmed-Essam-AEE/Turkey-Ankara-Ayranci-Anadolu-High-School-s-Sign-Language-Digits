{
 "cells": [
  {
   "cell_type": "markdown",
   "id": "d77411a8",
   "metadata": {},
   "source": [
    "# Import libraries "
   ]
  },
  {
   "cell_type": "code",
   "execution_count": 1,
   "id": "d549d69b",
   "metadata": {},
   "outputs": [],
   "source": [
    "import tensorflow as ts\n",
    "from tensorflow import keras\n",
    "import matplotlib.pyplot as plt\n",
    "%matplotlib inline\n",
    "import numpy as np\n",
    "import seaborn as sn\n",
    "import os\n",
    "os.environ['KMP_DUPLICATE_LIB_OK']='True'\n",
    "from PIL import Image\n",
    "import warnings\n",
    "warnings.filterwarnings('ignore')\n",
    "import random\n",
    "random.seed(10)\n",
    "from os import listdir\n",
    "from keras.utils import to_categorical\n",
    "from skimage.io import imread\n",
    "from os import listdir\n",
    "from matplotlib.pyplot import imread\n",
    "from skimage.transform import resize\n",
    "from sklearn.model_selection import train_test_split\n",
    "from tensorflow.keras import datasets, layers, models\n",
    "from sklearn.model_selection import KFold"
   ]
  },
  {
   "cell_type": "code",
   "execution_count": 2,
   "id": "04604ed0-effd-47b2-b515-d58020410c60",
   "metadata": {},
   "outputs": [],
   "source": [
    "# Settings:\n",
    "img_size = 64\n",
    "grayscale_images = True\n",
    "num_class = 10\n",
    "test_size = 0.2"
   ]
  },
  {
   "cell_type": "markdown",
   "id": "1ff412a4",
   "metadata": {},
   "source": [
    "# Load Data"
   ]
  },
  {
   "cell_type": "code",
   "execution_count": 3,
   "id": "f797ad7a-0cc7-4d35-ad55-6bf7e27cc276",
   "metadata": {},
   "outputs": [],
   "source": [
    "def get_img(data_path):\n",
    "    # Getting image array from path:\n",
    "    img = imread(data_path)\n",
    "    img = resize(img, (img_size, img_size, 1 if grayscale_images else 3))\n",
    "    return img"
   ]
  },
  {
   "cell_type": "code",
   "execution_count": 4,
   "id": "fd35a72a-540d-4c62-b29f-022ae28a5353",
   "metadata": {},
   "outputs": [],
   "source": [
    "def get_dataset(dataset_path='Dataset'):\n",
    "    # Getting all data from data path:\n",
    "    labels = listdir(dataset_path)  # Geting labels\n",
    "    X = []\n",
    "    Y = []\n",
    "    Z = []\n",
    "    for i, label in enumerate(labels):\n",
    "        datas_path = dataset_path + '/' + label\n",
    "        for data in listdir(datas_path):\n",
    "            img = get_img(datas_path + '/' + data)\n",
    "            #plt.matshow(img)\n",
    "            X.append(img)\n",
    "            Z.append(img)\n",
    "            Y.append(i)\n",
    "        # Create dateset:\n",
    "    X = np.array(X).astype('float32')\n",
    "    Y = np.array(Y).astype('float32')\n",
    "    return X,Y,Z"
   ]
  },
  {
   "cell_type": "code",
   "execution_count": 5,
   "id": "060cc5b5-4b3b-47be-a97e-1f8cba793ee1",
   "metadata": {},
   "outputs": [],
   "source": [
    "X , Y , img  = get_dataset('D:\\Sign-Language-Digits-Dataset-master\\Dataset')\n",
    "x_train, x_test, y_train, y_test = train_test_split(X, Y, test_size=test_size, random_state=32)"
   ]
  },
  {
   "cell_type": "code",
   "execution_count": 6,
   "id": "77782edd-2638-4400-979b-2f093f3fcfd2",
   "metadata": {},
   "outputs": [
    {
     "name": "stdout",
     "output_type": "stream",
     "text": [
      "(1649, 64, 64, 1)\n"
     ]
    }
   ],
   "source": [
    "print(x_train.shape)\n",
    "x_train = x_train.reshape(len(x_train),64*64)\n",
    "x_test = x_test.reshape(len(x_test),64*64)"
   ]
  },
  {
   "cell_type": "code",
   "execution_count": 7,
   "id": "53710fd2",
   "metadata": {},
   "outputs": [],
   "source": [
    "from keras import backend as K\n",
    "\n",
    "def recall_m(y_true, y_pred):\n",
    "    true_positives = K.sum(K.round(K.clip(y_true * y_pred, 0, 1)))\n",
    "    possible_positives = K.sum(K.round(K.clip(y_true, 0, 1)))\n",
    "    recall = true_positives / (possible_positives + K.epsilon())\n",
    "    return recall\n",
    "def precision_m(y_true, y_pred):\n",
    "    true_positives = K.sum(K.round(K.clip(y_true * y_pred, 0, 1)))\n",
    "    predicted_positives = K.sum(K.round(K.clip(y_pred, 0, 1)))\n",
    "    precision = true_positives / (predicted_positives + K.epsilon())\n",
    "    return precision\n",
    "\n",
    "def f1_m(y_true, y_pred):\n",
    "    precision = precision_m(y_true, y_pred)\n",
    "    recall = recall_m(y_true, y_pred)\n",
    "    return 2*((precision*recall)/(precision+recall+K.epsilon()))"
   ]
  },
  {
   "cell_type": "markdown",
   "id": "64fa7bef",
   "metadata": {},
   "source": [
    "## First Neural Network architectures"
   ]
  },
  {
   "cell_type": "code",
   "execution_count": 8,
   "id": "b1eee6dc",
   "metadata": {},
   "outputs": [],
   "source": [
    "def define_model1():\n",
    "    model = keras.Sequential([\n",
    "    keras.layers.Dense(150, input_shape=(64*64,), activation='relu'),\n",
    "    keras.layers.Dense(150, activation='relu'),\n",
    "    keras.layers.Dense(10, activation='sigmoid')\n",
    "])\n",
    "\n",
    "    model.compile(optimizer='adam',\n",
    "              loss='sparse_categorical_crossentropy',\n",
    "              metrics=['accuracy' , f1_m])\n",
    "\n",
    "    return model"
   ]
  },
  {
   "cell_type": "markdown",
   "id": "9f14c895",
   "metadata": {},
   "source": [
    "## Second Neural Network architectures"
   ]
  },
  {
   "cell_type": "code",
   "execution_count": 9,
   "id": "0ae20f6a",
   "metadata": {},
   "outputs": [],
   "source": [
    "def define_model2():\n",
    "    model = keras.Sequential([\n",
    "    keras.layers.Dense(120, input_shape=(64*64,), activation='relu'),\n",
    "    keras.layers.Dense(160, activation='relu'),\n",
    "    keras.layers.Dense(80, activation='relu'),\n",
    "    keras.layers.Dense(10, activation='sigmoid')\n",
    "])\n",
    "\n",
    "    model.compile(optimizer='adam',\n",
    "              loss='sparse_categorical_crossentropy',\n",
    "              metrics=['accuracy',f1_m])\n",
    "\n",
    "   \n",
    "    return model"
   ]
  },
  {
   "cell_type": "code",
   "execution_count": 10,
   "id": "27824b29-66fa-471a-9238-9f7841b18480",
   "metadata": {
    "scrolled": true
   },
   "outputs": [
    {
     "name": "stdout",
     "output_type": "stream",
     "text": [
      "Epoch 1/50\n",
      "52/52 [==============================] - 1s 5ms/step - loss: 2.4299 - accuracy: 0.1243 - f1_m: 12.9429\n",
      "Epoch 2/50\n",
      "52/52 [==============================] - 0s 5ms/step - loss: 2.1804 - accuracy: 0.2153 - f1_m: 7.9009\n",
      "Epoch 3/50\n",
      "52/52 [==============================] - 0s 5ms/step - loss: 1.9259 - accuracy: 0.3432 - f1_m: 5.5883\n",
      "Epoch 4/50\n",
      "52/52 [==============================] - 0s 6ms/step - loss: 1.6544 - accuracy: 0.4190 - f1_m: 4.9842\n",
      "Epoch 5/50\n",
      "52/52 [==============================] - 0s 5ms/step - loss: 1.4927 - accuracy: 0.4882 - f1_m: 3.3274\n",
      "Epoch 6/50\n",
      "52/52 [==============================] - 0s 6ms/step - loss: 1.4208 - accuracy: 0.4815 - f1_m: 3.2191\n",
      "Epoch 7/50\n",
      "52/52 [==============================] - 0s 5ms/step - loss: 1.2453 - accuracy: 0.5622 - f1_m: 3.0272\n",
      "Epoch 8/50\n",
      "52/52 [==============================] - 0s 5ms/step - loss: 1.1407 - accuracy: 0.6173 - f1_m: 2.9508\n",
      "Epoch 9/50\n",
      "52/52 [==============================] - 0s 5ms/step - loss: 1.0145 - accuracy: 0.6665 - f1_m: 2.8822\n",
      "Epoch 10/50\n",
      "52/52 [==============================] - 0s 5ms/step - loss: 1.0411 - accuracy: 0.6628 - f1_m: 2.7033\n",
      "Epoch 11/50\n",
      "52/52 [==============================] - 0s 6ms/step - loss: 0.9781 - accuracy: 0.6586 - f1_m: 2.7264\n",
      "Epoch 12/50\n",
      "52/52 [==============================] - 0s 6ms/step - loss: 0.9311 - accuracy: 0.6913 - f1_m: 2.6333\n",
      "Epoch 13/50\n",
      "52/52 [==============================] - 0s 5ms/step - loss: 0.8894 - accuracy: 0.6974 - f1_m: 2.6305\n",
      "Epoch 14/50\n",
      "52/52 [==============================] - 0s 5ms/step - loss: 0.8482 - accuracy: 0.7180 - f1_m: 2.5776\n",
      "Epoch 15/50\n",
      "52/52 [==============================] - 0s 5ms/step - loss: 0.8484 - accuracy: 0.7180 - f1_m: 2.5423\n",
      "Epoch 16/50\n",
      "52/52 [==============================] - 0s 5ms/step - loss: 0.7931 - accuracy: 0.7362 - f1_m: 2.5033\n",
      "Epoch 17/50\n",
      "52/52 [==============================] - 1s 23ms/step - loss: 0.7300 - accuracy: 0.7726 - f1_m: 2.4677\n",
      "Epoch 18/50\n",
      "52/52 [==============================] - 0s 8ms/step - loss: 0.6799 - accuracy: 0.7865 - f1_m: 2.4221\n",
      "Epoch 19/50\n",
      "52/52 [==============================] - 0s 8ms/step - loss: 0.6681 - accuracy: 0.7738 - f1_m: 2.4553\n",
      "Epoch 20/50\n",
      "52/52 [==============================] - 0s 6ms/step - loss: 0.7229 - accuracy: 0.7435 - f1_m: 2.3988\n",
      "Epoch 21/50\n",
      "52/52 [==============================] - 0s 6ms/step - loss: 0.6252 - accuracy: 0.7871 - f1_m: 2.3440\n",
      "Epoch 22/50\n",
      "52/52 [==============================] - 0s 6ms/step - loss: 0.5724 - accuracy: 0.8096 - f1_m: 2.3419\n",
      "Epoch 23/50\n",
      "52/52 [==============================] - 0s 7ms/step - loss: 0.6075 - accuracy: 0.7950 - f1_m: 2.2936\n",
      "Epoch 24/50\n",
      "52/52 [==============================] - 0s 5ms/step - loss: 0.6170 - accuracy: 0.7902 - f1_m: 2.3310\n",
      "Epoch 25/50\n",
      "52/52 [==============================] - 0s 5ms/step - loss: 0.6354 - accuracy: 0.7805 - f1_m: 2.3236\n",
      "Epoch 26/50\n",
      "52/52 [==============================] - 0s 5ms/step - loss: 0.5567 - accuracy: 0.8187 - f1_m: 2.2723\n",
      "Epoch 27/50\n",
      "52/52 [==============================] - 0s 5ms/step - loss: 0.5552 - accuracy: 0.8090 - f1_m: 2.2971\n",
      "Epoch 28/50\n",
      "52/52 [==============================] - 0s 5ms/step - loss: 0.5300 - accuracy: 0.8187 - f1_m: 2.2972\n",
      "Epoch 29/50\n",
      "52/52 [==============================] - 0s 5ms/step - loss: 0.4866 - accuracy: 0.8423 - f1_m: 2.2843\n",
      "Epoch 30/50\n",
      "52/52 [==============================] - 0s 5ms/step - loss: 0.5055 - accuracy: 0.8260 - f1_m: 2.2555\n",
      "Epoch 31/50\n",
      "52/52 [==============================] - 0s 7ms/step - loss: 0.4941 - accuracy: 0.8284 - f1_m: 2.2098\n",
      "Epoch 32/50\n",
      "52/52 [==============================] - 0s 6ms/step - loss: 0.4225 - accuracy: 0.8648 - f1_m: 2.2363\n",
      "Epoch 33/50\n",
      "52/52 [==============================] - 0s 5ms/step - loss: 0.4645 - accuracy: 0.8435 - f1_m: 2.2546\n",
      "Epoch 34/50\n",
      "52/52 [==============================] - 0s 4ms/step - loss: 0.4857 - accuracy: 0.8247 - f1_m: 2.2312\n",
      "Epoch 35/50\n",
      "52/52 [==============================] - 0s 4ms/step - loss: 0.3840 - accuracy: 0.8751 - f1_m: 2.2335\n",
      "Epoch 36/50\n",
      "52/52 [==============================] - 0s 4ms/step - loss: 0.5255 - accuracy: 0.8144 - f1_m: 2.2190\n",
      "Epoch 37/50\n",
      "52/52 [==============================] - 0s 4ms/step - loss: 0.5076 - accuracy: 0.8211 - f1_m: 2.2868\n",
      "Epoch 38/50\n",
      "52/52 [==============================] - 0s 4ms/step - loss: 0.4111 - accuracy: 0.8551 - f1_m: 2.2564\n",
      "Epoch 39/50\n",
      "52/52 [==============================] - 0s 4ms/step - loss: 0.3616 - accuracy: 0.8842 - f1_m: 2.2463\n",
      "Epoch 40/50\n",
      "52/52 [==============================] - 0s 4ms/step - loss: 0.4247 - accuracy: 0.8502 - f1_m: 2.2124\n",
      "Epoch 41/50\n",
      "52/52 [==============================] - 0s 4ms/step - loss: 0.3867 - accuracy: 0.8660 - f1_m: 2.1991\n",
      "Epoch 42/50\n",
      "52/52 [==============================] - 0s 4ms/step - loss: 0.3808 - accuracy: 0.8678 - f1_m: 2.2163\n",
      "Epoch 43/50\n",
      "52/52 [==============================] - 0s 4ms/step - loss: 0.4093 - accuracy: 0.8502 - f1_m: 2.2037\n",
      "Epoch 44/50\n",
      "52/52 [==============================] - 0s 4ms/step - loss: 0.4443 - accuracy: 0.8405 - f1_m: 2.2076\n",
      "Epoch 45/50\n",
      "52/52 [==============================] - 0s 4ms/step - loss: 0.3562 - accuracy: 0.8733 - f1_m: 2.1628\n",
      "Epoch 46/50\n",
      "52/52 [==============================] - 0s 4ms/step - loss: 0.3388 - accuracy: 0.8739 - f1_m: 2.1426\n",
      "Epoch 47/50\n",
      "52/52 [==============================] - 0s 5ms/step - loss: 0.3208 - accuracy: 0.8860 - f1_m: 2.1569\n",
      "Epoch 48/50\n",
      "52/52 [==============================] - 0s 4ms/step - loss: 0.2930 - accuracy: 0.9048 - f1_m: 2.1837\n",
      "Epoch 49/50\n",
      "52/52 [==============================] - 0s 5ms/step - loss: 0.2900 - accuracy: 0.9005 - f1_m: 2.1507\n",
      "Epoch 50/50\n",
      "52/52 [==============================] - 0s 4ms/step - loss: 0.2685 - accuracy: 0.9127 - f1_m: 2.1236\n",
      "13/13 [==============================] - 0s 3ms/step - loss: 0.8293 - accuracy: 0.7821 - f1_m: 2.0913\n"
     ]
    },
    {
     "data": {
      "text/plain": [
       "[0.8293222784996033, 0.7820823192596436, 2.091301202774048]"
      ]
     },
     "execution_count": 10,
     "metadata": {},
     "output_type": "execute_result"
    }
   ],
   "source": [
    "model1 = define_model1()\n",
    "model1.fit(x_train, y_train, epochs=50)\n",
    "model1.evaluate(x_test,y_test)\n"
   ]
  },
  {
   "cell_type": "code",
   "execution_count": 11,
   "id": "953c3011",
   "metadata": {},
   "outputs": [
    {
     "name": "stdout",
     "output_type": "stream",
     "text": [
      "Model: \"sequential\"\n",
      "_________________________________________________________________\n",
      " Layer (type)                Output Shape              Param #   \n",
      "=================================================================\n",
      " dense (Dense)               (None, 150)               614550    \n",
      "                                                                 \n",
      " dense_1 (Dense)             (None, 150)               22650     \n",
      "                                                                 \n",
      " dense_2 (Dense)             (None, 10)                1510      \n",
      "                                                                 \n",
      "=================================================================\n",
      "Total params: 638,710\n",
      "Trainable params: 638,710\n",
      "Non-trainable params: 0\n",
      "_________________________________________________________________\n"
     ]
    }
   ],
   "source": [
    "model1.summary()"
   ]
  },
  {
   "cell_type": "code",
   "execution_count": 12,
   "id": "2316e150",
   "metadata": {},
   "outputs": [
    {
     "name": "stdout",
     "output_type": "stream",
     "text": [
      "Epoch 1/50\n",
      "52/52 [==============================] - 1s 6ms/step - loss: 2.3729 - accuracy: 0.1092 - f1_m: 3.4684\n",
      "Epoch 2/50\n",
      "52/52 [==============================] - 0s 5ms/step - loss: 2.1958 - accuracy: 0.2025 - f1_m: 3.5336\n",
      "Epoch 3/50\n",
      "52/52 [==============================] - 0s 5ms/step - loss: 1.9744 - accuracy: 0.2996 - f1_m: 2.9575\n",
      "Epoch 4/50\n",
      "52/52 [==============================] - 0s 5ms/step - loss: 1.6819 - accuracy: 0.3814 - f1_m: 2.6975\n",
      "Epoch 5/50\n",
      "52/52 [==============================] - 0s 5ms/step - loss: 1.4776 - accuracy: 0.4700 - f1_m: 2.4344\n",
      "Epoch 6/50\n",
      "52/52 [==============================] - 0s 5ms/step - loss: 1.3013 - accuracy: 0.5367 - f1_m: 2.4409\n",
      "Epoch 7/50\n",
      "52/52 [==============================] - 0s 5ms/step - loss: 1.2330 - accuracy: 0.5700 - f1_m: 2.3559\n",
      "Epoch 8/50\n",
      "52/52 [==============================] - 0s 5ms/step - loss: 1.1793 - accuracy: 0.5834 - f1_m: 2.4205\n",
      "Epoch 9/50\n",
      "52/52 [==============================] - 0s 4ms/step - loss: 1.1042 - accuracy: 0.6052 - f1_m: 2.3600\n",
      "Epoch 10/50\n",
      "52/52 [==============================] - 0s 4ms/step - loss: 1.0531 - accuracy: 0.6483 - f1_m: 2.3792\n",
      "Epoch 11/50\n",
      "52/52 [==============================] - 0s 5ms/step - loss: 0.9626 - accuracy: 0.6689 - f1_m: 2.3282\n",
      "Epoch 12/50\n",
      "52/52 [==============================] - 0s 5ms/step - loss: 1.1516 - accuracy: 0.5925 - f1_m: 2.3787\n",
      "Epoch 13/50\n",
      "52/52 [==============================] - 0s 6ms/step - loss: 0.8218 - accuracy: 0.7253 - f1_m: 2.3344\n",
      "Epoch 14/50\n",
      "52/52 [==============================] - 0s 5ms/step - loss: 0.8881 - accuracy: 0.6913 - f1_m: 2.3394\n",
      "Epoch 15/50\n",
      "52/52 [==============================] - 0s 5ms/step - loss: 0.7772 - accuracy: 0.7386 - f1_m: 2.3586\n",
      "Epoch 16/50\n",
      "52/52 [==============================] - 0s 5ms/step - loss: 0.7428 - accuracy: 0.7465 - f1_m: 2.3945\n",
      "Epoch 17/50\n",
      "52/52 [==============================] - 0s 5ms/step - loss: 0.7001 - accuracy: 0.7623 - f1_m: 2.3776\n",
      "Epoch 18/50\n",
      "52/52 [==============================] - 0s 6ms/step - loss: 0.6730 - accuracy: 0.7738 - f1_m: 2.3796\n",
      "Epoch 19/50\n",
      "52/52 [==============================] - 0s 6ms/step - loss: 0.7759 - accuracy: 0.7356 - f1_m: 2.3434\n",
      "Epoch 20/50\n",
      "52/52 [==============================] - 0s 6ms/step - loss: 0.6718 - accuracy: 0.7787 - f1_m: 2.3823\n",
      "Epoch 21/50\n",
      "52/52 [==============================] - 0s 6ms/step - loss: 0.7325 - accuracy: 0.7453 - f1_m: 2.4211\n",
      "Epoch 22/50\n",
      "52/52 [==============================] - 0s 8ms/step - loss: 0.6033 - accuracy: 0.7902 - f1_m: 2.3648\n",
      "Epoch 23/50\n",
      "52/52 [==============================] - 1s 22ms/step - loss: 0.6826 - accuracy: 0.7599 - f1_m: 2.3271\n",
      "Epoch 24/50\n",
      "52/52 [==============================] - 1s 20ms/step - loss: 0.5784 - accuracy: 0.7999 - f1_m: 2.3615\n",
      "Epoch 25/50\n",
      "52/52 [==============================] - 0s 6ms/step - loss: 0.5406 - accuracy: 0.8247 - f1_m: 2.3291\n",
      "Epoch 26/50\n",
      "52/52 [==============================] - 0s 5ms/step - loss: 0.4780 - accuracy: 0.8369 - f1_m: 2.3129\n",
      "Epoch 27/50\n",
      "52/52 [==============================] - 0s 5ms/step - loss: 0.5009 - accuracy: 0.8332 - f1_m: 2.2724\n",
      "Epoch 28/50\n",
      "52/52 [==============================] - 0s 5ms/step - loss: 0.5029 - accuracy: 0.8290 - f1_m: 2.3051\n",
      "Epoch 29/50\n",
      "52/52 [==============================] - 0s 5ms/step - loss: 0.4745 - accuracy: 0.8399 - f1_m: 2.2974\n",
      "Epoch 30/50\n",
      "52/52 [==============================] - 0s 5ms/step - loss: 0.5223 - accuracy: 0.8193 - f1_m: 2.2731\n",
      "Epoch 31/50\n",
      "52/52 [==============================] - 0s 5ms/step - loss: 0.4737 - accuracy: 0.8448 - f1_m: 2.2428\n",
      "Epoch 32/50\n",
      "52/52 [==============================] - 0s 6ms/step - loss: 0.4257 - accuracy: 0.8611 - f1_m: 2.2641\n",
      "Epoch 33/50\n",
      "52/52 [==============================] - 0s 5ms/step - loss: 0.4258 - accuracy: 0.8611 - f1_m: 2.2717\n",
      "Epoch 34/50\n",
      "52/52 [==============================] - 0s 6ms/step - loss: 0.5833 - accuracy: 0.8053 - f1_m: 2.2715\n",
      "Epoch 35/50\n",
      "52/52 [==============================] - 0s 6ms/step - loss: 0.4743 - accuracy: 0.8302 - f1_m: 2.2829\n",
      "Epoch 36/50\n",
      "52/52 [==============================] - 0s 6ms/step - loss: 0.5096 - accuracy: 0.8193 - f1_m: 2.2877\n",
      "Epoch 37/50\n",
      "52/52 [==============================] - 0s 6ms/step - loss: 0.3470 - accuracy: 0.8872 - f1_m: 2.2536\n",
      "Epoch 38/50\n",
      "52/52 [==============================] - 0s 6ms/step - loss: 0.3958 - accuracy: 0.8636 - f1_m: 2.1925\n",
      "Epoch 39/50\n",
      "52/52 [==============================] - 0s 6ms/step - loss: 0.4450 - accuracy: 0.8441 - f1_m: 2.2364\n",
      "Epoch 40/50\n",
      "52/52 [==============================] - 0s 6ms/step - loss: 0.5035 - accuracy: 0.8229 - f1_m: 2.2160\n",
      "Epoch 41/50\n",
      "52/52 [==============================] - 0s 5ms/step - loss: 0.4907 - accuracy: 0.8320 - f1_m: 2.2215\n",
      "Epoch 42/50\n",
      "52/52 [==============================] - 0s 6ms/step - loss: 0.5153 - accuracy: 0.8211 - f1_m: 2.2574\n",
      "Epoch 43/50\n",
      "52/52 [==============================] - 0s 6ms/step - loss: 0.3099 - accuracy: 0.8981 - f1_m: 2.2098\n",
      "Epoch 44/50\n",
      "52/52 [==============================] - 0s 5ms/step - loss: 0.3456 - accuracy: 0.8805 - f1_m: 2.2065\n",
      "Epoch 45/50\n",
      "52/52 [==============================] - 0s 5ms/step - loss: 0.3068 - accuracy: 0.8981 - f1_m: 2.2078\n",
      "Epoch 46/50\n",
      "52/52 [==============================] - 0s 5ms/step - loss: 0.2973 - accuracy: 0.8951 - f1_m: 2.1804\n",
      "Epoch 47/50\n",
      "52/52 [==============================] - 0s 5ms/step - loss: 0.2469 - accuracy: 0.9230 - f1_m: 2.1598\n",
      "Epoch 48/50\n",
      "52/52 [==============================] - 0s 5ms/step - loss: 0.3785 - accuracy: 0.8569 - f1_m: 2.1472\n",
      "Epoch 49/50\n",
      "52/52 [==============================] - 0s 5ms/step - loss: 0.3257 - accuracy: 0.8781 - f1_m: 2.2058\n",
      "Epoch 50/50\n",
      "52/52 [==============================] - 0s 6ms/step - loss: 0.2995 - accuracy: 0.8921 - f1_m: 2.1784\n",
      "13/13 [==============================] - 0s 6ms/step - loss: 0.7961 - accuracy: 0.8015 - f1_m: 2.1178\n"
     ]
    },
    {
     "data": {
      "text/plain": [
       "[0.7960856556892395, 0.8014527559280396, 2.1177773475646973]"
      ]
     },
     "execution_count": 12,
     "metadata": {},
     "output_type": "execute_result"
    }
   ],
   "source": [
    "model2 = define_model2()\n",
    "model2.fit(x_train, y_train, epochs=50)\n",
    "model2.evaluate(x_test,y_test)"
   ]
  },
  {
   "cell_type": "code",
   "execution_count": 13,
   "id": "22a0abcc",
   "metadata": {},
   "outputs": [
    {
     "name": "stdout",
     "output_type": "stream",
     "text": [
      "Model: \"sequential_1\"\n",
      "_________________________________________________________________\n",
      " Layer (type)                Output Shape              Param #   \n",
      "=================================================================\n",
      " dense_3 (Dense)             (None, 120)               491640    \n",
      "                                                                 \n",
      " dense_4 (Dense)             (None, 160)               19360     \n",
      "                                                                 \n",
      " dense_5 (Dense)             (None, 80)                12880     \n",
      "                                                                 \n",
      " dense_6 (Dense)             (None, 10)                810       \n",
      "                                                                 \n",
      "=================================================================\n",
      "Total params: 524,690\n",
      "Trainable params: 524,690\n",
      "Non-trainable params: 0\n",
      "_________________________________________________________________\n"
     ]
    }
   ],
   "source": [
    "model2.summary()"
   ]
  },
  {
   "cell_type": "code",
   "execution_count": 14,
   "id": "0c1e9735-ee48-4440-890b-2cd959f2632a",
   "metadata": {},
   "outputs": [
    {
     "name": "stdout",
     "output_type": "stream",
     "text": [
      "13/13 [==============================] - 0s 4ms/step\n"
     ]
    },
    {
     "data": {
      "text/plain": [
       "Text(95.72222222222221, 0.5, 'Truth')"
      ]
     },
     "execution_count": 14,
     "metadata": {},
     "output_type": "execute_result"
    },
    {
     "data": {
      "image/png": "[encoded data removed]",
      "text/plain": [
       "<Figure size 1000x700 with 2 Axes>"
      ]
     },
     "metadata": {},
     "output_type": "display_data"
    }
   ],
   "source": [
    "y_predicted1 = model1.predict(x_test)\n",
    "y_predicted_labels1 = [np.argmax(i) for i in y_predicted1]\n",
    "cm1 = ts.math.confusion_matrix(labels=y_test,predictions=y_predicted_labels1)\n",
    "\n",
    "plt.figure(figsize = (10,7))\n",
    "sn.heatmap(cm1, annot=True, fmt='d')\n",
    "plt.xlabel('Predicted')\n",
    "plt.ylabel('Truth')"
   ]
  },
  {
   "cell_type": "code",
   "execution_count": 15,
   "id": "8a3a37b5-2040-43e6-b4e0-e11be5875e08",
   "metadata": {},
   "outputs": [
    {
     "name": "stdout",
     "output_type": "stream",
     "text": [
      "13/13 [==============================] - 0s 3ms/step\n"
     ]
    },
    {
     "data": {
      "text/plain": [
       "Text(95.72222222222221, 0.5, 'Truth')"
      ]
     },
     "execution_count": 15,
     "metadata": {},
     "output_type": "execute_result"
    },
    {
     "data": {
      "image/png": "[encoded data removed]",
      "text/plain": [
       "<Figure size 1000x700 with 2 Axes>"
      ]
     },
     "metadata": {},
     "output_type": "display_data"
    }
   ],
   "source": [
    "y_predicted2 = model2.predict(x_test)\n",
    "y_predicted_labels2 = [np.argmax(i) for i in y_predicted2]\n",
    "cm2 = ts.math.confusion_matrix(labels=y_test,predictions=y_predicted_labels2)\n",
    "\n",
    "plt.figure(figsize = (10,7))\n",
    "sn.heatmap(cm2, annot=True, fmt='d')\n",
    "plt.xlabel('Predicted')\n",
    "plt.ylabel('Truth')"
   ]
  },
  {
   "cell_type": "code",
   "execution_count": 16,
   "id": "fe697d14-508b-4d25-9f72-99193114ec45",
   "metadata": {},
   "outputs": [],
   "source": [
    "#lo = y_test.shape[0]\n",
    "#for i in range (lo):\n",
    "#    print(y_test[i] , \"========>\" , y_predicted_labels[i])"
   ]
  },
  {
   "cell_type": "code",
   "execution_count": 17,
   "id": "02d936cc",
   "metadata": {},
   "outputs": [
    {
     "name": "stdout",
     "output_type": "stream",
     "text": [
      "9\n",
      "9.0\n"
     ]
    },
    {
     "data": {
      "image/png": "[encoded data removed]",
      "text/plain": [
       "<Figure size 480x480 with 1 Axes>"
      ]
     },
     "metadata": {},
     "output_type": "display_data"
    }
   ],
   "source": [
    "roro = random_state=random.randint(0,len(x_test) - 1)\n",
    "img = x_test[roro].reshape(64,64,1)\n",
    "plt.matshow(img,cmap = 'gray')\n",
    "print(y_predicted_labels1[roro])\n",
    "print(y_test[roro])"
   ]
  },
  {
   "cell_type": "code",
   "execution_count": 18,
   "id": "3ee6b80f",
   "metadata": {},
   "outputs": [
    {
     "name": "stdout",
     "output_type": "stream",
     "text": [
      "7\n",
      "8.0\n"
     ]
    },
    {
     "data": {
      "image/png": "[encoded data removed]",
      "text/plain": [
       "<Figure size 480x480 with 1 Axes>"
      ]
     },
     "metadata": {},
     "output_type": "display_data"
    }
   ],
   "source": [
    "roro = random_state=random.randint(0,len(x_test) - 1)\n",
    "img = x_test[roro].reshape(64,64,1)\n",
    "plt.matshow(img,cmap = 'gray')\n",
    "print(y_predicted_labels2[roro])\n",
    "print(y_test[roro])"
   ]
  },
  {
   "cell_type": "markdown",
   "id": "df8dfe83",
   "metadata": {},
   "source": [
    "## Cross Over in Neural Network"
   ]
  },
  {
   "cell_type": "code",
   "execution_count": 19,
   "id": "a6f2faa3",
   "metadata": {},
   "outputs": [],
   "source": [
    "\n",
    "# evaluate a model using k-fold cross-validation\n",
    "def evaluate_model(dataX, dataY, n_folds=5 ,Model =define_model1()):\n",
    "    scores, histories,f11 = list(), list() , list()\n",
    "    # prepare cross validation\n",
    "    kfold = KFold(n_folds, shuffle=True, random_state=1)\n",
    "    # enumerate splits\n",
    "    for train_ix, test_ix in kfold.split(dataX):\n",
    "        # define model\n",
    "        # select rows for train and test\n",
    "        trainX, trainY, testX, testY = dataX[train_ix], dataY[train_ix], dataX[test_ix], dataY[test_ix]\n",
    "        trainX = trainX.reshape(len(trainX),64*64)\n",
    "        testX = testX.reshape(len(testX),64*64)\n",
    "        model = Model\n",
    "        model.fit(trainX, trainY, epochs=15)\n",
    "        # fit model\n",
    "        history = model\n",
    "        # evaluate model\n",
    "        _, acc,f1 = model.evaluate(testX,testY)\n",
    "        # stores scores\n",
    "        scores.append(acc)\n",
    "        f11.append(f1)\n",
    "        histories.append(history)\n",
    "    return scores,f11, histories\n",
    "\n",
    "\n",
    "\n",
    "\n",
    "\n"
   ]
  },
  {
   "cell_type": "code",
   "execution_count": 20,
   "id": "544c4092",
   "metadata": {},
   "outputs": [
    {
     "name": "stdout",
     "output_type": "stream",
     "text": [
      "Epoch 1/15\n",
      "43/43 [==============================] - 0s 7ms/step - loss: 0.3875 - accuracy: 0.8886 - f1_m: 2.1123\n",
      "Epoch 2/15\n",
      "43/43 [==============================] - 0s 6ms/step - loss: 0.3640 - accuracy: 0.8850 - f1_m: 2.1599\n",
      "Epoch 3/15\n",
      "43/43 [==============================] - 0s 7ms/step - loss: 0.3929 - accuracy: 0.8734 - f1_m: 2.1377\n",
      "Epoch 4/15\n",
      "43/43 [==============================] - 0s 6ms/step - loss: 0.3485 - accuracy: 0.8952 - f1_m: 2.1500\n",
      "Epoch 5/15\n",
      "43/43 [==============================] - 0s 10ms/step - loss: 0.4211 - accuracy: 0.8603 - f1_m: 2.1570\n",
      "Epoch 6/15\n",
      "43/43 [==============================] - 1s 18ms/step - loss: 0.3442 - accuracy: 0.8974 - f1_m: 2.1220\n",
      "Epoch 7/15\n",
      "43/43 [==============================] - 0s 7ms/step - loss: 0.3799 - accuracy: 0.8690 - f1_m: 2.1435\n",
      "Epoch 8/15\n",
      "43/43 [==============================] - 1s 11ms/step - loss: 0.4138 - accuracy: 0.8639 - f1_m: 2.1295\n",
      "Epoch 9/15\n",
      "43/43 [==============================] - 0s 11ms/step - loss: 0.2936 - accuracy: 0.9105 - f1_m: 2.1617\n",
      "Epoch 10/15\n",
      "43/43 [==============================] - 0s 5ms/step - loss: 0.3685 - accuracy: 0.8705 - f1_m: 2.1172\n",
      "Epoch 11/15\n",
      "43/43 [==============================] - 0s 7ms/step - loss: 0.2973 - accuracy: 0.9032 - f1_m: 2.1149\n",
      "Epoch 12/15\n",
      "43/43 [==============================] - 0s 6ms/step - loss: 0.3223 - accuracy: 0.8937 - f1_m: 2.0901\n",
      "Epoch 13/15\n",
      "43/43 [==============================] - 0s 6ms/step - loss: 0.3467 - accuracy: 0.8850 - f1_m: 2.1604\n",
      "Epoch 14/15\n",
      "43/43 [==============================] - 0s 7ms/step - loss: 0.2443 - accuracy: 0.9272 - f1_m: 2.1088\n",
      "Epoch 15/15\n",
      "43/43 [==============================] - 0s 7ms/step - loss: 0.4951 - accuracy: 0.8311 - f1_m: 2.1058\n",
      "22/22 [==============================] - 0s 4ms/step - loss: 0.7420 - accuracy: 0.7529 - f1_m: 2.1362\n",
      "Epoch 1/15\n",
      "43/43 [==============================] - 0s 5ms/step - loss: 0.4295 - accuracy: 0.8538 - f1_m: 2.1794\n",
      "Epoch 2/15\n",
      "43/43 [==============================] - 0s 5ms/step - loss: 0.5233 - accuracy: 0.8196 - f1_m: 2.0983\n",
      "Epoch 3/15\n",
      "43/43 [==============================] - 0s 8ms/step - loss: 0.3724 - accuracy: 0.8735 - f1_m: 2.1529\n",
      "Epoch 4/15\n",
      "43/43 [==============================] - 0s 6ms/step - loss: 0.3663 - accuracy: 0.8858 - f1_m: 2.1400\n",
      "Epoch 5/15\n",
      "43/43 [==============================] - 0s 5ms/step - loss: 0.2957 - accuracy: 0.9011 - f1_m: 2.1399\n",
      "Epoch 6/15\n",
      "43/43 [==============================] - 0s 5ms/step - loss: 0.3622 - accuracy: 0.8713 - f1_m: 2.1306\n",
      "Epoch 7/15\n",
      "43/43 [==============================] - 0s 5ms/step - loss: 0.2998 - accuracy: 0.8931 - f1_m: 2.1261\n",
      "Epoch 8/15\n",
      "43/43 [==============================] - 0s 7ms/step - loss: 0.2604 - accuracy: 0.9171 - f1_m: 2.1113\n",
      "Epoch 9/15\n",
      "43/43 [==============================] - 0s 5ms/step - loss: 0.2541 - accuracy: 0.9047 - f1_m: 2.1267\n",
      "Epoch 10/15\n",
      "43/43 [==============================] - 0s 4ms/step - loss: 0.2422 - accuracy: 0.9215 - f1_m: 2.1239\n",
      "Epoch 11/15\n",
      "43/43 [==============================] - 0s 4ms/step - loss: 0.2125 - accuracy: 0.9229 - f1_m: 2.0900\n",
      "Epoch 12/15\n",
      "43/43 [==============================] - 0s 6ms/step - loss: 0.3000 - accuracy: 0.8924 - f1_m: 2.0810\n",
      "Epoch 13/15\n",
      "43/43 [==============================] - 0s 8ms/step - loss: 0.2022 - accuracy: 0.9309 - f1_m: 2.1143\n",
      "Epoch 14/15\n",
      "43/43 [==============================] - 0s 6ms/step - loss: 0.3274 - accuracy: 0.8749 - f1_m: 2.0790\n",
      "Epoch 15/15\n",
      "43/43 [==============================] - 0s 8ms/step - loss: 0.2608 - accuracy: 0.9055 - f1_m: 2.1207\n",
      "22/22 [==============================] - 0s 4ms/step - loss: 0.3502 - accuracy: 0.8923 - f1_m: 2.0255\n",
      "Epoch 1/15\n",
      "43/43 [==============================] - 0s 6ms/step - loss: 0.2602 - accuracy: 0.9200 - f1_m: 2.0909\n",
      "Epoch 2/15\n",
      "43/43 [==============================] - 0s 5ms/step - loss: 0.3232 - accuracy: 0.8916 - f1_m: 2.0763\n",
      "Epoch 3/15\n",
      "43/43 [==============================] - 0s 5ms/step - loss: 0.2505 - accuracy: 0.9164 - f1_m: 2.0778\n",
      "Epoch 4/15\n",
      "43/43 [==============================] - 0s 5ms/step - loss: 0.2134 - accuracy: 0.9302 - f1_m: 2.0678\n",
      "Epoch 5/15\n",
      "43/43 [==============================] - 0s 5ms/step - loss: 0.2061 - accuracy: 0.9280 - f1_m: 2.0503\n",
      "Epoch 6/15\n",
      "43/43 [==============================] - 0s 5ms/step - loss: 0.2537 - accuracy: 0.9091 - f1_m: 2.0429\n",
      "Epoch 7/15\n",
      "43/43 [==============================] - 0s 5ms/step - loss: 0.1804 - accuracy: 0.9418 - f1_m: 2.0589\n",
      "Epoch 8/15\n",
      "43/43 [==============================] - 0s 5ms/step - loss: 0.2080 - accuracy: 0.9265 - f1_m: 2.0360\n",
      "Epoch 9/15\n",
      "43/43 [==============================] - 0s 5ms/step - loss: 0.2712 - accuracy: 0.9098 - f1_m: 2.0348\n",
      "Epoch 10/15\n",
      "43/43 [==============================] - 0s 5ms/step - loss: 0.1845 - accuracy: 0.9411 - f1_m: 2.0320\n",
      "Epoch 11/15\n",
      "43/43 [==============================] - 0s 5ms/step - loss: 0.1647 - accuracy: 0.9476 - f1_m: 2.0323\n",
      "Epoch 12/15\n",
      "43/43 [==============================] - 0s 4ms/step - loss: 0.1214 - accuracy: 0.9687 - f1_m: 2.0284\n",
      "Epoch 13/15\n",
      "43/43 [==============================] - 0s 5ms/step - loss: 0.1815 - accuracy: 0.9418 - f1_m: 2.0213\n",
      "Epoch 14/15\n",
      "43/43 [==============================] - 0s 5ms/step - loss: 0.1807 - accuracy: 0.9396 - f1_m: 2.0064\n",
      "Epoch 15/15\n",
      "43/43 [==============================] - 0s 5ms/step - loss: 0.2035 - accuracy: 0.9345 - f1_m: 1.9971\n",
      "22/22 [==============================] - 0s 3ms/step - loss: 0.2768 - accuracy: 0.9039 - f1_m: 1.9921\n"
     ]
    }
   ],
   "source": [
    "scoresModel1,f11 , histories1 = evaluate_model(X,Y,3,model1)\n"
   ]
  },
  {
   "cell_type": "code",
   "execution_count": 21,
   "id": "e9d29360",
   "metadata": {},
   "outputs": [
    {
     "name": "stdout",
     "output_type": "stream",
     "text": [
      "[0.7529069781303406, 0.8922852873802185, 0.903930127620697]\n",
      "[2.13615345954895, 2.0254733562469482, 1.9921061992645264]\n",
      "[<keras.engine.sequential.Sequential object at 0x000001E9A79E48E0>, <keras.engine.sequential.Sequential object at 0x000001E9A79E48E0>, <keras.engine.sequential.Sequential object at 0x000001E9A79E48E0>]\n"
     ]
    }
   ],
   "source": [
    "print(scoresModel1)\n",
    "print(f11)\n",
    "print(histories1)\n"
   ]
  },
  {
   "cell_type": "code",
   "execution_count": 22,
   "id": "959921a1",
   "metadata": {},
   "outputs": [
    {
     "name": "stdout",
     "output_type": "stream",
     "text": [
      "Epoch 1/15\n",
      "35/35 [==============================] - 0s 4ms/step - loss: 0.3228 - accuracy: 0.8826 - f1_m: 2.1616\n",
      "Epoch 2/15\n",
      "35/35 [==============================] - 0s 4ms/step - loss: 0.2379 - accuracy: 0.9199 - f1_m: 2.1824\n",
      "Epoch 3/15\n",
      "35/35 [==============================] - 0s 5ms/step - loss: 0.1945 - accuracy: 0.9381 - f1_m: 2.1542\n",
      "Epoch 4/15\n",
      "35/35 [==============================] - 0s 4ms/step - loss: 0.2190 - accuracy: 0.9227 - f1_m: 2.1199\n",
      "Epoch 5/15\n",
      "35/35 [==============================] - 0s 4ms/step - loss: 0.1904 - accuracy: 0.9409 - f1_m: 2.1188\n",
      "Epoch 6/15\n",
      "35/35 [==============================] - 0s 4ms/step - loss: 0.3374 - accuracy: 0.8653 - f1_m: 2.1219\n",
      "Epoch 7/15\n",
      "35/35 [==============================] - 0s 4ms/step - loss: 0.3586 - accuracy: 0.8817 - f1_m: 2.1781\n",
      "Epoch 8/15\n",
      "35/35 [==============================] - 0s 4ms/step - loss: 0.2951 - accuracy: 0.8963 - f1_m: 2.1535\n",
      "Epoch 9/15\n",
      "35/35 [==============================] - 0s 5ms/step - loss: 0.3147 - accuracy: 0.8826 - f1_m: 2.1279\n",
      "Epoch 10/15\n",
      "35/35 [==============================] - 0s 5ms/step - loss: 0.2103 - accuracy: 0.9299 - f1_m: 2.0982\n",
      "Epoch 11/15\n",
      "35/35 [==============================] - 0s 4ms/step - loss: 0.2622 - accuracy: 0.9099 - f1_m: 2.0728\n",
      "Epoch 12/15\n",
      "35/35 [==============================] - 0s 5ms/step - loss: 0.3014 - accuracy: 0.8854 - f1_m: 2.0728\n",
      "Epoch 13/15\n",
      "35/35 [==============================] - 0s 4ms/step - loss: 0.2642 - accuracy: 0.9072 - f1_m: 2.1021\n",
      "Epoch 14/15\n",
      "35/35 [==============================] - 0s 5ms/step - loss: 0.2724 - accuracy: 0.9035 - f1_m: 2.0869\n",
      "Epoch 15/15\n",
      "35/35 [==============================] - 0s 4ms/step - loss: 0.1945 - accuracy: 0.9345 - f1_m: 2.0905\n",
      "18/18 [==============================] - 0s 2ms/step - loss: 0.3954 - accuracy: 0.8873 - f1_m: 2.0844\n",
      "Epoch 1/15\n",
      "35/35 [==============================] - 0s 4ms/step - loss: 0.5568 - accuracy: 0.8098 - f1_m: 2.0695\n",
      "Epoch 2/15\n",
      "35/35 [==============================] - 0s 5ms/step - loss: 0.2820 - accuracy: 0.9072 - f1_m: 2.1039\n",
      "Epoch 3/15\n",
      "35/35 [==============================] - 0s 4ms/step - loss: 0.2318 - accuracy: 0.9190 - f1_m: 2.0910\n",
      "Epoch 4/15\n",
      "35/35 [==============================] - 0s 4ms/step - loss: 0.2261 - accuracy: 0.9190 - f1_m: 2.0614\n",
      "Epoch 5/15\n",
      "35/35 [==============================] - 0s 4ms/step - loss: 0.3822 - accuracy: 0.8672 - f1_m: 2.0829\n",
      "Epoch 6/15\n",
      "35/35 [==============================] - 0s 4ms/step - loss: 0.4103 - accuracy: 0.8662 - f1_m: 2.1617\n",
      "Epoch 7/15\n",
      "35/35 [==============================] - 0s 5ms/step - loss: 0.2487 - accuracy: 0.9217 - f1_m: 2.1102\n",
      "Epoch 8/15\n",
      "35/35 [==============================] - 0s 5ms/step - loss: 0.2613 - accuracy: 0.9017 - f1_m: 2.0898\n",
      "Epoch 9/15\n",
      "35/35 [==============================] - 0s 6ms/step - loss: 0.2248 - accuracy: 0.9263 - f1_m: 2.1054\n",
      "Epoch 10/15\n",
      "35/35 [==============================] - 0s 5ms/step - loss: 0.2327 - accuracy: 0.9190 - f1_m: 2.0906\n",
      "Epoch 11/15\n",
      "35/35 [==============================] - 0s 5ms/step - loss: 0.3256 - accuracy: 0.8799 - f1_m: 2.0635\n",
      "Epoch 12/15\n",
      "35/35 [==============================] - 1s 13ms/step - loss: 0.2247 - accuracy: 0.9217 - f1_m: 2.1082\n",
      "Epoch 13/15\n",
      "35/35 [==============================] - 0s 8ms/step - loss: 0.2640 - accuracy: 0.9045 - f1_m: 2.0843\n",
      "Epoch 14/15\n",
      "35/35 [==============================] - 0s 6ms/step - loss: 0.2506 - accuracy: 0.9163 - f1_m: 2.0963\n",
      "Epoch 15/15\n",
      "35/35 [==============================] - 0s 11ms/step - loss: 0.1648 - accuracy: 0.9500 - f1_m: 2.0753\n",
      "18/18 [==============================] - 0s 4ms/step - loss: 0.1944 - accuracy: 0.9327 - f1_m: 2.0418\n",
      "Epoch 1/15\n",
      "35/35 [==============================] - 0s 5ms/step - loss: 0.3102 - accuracy: 0.8891 - f1_m: 2.0695\n",
      "Epoch 2/15\n",
      "35/35 [==============================] - 0s 5ms/step - loss: 0.3414 - accuracy: 0.8764 - f1_m: 2.0910\n",
      "Epoch 3/15\n",
      "35/35 [==============================] - 0s 5ms/step - loss: 0.2265 - accuracy: 0.9245 - f1_m: 2.1293\n",
      "Epoch 4/15\n",
      "35/35 [==============================] - 0s 6ms/step - loss: 0.1659 - accuracy: 0.9445 - f1_m: 2.0826\n",
      "Epoch 5/15\n",
      "35/35 [==============================] - 0s 6ms/step - loss: 0.1531 - accuracy: 0.9491 - f1_m: 2.0967\n",
      "Epoch 6/15\n",
      "35/35 [==============================] - 0s 6ms/step - loss: 0.2197 - accuracy: 0.9145 - f1_m: 2.0620\n",
      "Epoch 7/15\n",
      "35/35 [==============================] - 0s 6ms/step - loss: 0.1501 - accuracy: 0.9518 - f1_m: 2.0847\n",
      "Epoch 8/15\n",
      "35/35 [==============================] - 0s 5ms/step - loss: 0.1850 - accuracy: 0.9355 - f1_m: 2.0755\n",
      "Epoch 9/15\n",
      "35/35 [==============================] - 0s 5ms/step - loss: 0.1753 - accuracy: 0.9391 - f1_m: 2.0425\n",
      "Epoch 10/15\n",
      "35/35 [==============================] - 0s 4ms/step - loss: 0.1427 - accuracy: 0.9509 - f1_m: 2.0676\n",
      "Epoch 11/15\n",
      "35/35 [==============================] - 0s 4ms/step - loss: 0.1225 - accuracy: 0.9582 - f1_m: 2.0339\n",
      "Epoch 12/15\n",
      "35/35 [==============================] - 0s 4ms/step - loss: 0.1753 - accuracy: 0.9409 - f1_m: 2.0442\n",
      "Epoch 13/15\n",
      "35/35 [==============================] - 0s 4ms/step - loss: 0.1243 - accuracy: 0.9627 - f1_m: 2.0392\n",
      "Epoch 14/15\n",
      "35/35 [==============================] - 0s 4ms/step - loss: 0.1245 - accuracy: 0.9564 - f1_m: 2.0371\n",
      "Epoch 15/15\n",
      "35/35 [==============================] - 0s 4ms/step - loss: 0.2637 - accuracy: 0.9018 - f1_m: 2.0250\n",
      "18/18 [==============================] - 0s 3ms/step - loss: 0.2069 - accuracy: 0.9381 - f1_m: 2.0357\n"
     ]
    }
   ],
   "source": [
    "scoresModel2 ,f22 , histories2 = evaluate_model(x_train,y_train,3,model2)\n"
   ]
  },
  {
   "cell_type": "code",
   "execution_count": 23,
   "id": "dc780362",
   "metadata": {},
   "outputs": [
    {
     "name": "stdout",
     "output_type": "stream",
     "text": [
      "[0.8872727155685425, 0.9327272772789001, 0.938069224357605]\n",
      "[2.0844101905822754, 2.04179310798645, 2.035747766494751]\n",
      "[<keras.engine.sequential.Sequential object at 0x000001E9B2147700>, <keras.engine.sequential.Sequential object at 0x000001E9B2147700>, <keras.engine.sequential.Sequential object at 0x000001E9B2147700>]\n"
     ]
    }
   ],
   "source": [
    "print(scoresModel2)\n",
    "print(f22)\n",
    "print(histories2)"
   ]
  },
  {
   "cell_type": "markdown",
   "id": "c3405c04",
   "metadata": {},
   "source": [
    "## With CNN"
   ]
  },
  {
   "cell_type": "code",
   "execution_count": 24,
   "id": "49b164a1",
   "metadata": {},
   "outputs": [
    {
     "name": "stdout",
     "output_type": "stream",
     "text": [
      "(1649, 4096)\n"
     ]
    }
   ],
   "source": [
    "print(x_train.shape)"
   ]
  },
  {
   "cell_type": "code",
   "execution_count": 25,
   "id": "df15a90e",
   "metadata": {},
   "outputs": [],
   "source": [
    "cnn = models.Sequential([\n",
    "    \n",
    "    layers.Conv2D(filters=32, kernel_size=(4, 4), activation='relu', input_shape=(64, 64 ,1)),\n",
    "    layers.MaxPooling2D((2, 2)),\n",
    "    \n",
    "    layers.Conv2D(filters=64, kernel_size=(3, 3), activation='relu'),\n",
    "    layers.MaxPooling2D((2, 2)),\n",
    "    \n",
    "    layers.Flatten(),\n",
    "    layers.Dense(64, activation='relu'),\n",
    "    layers.Dense(10, activation='sigmoid')\n",
    "])"
   ]
  },
  {
   "cell_type": "code",
   "execution_count": 26,
   "id": "fd516ed3",
   "metadata": {},
   "outputs": [],
   "source": [
    "cnn.compile(optimizer='adam',\n",
    "              loss='sparse_categorical_crossentropy',\n",
    "              metrics=['accuracy',f1_m])"
   ]
  },
  {
   "cell_type": "code",
   "execution_count": 27,
   "id": "f6d2ba15",
   "metadata": {},
   "outputs": [
    {
     "name": "stdout",
     "output_type": "stream",
     "text": [
      "Epoch 1/10\n",
      "52/52 [==============================] - 3s 47ms/step - loss: 2.0025 - accuracy: 0.3002 - f1_m: 2.1715\n",
      "Epoch 2/10\n",
      "52/52 [==============================] - 3s 54ms/step - loss: 0.8382 - accuracy: 0.7283 - f1_m: 1.9733\n",
      "Epoch 3/10\n",
      "52/52 [==============================] - 3s 49ms/step - loss: 0.5797 - accuracy: 0.8211 - f1_m: 1.9726\n",
      "Epoch 4/10\n",
      "52/52 [==============================] - 2s 44ms/step - loss: 0.4468 - accuracy: 0.8660 - f1_m: 1.9558\n",
      "Epoch 5/10\n",
      "52/52 [==============================] - 4s 79ms/step - loss: 0.3503 - accuracy: 0.8939 - f1_m: 1.9458\n",
      "Epoch 6/10\n",
      "52/52 [==============================] - 3s 52ms/step - loss: 0.2545 - accuracy: 0.9169 - f1_m: 1.9217\n",
      "Epoch 7/10\n",
      "52/52 [==============================] - 3s 50ms/step - loss: 0.1913 - accuracy: 0.9460 - f1_m: 1.9067\n",
      "Epoch 8/10\n",
      "52/52 [==============================] - 2s 48ms/step - loss: 0.1353 - accuracy: 0.9582 - f1_m: 1.8713\n",
      "Epoch 9/10\n",
      "52/52 [==============================] - 3s 49ms/step - loss: 0.1133 - accuracy: 0.9630 - f1_m: 1.8587\n",
      "Epoch 10/10\n",
      "52/52 [==============================] - 3s 55ms/step - loss: 0.0694 - accuracy: 0.9812 - f1_m: 1.8464\n"
     ]
    },
    {
     "data": {
      "text/plain": [
       "<keras.callbacks.History at 0x1e9a65d3b50>"
      ]
     },
     "execution_count": 27,
     "metadata": {},
     "output_type": "execute_result"
    }
   ],
   "source": [
    "x_train = x_train.reshape(len(x_train),64,64,1)\n",
    "x_test = x_test.reshape(len(x_test),64,64,1)\n",
    "cnn.fit(x_train, y_train, epochs=10)"
   ]
  },
  {
   "cell_type": "code",
   "execution_count": 28,
   "id": "e9e4880c",
   "metadata": {},
   "outputs": [
    {
     "name": "stdout",
     "output_type": "stream",
     "text": [
      "13/13 [==============================] - 1s 37ms/step - loss: 0.3989 - accuracy: 0.8862 - f1_m: 1.8332\n"
     ]
    },
    {
     "data": {
      "text/plain": [
       "[0.39894628524780273, 0.8861985206604004, 1.8332163095474243]"
      ]
     },
     "execution_count": 28,
     "metadata": {},
     "output_type": "execute_result"
    }
   ],
   "source": [
    "cnn.evaluate(x_test,y_test)"
   ]
  },
  {
   "cell_type": "code",
   "execution_count": 29,
   "id": "e309c06b",
   "metadata": {},
   "outputs": [
    {
     "name": "stdout",
     "output_type": "stream",
     "text": [
      "Model: \"sequential_3\"\n",
      "_________________________________________________________________\n",
      " Layer (type)                Output Shape              Param #   \n",
      "=================================================================\n",
      " conv2d (Conv2D)             (None, 61, 61, 32)        544       \n",
      "                                                                 \n",
      " max_pooling2d (MaxPooling2D  (None, 30, 30, 32)       0         \n",
      " )                                                               \n",
      "                                                                 \n",
      " conv2d_1 (Conv2D)           (None, 28, 28, 64)        18496     \n",
      "                                                                 \n",
      " max_pooling2d_1 (MaxPooling  (None, 14, 14, 64)       0         \n",
      " 2D)                                                             \n",
      "                                                                 \n",
      " flatten (Flatten)           (None, 12544)             0         \n",
      "                                                                 \n",
      " dense_10 (Dense)            (None, 64)                802880    \n",
      "                                                                 \n",
      " dense_11 (Dense)            (None, 10)                650       \n",
      "                                                                 \n",
      "=================================================================\n",
      "Total params: 822,570\n",
      "Trainable params: 822,570\n",
      "Non-trainable params: 0\n",
      "_________________________________________________________________\n"
     ]
    }
   ],
   "source": [
    "cnn.summary()"
   ]
  },
  {
   "cell_type": "code",
   "execution_count": 30,
   "id": "b4ca557e",
   "metadata": {},
   "outputs": [
    {
     "name": "stdout",
     "output_type": "stream",
     "text": [
      "13/13 [==============================] - 1s 47ms/step\n"
     ]
    }
   ],
   "source": [
    "y_pred = cnn.predict(x_test)"
   ]
  },
  {
   "cell_type": "code",
   "execution_count": 31,
   "id": "77998f5b",
   "metadata": {},
   "outputs": [
    {
     "name": "stdout",
     "output_type": "stream",
     "text": [
      "5\n",
      "5.0\n"
     ]
    },
    {
     "data": {
      "image/png": "[encoded data removed]",
      "text/plain": [
       "<Figure size 480x480 with 1 Axes>"
      ]
     },
     "metadata": {},
     "output_type": "display_data"
    }
   ],
   "source": [
    "y_classes = [np.argmax(element) for element in y_pred]\n",
    "roro = random_state=random.randint(0,len(x_test) - 1)\n",
    "img = x_test[roro].reshape(64,64,1)\n",
    "plt.matshow(img,cmap = 'gray')\n",
    "print(y_classes[roro])\n",
    "print(y_test[roro])"
   ]
  },
  {
   "cell_type": "markdown",
   "id": "7e28a261",
   "metadata": {},
   "source": [
    "## CNN with RGB"
   ]
  },
  {
   "cell_type": "code",
   "execution_count": 32,
   "id": "d1e72cb9",
   "metadata": {},
   "outputs": [],
   "source": [
    "\n",
    "def get_imgCnn(data_path):\n",
    "    # Getting image array from path:\n",
    "    img = imread(data_path)\n",
    "    img = resize(img, (img_size, img_size,3))\n",
    "    return img"
   ]
  },
  {
   "cell_type": "code",
   "execution_count": 33,
   "id": "21f284c9",
   "metadata": {},
   "outputs": [],
   "source": [
    "def get_datasetCnn(dataset_path='Dataset'):\n",
    "    # Getting all data from data path:\n",
    "    labels = listdir(dataset_path)  # Geting labels\n",
    "    X = []\n",
    "    Y = []\n",
    "    Z = []\n",
    "    for i, label in enumerate(labels):\n",
    "        datas_path = dataset_path + '/' + label\n",
    "        for data in listdir(datas_path):\n",
    "            img = get_imgCnn(datas_path + '/' + data)\n",
    "            #plt.matshow(img)\n",
    "            X.append(img)\n",
    "            Z.append(img)\n",
    "            Y.append(i)\n",
    "        # Create dateset:\n",
    "    X = np.array(X).astype('float32')\n",
    "    Y = np.array(Y).astype('float32')\n",
    "    X *=255.0\n",
    "    # calculate average for all images\n",
    "    m=X.mean()\n",
    "    return X,Y,Z,m"
   ]
  },
  {
   "cell_type": "code",
   "execution_count": 34,
   "id": "28c59c65",
   "metadata": {},
   "outputs": [],
   "source": [
    "Xcnn ,Ycnn , img , m =  get_datasetCnn(dataset_path='D:\\Sign-Language-Digits-Dataset-master\\Dataset')\n",
    "\n",
    "x_train2, x_test2, y_train2, y_test2  = train_test_split(Xcnn, Ycnn, test_size=test_size, random_state=32)\n"
   ]
  },
  {
   "cell_type": "code",
   "execution_count": 35,
   "id": "bfe8746f",
   "metadata": {},
   "outputs": [
    {
     "name": "stdout",
     "output_type": "stream",
     "text": [
      "(64, 64, 3)\n"
     ]
    }
   ],
   "source": [
    "print(x_train2[0].shape)"
   ]
  },
  {
   "cell_type": "code",
   "execution_count": 36,
   "id": "943e969d",
   "metadata": {},
   "outputs": [],
   "source": [
    "#Subtract this averages from each image ,Divide each image by 255\n",
    "x_train2 = x_train2 -m\n",
    "x_train2 /=255.0\n",
    "x_test2 = x_test2 -m\n",
    "x_test2 /=255.0"
   ]
  },
  {
   "cell_type": "code",
   "execution_count": 37,
   "id": "4f6bce97",
   "metadata": {},
   "outputs": [],
   "source": [
    "cnn = models.Sequential([\n",
    "    \n",
    "    layers.Conv2D(filters=32, kernel_size=(4, 4), activation='relu', input_shape=(64, 64 ,3)),\n",
    "    layers.MaxPooling2D((2, 2)),\n",
    "    \n",
    "    layers.Conv2D(filters=64, kernel_size=(3, 3), activation='relu'),\n",
    "    layers.MaxPooling2D((2, 2)),\n",
    "    \n",
    "    layers.Flatten(),\n",
    "    layers.Dense(64, activation='relu'),\n",
    "    layers.Dense(10, activation='sigmoid')\n",
    "])"
   ]
  },
  {
   "cell_type": "code",
   "execution_count": 38,
   "id": "bdbc1ab5",
   "metadata": {},
   "outputs": [],
   "source": [
    "cnn.compile(optimizer='adam',\n",
    "              loss='sparse_categorical_crossentropy',\n",
    "              metrics=['accuracy',f1_m])"
   ]
  },
  {
   "cell_type": "code",
   "execution_count": 39,
   "id": "1e10d737",
   "metadata": {},
   "outputs": [
    {
     "name": "stdout",
     "output_type": "stream",
     "text": [
      "Epoch 1/10\n",
      "52/52 [==============================] - 4s 58ms/step - loss: 1.3596 - accuracy: 0.5482 - f1_m: 2.5560\n",
      "Epoch 2/10\n",
      "52/52 [==============================] - 4s 86ms/step - loss: 0.5648 - accuracy: 0.8229 - f1_m: 2.1881\n",
      "Epoch 3/10\n",
      "52/52 [==============================] - 3s 62ms/step - loss: 0.3256 - accuracy: 0.8963 - f1_m: 2.0529\n",
      "Epoch 4/10\n",
      "52/52 [==============================] - 3s 62ms/step - loss: 0.1845 - accuracy: 0.9509 - f1_m: 1.9908\n",
      "Epoch 5/10\n",
      "52/52 [==============================] - 3s 53ms/step - loss: 0.1227 - accuracy: 0.9600 - f1_m: 1.9011\n",
      "Epoch 6/10\n",
      "52/52 [==============================] - 2s 47ms/step - loss: 0.0781 - accuracy: 0.9788 - f1_m: 1.9126\n",
      "Epoch 7/10\n",
      "52/52 [==============================] - 4s 71ms/step - loss: 0.0468 - accuracy: 0.9885 - f1_m: 1.8852\n",
      "Epoch 8/10\n",
      "52/52 [==============================] - 2s 42ms/step - loss: 0.0164 - accuracy: 0.9921 - f1_m: 1.8383\n",
      "Epoch 9/10\n",
      "52/52 [==============================] - 2s 46ms/step - loss: 0.0085 - accuracy: 0.9885 - f1_m: 1.8133\n",
      "Epoch 10/10\n",
      "52/52 [==============================] - 2s 45ms/step - loss: 0.0037 - accuracy: 0.9745 - f1_m: 1.7725\n"
     ]
    },
    {
     "data": {
      "text/plain": [
       "<keras.callbacks.History at 0x1e9b8b02eb0>"
      ]
     },
     "execution_count": 39,
     "metadata": {},
     "output_type": "execute_result"
    }
   ],
   "source": [
    "cnn.fit(x_train2, y_train2, epochs=10)"
   ]
  },
  {
   "cell_type": "code",
   "execution_count": 40,
   "id": "450258ac",
   "metadata": {},
   "outputs": [
    {
     "name": "stdout",
     "output_type": "stream",
     "text": [
      "13/13 [==============================] - 1s 20ms/step - loss: 0.5454 - accuracy: 0.8620 - f1_m: 1.7503\n"
     ]
    },
    {
     "data": {
      "text/plain": [
       "[0.5454487800598145, 0.861985445022583, 1.7503063678741455]"
      ]
     },
     "execution_count": 40,
     "metadata": {},
     "output_type": "execute_result"
    }
   ],
   "source": [
    "cnn.evaluate(x_test2,y_test2)"
   ]
  },
  {
   "cell_type": "code",
   "execution_count": 41,
   "id": "bdae2edf",
   "metadata": {},
   "outputs": [
    {
     "name": "stdout",
     "output_type": "stream",
     "text": [
      "13/13 [==============================] - 1s 35ms/step\n"
     ]
    }
   ],
   "source": [
    "y_pred = cnn.predict(x_test2)"
   ]
  },
  {
   "cell_type": "code",
   "execution_count": 42,
   "id": "1a0420d2",
   "metadata": {},
   "outputs": [],
   "source": [
    "def define_model4():\n",
    "    cn = models.Sequential([\n",
    "    \n",
    "    layers.Conv2D(filters=32, kernel_size=(4, 4), activation='relu', input_shape=(64, 64 ,3)),\n",
    "    layers.MaxPooling2D((2, 2)),\n",
    "    \n",
    "    layers.Conv2D(filters=64, kernel_size=(3, 3), activation='relu'),\n",
    "    layers.MaxPooling2D((2, 2)),\n",
    "    \n",
    "    layers.Flatten(),\n",
    "    layers.Dense(64, activation='relu'),\n",
    "    layers.Dense(10, activation='sigmoid')\n",
    "])\n",
    "\n",
    "    cn.compile(optimizer='adam',\n",
    "              loss='sparse_categorical_crossentropy',\n",
    "              metrics=['accuracy',f1_m])\n",
    "\n",
    "   \n",
    "    return cn\n",
    "\n",
    "# evaluate a model using k-fold cross-validation\n",
    "def evaluate_model_CNN(dataX, dataY, n_folds=5 ,Model = define_model4()):\n",
    "    scores, histories,f11 = list(), list(),list()\n",
    "    # prepare cross validation\n",
    "    kfold = KFold(n_folds, shuffle=True, random_state=1)\n",
    "    # enumerate splits\n",
    "    for train_ix, test_ix in kfold.split(dataX):\n",
    "        # define model\n",
    "        # select rows for train and test\n",
    "        trainX, trainY, testX, testY = dataX[train_ix], dataY[train_ix], dataX[test_ix], dataY[test_ix]\n",
    "        model = Model\n",
    "        model.fit(trainX, trainY, epochs=10)\n",
    "        # fit model\n",
    "        history = model\n",
    "        # evaluate model\n",
    "        _, acc,f1 = model.evaluate(testX,testY)\n",
    "        # stores scores\n",
    "        scores.append(acc)\n",
    "        f11.append(f1)\n",
    "        histories.append(history)\n",
    "    return scores,f11, histories\n"
   ]
  },
  {
   "cell_type": "code",
   "execution_count": 43,
   "id": "4c281764",
   "metadata": {},
   "outputs": [
    {
     "name": "stdout",
     "output_type": "stream",
     "text": [
      "Epoch 1/10\n",
      "43/43 [==============================] - 4s 69ms/step - loss: 34.2151 - accuracy: 0.2598 - f1_m: 2.1792\n",
      "Epoch 2/10\n",
      "43/43 [==============================] - 3s 78ms/step - loss: 0.9836 - accuracy: 0.6769 - f1_m: 2.1254\n",
      "Epoch 3/10\n",
      "43/43 [==============================] - 2s 43ms/step - loss: 0.6265 - accuracy: 0.7999 - f1_m: 2.1384\n",
      "Epoch 4/10\n",
      "43/43 [==============================] - 2s 44ms/step - loss: 0.4278 - accuracy: 0.8566 - f1_m: 2.0019\n",
      "Epoch 5/10\n",
      "43/43 [==============================] - 2s 53ms/step - loss: 0.2938 - accuracy: 0.9127 - f1_m: 2.0043\n",
      "Epoch 6/10\n",
      "43/43 [==============================] - 2s 55ms/step - loss: 0.2046 - accuracy: 0.9410 - f1_m: 1.9566\n",
      "Epoch 7/10\n",
      "43/43 [==============================] - 2s 43ms/step - loss: 0.1307 - accuracy: 0.9498 - f1_m: 1.9228\n",
      "Epoch 8/10\n",
      "43/43 [==============================] - 2s 45ms/step - loss: 0.0847 - accuracy: 0.9672 - f1_m: 1.8959\n",
      "Epoch 9/10\n",
      "43/43 [==============================] - 3s 80ms/step - loss: 0.0658 - accuracy: 0.9811 - f1_m: 1.8908\n",
      "Epoch 10/10\n",
      "43/43 [==============================] - 2s 49ms/step - loss: 0.0341 - accuracy: 0.9702 - f1_m: 1.8451\n",
      "22/22 [==============================] - 1s 14ms/step - loss: 0.7023 - accuracy: 0.7980 - f1_m: 1.7757\n",
      "Epoch 1/10\n",
      "43/43 [==============================] - 2s 49ms/step - loss: 0.4553 - accuracy: 0.8647 - f1_m: 1.9462\n",
      "Epoch 2/10\n",
      "43/43 [==============================] - 2s 44ms/step - loss: 0.1731 - accuracy: 0.9309 - f1_m: 1.9036\n",
      "Epoch 3/10\n",
      "43/43 [==============================] - 2s 46ms/step - loss: 0.0901 - accuracy: 0.9564 - f1_m: 1.8842\n",
      "Epoch 4/10\n",
      "43/43 [==============================] - 2s 46ms/step - loss: 0.0394 - accuracy: 0.9462 - f1_m: 1.8562\n",
      "Epoch 5/10\n",
      "43/43 [==============================] - 3s 59ms/step - loss: 0.0200 - accuracy: 0.9389 - f1_m: 1.8273\n",
      "Epoch 6/10\n",
      "43/43 [==============================] - 4s 91ms/step - loss: 0.0458 - accuracy: 0.9447 - f1_m: 1.8504\n",
      "Epoch 7/10\n",
      "43/43 [==============================] - 2s 55ms/step - loss: 0.0127 - accuracy: 0.9331 - f1_m: 1.8205\n",
      "Epoch 8/10\n",
      "43/43 [==============================] - 2s 47ms/step - loss: 0.0219 - accuracy: 0.9455 - f1_m: 1.8414\n",
      "Epoch 9/10\n",
      "43/43 [==============================] - 2s 49ms/step - loss: 0.0144 - accuracy: 0.9360 - f1_m: 1.8275\n",
      "Epoch 10/10\n",
      "43/43 [==============================] - 3s 63ms/step - loss: 0.0031 - accuracy: 0.9164 - f1_m: 1.8123\n",
      "22/22 [==============================] - 1s 24ms/step - loss: 0.1455 - accuracy: 0.8268 - f1_m: 1.7426\n",
      "Epoch 1/10\n",
      "43/43 [==============================] - 3s 68ms/step - loss: 0.1272 - accuracy: 0.9149 - f1_m: 1.8429\n",
      "Epoch 2/10\n",
      "43/43 [==============================] - 3s 72ms/step - loss: 0.0894 - accuracy: 0.9135 - f1_m: 1.8463\n",
      "Epoch 3/10\n",
      "43/43 [==============================] - 2s 47ms/step - loss: 0.1814 - accuracy: 0.9309 - f1_m: 1.8680\n",
      "Epoch 4/10\n",
      "43/43 [==============================] - 2s 49ms/step - loss: 0.0704 - accuracy: 0.9105 - f1_m: 1.8169\n",
      "Epoch 5/10\n",
      "43/43 [==============================] - 2s 44ms/step - loss: 0.0258 - accuracy: 0.9135 - f1_m: 1.8183\n",
      "Epoch 6/10\n",
      "43/43 [==============================] - 2s 53ms/step - loss: 0.0047 - accuracy: 0.8880 - f1_m: 1.7885\n",
      "Epoch 7/10\n",
      "43/43 [==============================] - 3s 65ms/step - loss: 0.0019 - accuracy: 0.8407 - f1_m: 1.7726\n",
      "Epoch 8/10\n",
      "43/43 [==============================] - 4s 94ms/step - loss: 8.3926e-04 - accuracy: 0.8276 - f1_m: 1.7646\n",
      "Epoch 9/10\n",
      "43/43 [==============================] - 2s 56ms/step - loss: 5.4110e-04 - accuracy: 0.8145 - f1_m: 1.7590\n",
      "Epoch 10/10\n",
      "43/43 [==============================] - 2s 48ms/step - loss: 4.7112e-04 - accuracy: 0.8000 - f1_m: 1.7503\n",
      "22/22 [==============================] - 1s 22ms/step - loss: 0.0312 - accuracy: 0.7525 - f1_m: 1.7157\n"
     ]
    }
   ],
   "source": [
    "scoresModel3 ,f11, histories3 = evaluate_model_CNN(Xcnn ,Ycnn,3 )\n"
   ]
  },
  {
   "cell_type": "code",
   "execution_count": 44,
   "id": "5b3950c8",
   "metadata": {},
   "outputs": [
    {
     "name": "stdout",
     "output_type": "stream",
     "text": [
      "Model: \"sequential_4\"\n",
      "_________________________________________________________________\n",
      " Layer (type)                Output Shape              Param #   \n",
      "=================================================================\n",
      " conv2d_2 (Conv2D)           (None, 61, 61, 32)        1568      \n",
      "                                                                 \n",
      " max_pooling2d_2 (MaxPooling  (None, 30, 30, 32)       0         \n",
      " 2D)                                                             \n",
      "                                                                 \n",
      " conv2d_3 (Conv2D)           (None, 28, 28, 64)        18496     \n",
      "                                                                 \n",
      " max_pooling2d_3 (MaxPooling  (None, 14, 14, 64)       0         \n",
      " 2D)                                                             \n",
      "                                                                 \n",
      " flatten_1 (Flatten)         (None, 12544)             0         \n",
      "                                                                 \n",
      " dense_12 (Dense)            (None, 64)                802880    \n",
      "                                                                 \n",
      " dense_13 (Dense)            (None, 10)                650       \n",
      "                                                                 \n",
      "=================================================================\n",
      "Total params: 823,594\n",
      "Trainable params: 823,594\n",
      "Non-trainable params: 0\n",
      "_________________________________________________________________\n"
     ]
    }
   ],
   "source": [
    "cnn.summary()"
   ]
  },
  {
   "cell_type": "code",
   "execution_count": 45,
   "id": "343fe08b",
   "metadata": {},
   "outputs": [
    {
     "name": "stdout",
     "output_type": "stream",
     "text": [
      "[0.7979651093482971, 0.8267831206321716, 0.7525473237037659]\n",
      "[1.7757039070129395, 1.7426003217697144, 1.7156798839569092]\n",
      "[<keras.engine.sequential.Sequential object at 0x000001E9B8E80400>, <keras.engine.sequential.Sequential object at 0x000001E9B8E80400>, <keras.engine.sequential.Sequential object at 0x000001E9B8E80400>]\n"
     ]
    }
   ],
   "source": [
    "print(scoresModel3)\n",
    "print(f11)\n",
    "print(histories3)"
   ]
  },
  {
   "cell_type": "code",
   "execution_count": 48,
   "id": "d608288e",
   "metadata": {},
   "outputs": [
    {
     "data": {
      "text/plain": [
       "SVC(kernel='linear', probability=True, random_state=42)"
      ]
     },
     "execution_count": 48,
     "metadata": {},
     "output_type": "execute_result"
    }
   ],
   "source": [
    "from sklearn.svm import SVC\n",
    "\n",
    "svm = SVC(kernel='linear', probability=True, random_state=42)\n",
    "x_train2  = x_train2.reshape(len(x_train2),64*64*3)\n",
    "# fit model\n",
    "svm.fit(x_train2, y_train2)\n"
   ]
  },
  {
   "cell_type": "code",
   "execution_count": 52,
   "id": "137ba695",
   "metadata": {},
   "outputs": [
    {
     "name": "stdout",
     "output_type": "stream",
     "text": [
      "Model SVM accuracy is:  0.8111380145278451\n"
     ]
    }
   ],
   "source": [
    "from sklearn.metrics import accuracy_score\n",
    "x_test2 = x_test2.reshape(len(x_test2),64*64*3)\n",
    "y_predd = svm.predict(x_test2)\n",
    "\n",
    "# calculate accuracy\n",
    "accuracy = accuracy_score(y_test2, y_predd)\n",
    "print('Model SVM accuracy is: ', accuracy)\n"
   ]
  },
  {
   "cell_type": "code",
   "execution_count": 53,
   "id": "f9937c42",
   "metadata": {},
   "outputs": [
    {
     "name": "stdout",
     "output_type": "stream",
     "text": [
      "[0.7979651093482971, 0.8267831206321716, 0.7525473237037659]\n"
     ]
    }
   ],
   "source": [
    "print(scoresModel3)"
   ]
  },
  {
   "cell_type": "code",
   "execution_count": null,
   "id": "7d7c23e1",
   "metadata": {},
   "outputs": [],
   "source": []
  }
 ],
 "metadata": {
  "kernelspec": {
   "display_name": "Python 3 (ipykernel)",
   "language": "python",
   "name": "python3"
  },
  "language_info": {
   "codemirror_mode": {
    "name": "ipython",
    "version": 3
   },
   "file_extension": ".py",
   "mimetype": "text/x-python",
   "name": "python",
   "nbconvert_exporter": "python",
   "pygments_lexer": "ipython3",
   "version": "3.9.13"
  },
  "vscode": {
   "interpreter": {
    "hash": "4fd2609a31ccce37eb6c2c21abac1ac753f697883cf8c1e72a554f0bec890428"
   }
  }
 },
 "nbformat": 4,
 "nbformat_minor": 5
}
