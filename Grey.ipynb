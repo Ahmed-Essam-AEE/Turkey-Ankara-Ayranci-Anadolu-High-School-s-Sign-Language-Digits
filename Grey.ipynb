{
 "cells": [
  {
   "cell_type": "code",
   "execution_count": 1,
   "id": "a2fe3704-23c4-4b74-ae18-665a3e239536",
   "metadata": {},
   "outputs": [],
   "source": [
    "import tensorflow as ts\n",
    "from tensorflow import keras\n",
    "import matplotlib.pyplot as plt\n",
    "%matplotlib inline\n",
    "import numpy as np\n",
    "import pandas as pd\n",
    "import seaborn as sn\n",
    "import os\n",
    "os.environ['KMP_DUPLICATE_LIB_OK']='True'\n",
    "from PIL import Image\n",
    "import warnings\n",
    "warnings.filterwarnings('ignore')\n",
    "import random\n",
    "random.seed(10)\n",
    "from os import listdir\n",
    "from keras.utils import to_categorical\n",
    "from skimage.io import imread\n",
    "from os import listdir\n",
    "from matplotlib.pyplot import imread\n",
    "from skimage.transform import resize\n",
    "from sklearn.model_selection import train_test_split"
   ]
  },
  {
   "cell_type": "code",
   "execution_count": 4,
   "id": "04604ed0-effd-47b2-b515-d58020410c60",
   "metadata": {},
   "outputs": [],
   "source": [
    "# Settings:\n",
    "img_size = 64\n",
    "grayscale_images = True\n",
    "num_class = 10\n",
    "test_size = 0.2"
   ]
  },
  {
   "cell_type": "code",
   "execution_count": 5,
   "id": "f797ad7a-0cc7-4d35-ad55-6bf7e27cc276",
   "metadata": {},
   "outputs": [],
   "source": [
    "def get_img(data_path):\n",
    "    # Getting image array from path:\n",
    "    img = imread(data_path)\n",
    "    img = resize(img, (img_size, img_size, 1 if grayscale_images else 3))\n",
    "    return img\n",
    "\n",
    "def get_img_RGB(data_path):\n",
    "    # Getting image array from path:\n",
    "    img = imread(data_path)\n",
    "    img = resize(img, (img_size, img_size, 3))\n",
    "    return img"
   ]
  },
  {
   "cell_type": "code",
   "execution_count": 6,
   "id": "fd35a72a-540d-4c62-b29f-022ae28a5353",
   "metadata": {},
   "outputs": [],
   "source": [
    "def get_dataset(dataset_path='Dataset'):\n",
    "    \n",
    "    # Getting all data from data path\n",
    "    labels = listdir(dataset_path)  # Geting labels\n",
    "    X = []\n",
    "    Y = []\n",
    "    Z = []\n",
    "    for i, label in enumerate(labels):\n",
    "        datas_path = dataset_path + '/' + label\n",
    "        for data in listdir(datas_path):\n",
    "            img = get_img(datas_path + '/' + data)\n",
    "            #plt.matshow(img)\n",
    "            X.append(img)\n",
    "            Z.append(img)\n",
    "            Y.append(i)\n",
    "        # Create dateset:\n",
    "    #X = 1 - np.array(X).astype('float32') / 255.\n",
    "    X = np.array(X).astype('float32')\n",
    "    Y = np.array(Y).astype('float32')\n",
    "    #Y = to_categorical(Y, num_class)\n",
    "    X, X_test, Y, Y_test = train_test_split(X, Y, test_size=test_size, random_state=None)\n",
    "    return X, X_test, Y, Y_test,Z"
   ]
  },
  {
   "cell_type": "code",
   "execution_count": 7,
   "id": "060cc5b5-4b3b-47be-a97e-1f8cba793ee1",
   "metadata": {},
   "outputs": [
    {
     "name": "stdout",
     "output_type": "stream",
     "text": [
      "[0. 1. 8. 4. 9. 8. 0. 2. 0. 7. 1. 1. 2. 1. 3. 0. 4. 9. 1. 9. 1. 8. 0. 7.\n",
      " 9. 5. 6. 6. 7. 5. 0. 9. 2. 0. 1. 5. 0. 2. 2. 4. 5. 0. 9. 0. 5. 8. 0. 3.\n",
      " 5. 8. 8. 7. 8. 5. 8. 7. 2. 7. 2. 9. 6. 3. 2. 9. 1. 1. 4. 1. 0. 8. 9. 1.\n",
      " 4. 5. 0. 1. 6. 5. 8. 0. 7. 7. 0. 1. 9. 9. 5. 4. 9. 1. 3. 6. 8. 0. 1. 1.\n",
      " 6. 2. 6. 2. 2. 3. 4. 3. 7. 5. 4. 3. 7. 3. 3. 2. 3. 3. 6. 9. 4. 5. 9. 3.\n",
      " 6. 0. 5. 3. 3. 4. 7. 5. 9. 3. 1. 0. 1. 6. 2. 3. 9. 6. 2. 8. 5. 9. 1. 0.\n",
      " 2. 5. 9. 7. 4. 2. 4. 2. 7. 4. 7. 5. 8. 4. 1. 8. 4. 4. 6. 0. 3. 5. 6. 8.\n",
      " 9. 3. 1. 3. 6. 3. 3. 5. 1. 8. 0. 1. 1. 2. 9. 8. 2. 2. 8. 5. 1. 4. 2. 6.\n",
      " 6. 7. 8. 5. 2. 7. 0. 9. 6. 2. 1. 6. 6. 0. 6. 9. 0. 4. 7. 1. 7. 8. 9. 6.\n",
      " 1. 4. 3. 9. 3. 2. 1. 6. 5. 0. 9. 8. 0. 3. 2. 7. 8. 0. 1. 1. 2. 6. 2. 2.\n",
      " 0. 5. 9. 7. 5. 4. 8. 2. 9. 1. 1. 9. 5. 5. 7. 4. 4. 7. 8. 4. 8. 0. 4. 6.\n",
      " 6. 2. 4. 6. 3. 4. 4. 7. 6. 0. 7. 2. 4. 3. 2. 1. 4. 0. 5. 9. 6. 0. 5. 7.\n",
      " 5. 0. 3. 8. 3. 9. 0. 8. 3. 2. 6. 8. 7. 7. 4. 4. 6. 7. 9. 7. 8. 4. 1. 9.\n",
      " 5. 5. 6. 4. 1. 3. 1. 3. 8. 0. 8. 5. 7. 7. 3. 7. 1. 9. 6. 4. 4. 2. 9. 2.\n",
      " 9. 9. 1. 4. 6. 0. 4. 8. 9. 6. 7. 3. 5. 4. 9. 5. 5. 4. 5. 6. 4. 1. 8. 4.\n",
      " 9. 1. 4. 5. 2. 6. 2. 2. 8. 6. 4. 3. 9. 7. 8. 2. 2. 4. 7. 7. 8. 5. 4. 1.\n",
      " 8. 8. 5. 6. 5. 4. 4. 6. 7. 3. 7. 6. 3. 4. 8. 2. 3. 9. 0. 8. 9. 1. 7. 1.\n",
      " 9. 1. 0. 6. 7.]\n"
     ]
    }
   ],
   "source": [
    "x_train, x_test, y_train, y_test , img = get_dataset('D:\\Sign-Language-Digits-Dataset-master\\Dataset')\n",
    "print(y_test)"
   ]
  },
  {
   "cell_type": "code",
   "execution_count": 9,
   "id": "77782edd-2638-4400-979b-2f093f3fcfd2",
   "metadata": {},
   "outputs": [
    {
     "name": "stdout",
     "output_type": "stream",
     "text": [
      "(1649, 4096)\n",
      "(1649, 4096)\n"
     ]
    }
   ],
   "source": [
    "print(x_train.shape)\n",
    "x_train = x_train.reshape(len(x_train),64*64)\n",
    "x_test = x_test.reshape(len(x_test),64*64)\n",
    "print(x_train.shape)"
   ]
  },
  {
   "cell_type": "code",
   "execution_count": 33,
   "id": "27824b29-66fa-471a-9238-9f7841b18480",
   "metadata": {},
   "outputs": [
    {
     "name": "stdout",
     "output_type": "stream",
     "text": [
      "Epoch 1/140\n",
      "52/52 [==============================] - 5s 24ms/step - loss: 2.3835 - accuracy: 0.1267\n",
      "Epoch 2/140\n",
      "52/52 [==============================] - 1s 25ms/step - loss: 2.1852 - accuracy: 0.2153\n",
      "Epoch 3/140\n",
      "52/52 [==============================] - 1s 24ms/step - loss: 1.9765 - accuracy: 0.3190\n",
      "Epoch 4/140\n",
      "52/52 [==============================] - 1s 25ms/step - loss: 1.7197 - accuracy: 0.4294\n",
      "Epoch 5/140\n",
      "52/52 [==============================] - 1s 25ms/step - loss: 1.5122 - accuracy: 0.4797\n",
      "Epoch 6/140\n",
      "52/52 [==============================] - 1s 24ms/step - loss: 1.3269 - accuracy: 0.5549\n",
      "Epoch 7/140\n",
      "52/52 [==============================] - 1s 26ms/step - loss: 1.3101 - accuracy: 0.5300\n",
      "Epoch 8/140\n",
      "52/52 [==============================] - 1s 27ms/step - loss: 1.1748 - accuracy: 0.6040\n",
      "Epoch 9/140\n",
      "52/52 [==============================] - 1s 27ms/step - loss: 1.0236 - accuracy: 0.6598\n",
      "Epoch 10/140\n",
      "52/52 [==============================] - 1s 24ms/step - loss: 1.0163 - accuracy: 0.6562\n",
      "Epoch 11/140\n",
      "52/52 [==============================] - 1s 24ms/step - loss: 0.9425 - accuracy: 0.6719\n",
      "Epoch 12/140\n",
      "52/52 [==============================] - 1s 23ms/step - loss: 0.8868 - accuracy: 0.7035\n",
      "Epoch 13/140\n",
      "52/52 [==============================] - 1s 25ms/step - loss: 0.8707 - accuracy: 0.7168\n",
      "Epoch 14/140\n",
      "52/52 [==============================] - 1s 25ms/step - loss: 0.7795 - accuracy: 0.7417\n",
      "Epoch 15/140\n",
      "52/52 [==============================] - 1s 24ms/step - loss: 0.7756 - accuracy: 0.7489\n",
      "Epoch 16/140\n",
      "52/52 [==============================] - 1s 27ms/step - loss: 0.6988 - accuracy: 0.7805\n",
      "Epoch 17/140\n",
      "52/52 [==============================] - 1s 23ms/step - loss: 0.7126 - accuracy: 0.7665\n",
      "Epoch 18/140\n",
      "52/52 [==============================] - 1s 22ms/step - loss: 0.7807 - accuracy: 0.7295\n",
      "Epoch 19/140\n",
      "52/52 [==============================] - 1s 22ms/step - loss: 0.6578 - accuracy: 0.7823\n",
      "Epoch 20/140\n",
      "52/52 [==============================] - 1s 23ms/step - loss: 0.7046 - accuracy: 0.7683\n",
      "Epoch 21/140\n",
      "52/52 [==============================] - 1s 27ms/step - loss: 0.5936 - accuracy: 0.8138\n",
      "Epoch 22/140\n",
      "52/52 [==============================] - 2s 31ms/step - loss: 0.5876 - accuracy: 0.8102\n",
      "Epoch 23/140\n",
      "52/52 [==============================] - 1s 23ms/step - loss: 0.6112 - accuracy: 0.7956\n",
      "Epoch 24/140\n",
      "52/52 [==============================] - 1s 23ms/step - loss: 0.5791 - accuracy: 0.8096\n",
      "Epoch 25/140\n",
      "52/52 [==============================] - 1s 23ms/step - loss: 0.5447 - accuracy: 0.8241\n",
      "Epoch 26/140\n",
      "52/52 [==============================] - 1s 22ms/step - loss: 0.5974 - accuracy: 0.8065\n",
      "Epoch 27/140\n",
      "52/52 [==============================] - 1s 22ms/step - loss: 0.5167 - accuracy: 0.8302\n",
      "Epoch 28/140\n",
      "52/52 [==============================] - 1s 22ms/step - loss: 0.4752 - accuracy: 0.8435\n",
      "Epoch 29/140\n",
      "52/52 [==============================] - 1s 23ms/step - loss: 0.5329 - accuracy: 0.8253\n",
      "Epoch 30/140\n",
      "52/52 [==============================] - 1s 22ms/step - loss: 0.5574 - accuracy: 0.8078\n",
      "Epoch 31/140\n",
      "52/52 [==============================] - 1s 22ms/step - loss: 0.4997 - accuracy: 0.8405\n",
      "Epoch 32/140\n",
      "52/52 [==============================] - 1s 22ms/step - loss: 0.4812 - accuracy: 0.8429\n",
      "Epoch 33/140\n",
      "52/52 [==============================] - 1s 24ms/step - loss: 0.4637 - accuracy: 0.8411\n",
      "Epoch 34/140\n",
      "52/52 [==============================] - 1s 24ms/step - loss: 0.4373 - accuracy: 0.8551\n",
      "Epoch 35/140\n",
      "52/52 [==============================] - 1s 23ms/step - loss: 0.4083 - accuracy: 0.8666\n",
      "Epoch 36/140\n",
      "52/52 [==============================] - 1s 23ms/step - loss: 0.4590 - accuracy: 0.8551\n",
      "Epoch 37/140\n",
      "52/52 [==============================] - 1s 24ms/step - loss: 0.4749 - accuracy: 0.8351\n",
      "Epoch 38/140\n",
      "52/52 [==============================] - 1s 23ms/step - loss: 0.3673 - accuracy: 0.8793\n",
      "Epoch 39/140\n",
      "52/52 [==============================] - 1s 22ms/step - loss: 0.3292 - accuracy: 0.8999\n",
      "Epoch 40/140\n",
      "52/52 [==============================] - 1s 22ms/step - loss: 0.4123 - accuracy: 0.8575\n",
      "Epoch 41/140\n",
      "52/52 [==============================] - 1s 22ms/step - loss: 0.3848 - accuracy: 0.8666\n",
      "Epoch 42/140\n",
      "52/52 [==============================] - 1s 23ms/step - loss: 0.4814 - accuracy: 0.8429\n",
      "Epoch 43/140\n",
      "52/52 [==============================] - 1s 23ms/step - loss: 0.3803 - accuracy: 0.8733\n",
      "Epoch 44/140\n",
      "52/52 [==============================] - 1s 23ms/step - loss: 0.3934 - accuracy: 0.8690\n",
      "Epoch 45/140\n",
      "52/52 [==============================] - 1s 22ms/step - loss: 0.3503 - accuracy: 0.8884\n",
      "Epoch 46/140\n",
      "52/52 [==============================] - 1s 22ms/step - loss: 0.3090 - accuracy: 0.8939\n",
      "Epoch 47/140\n",
      "52/52 [==============================] - 1s 23ms/step - loss: 0.3104 - accuracy: 0.9024\n",
      "Epoch 48/140\n",
      "52/52 [==============================] - 1s 22ms/step - loss: 0.4040 - accuracy: 0.8605\n",
      "Epoch 49/140\n",
      "52/52 [==============================] - 1s 22ms/step - loss: 0.3453 - accuracy: 0.8866\n",
      "Epoch 50/140\n",
      "52/52 [==============================] - 1s 22ms/step - loss: 0.3170 - accuracy: 0.8927\n",
      "Epoch 51/140\n",
      "52/52 [==============================] - 1s 23ms/step - loss: 0.3006 - accuracy: 0.9005\n",
      "Epoch 52/140\n",
      "52/52 [==============================] - 1s 22ms/step - loss: 0.2536 - accuracy: 0.9193\n",
      "Epoch 53/140\n",
      "52/52 [==============================] - 1s 22ms/step - loss: 0.3189 - accuracy: 0.8872\n",
      "Epoch 54/140\n",
      "52/52 [==============================] - 1s 23ms/step - loss: 0.3174 - accuracy: 0.8939\n",
      "Epoch 55/140\n",
      "52/52 [==============================] - 1s 22ms/step - loss: 0.2416 - accuracy: 0.9181\n",
      "Epoch 56/140\n",
      "52/52 [==============================] - 1s 23ms/step - loss: 0.2889 - accuracy: 0.9048\n",
      "Epoch 57/140\n",
      "52/52 [==============================] - 1s 23ms/step - loss: 0.2405 - accuracy: 0.9218\n",
      "Epoch 58/140\n",
      "52/52 [==============================] - 1s 22ms/step - loss: 0.2864 - accuracy: 0.8969\n",
      "Epoch 59/140\n",
      "52/52 [==============================] - 1s 22ms/step - loss: 0.2828 - accuracy: 0.9005\n",
      "Epoch 60/140\n",
      "52/52 [==============================] - 1s 23ms/step - loss: 0.2770 - accuracy: 0.8975\n",
      "Epoch 61/140\n",
      "52/52 [==============================] - 1s 23ms/step - loss: 0.3234 - accuracy: 0.8914\n",
      "Epoch 62/140\n",
      "52/52 [==============================] - 1s 22ms/step - loss: 0.2141 - accuracy: 0.9278\n",
      "Epoch 63/140\n",
      "52/52 [==============================] - 1s 23ms/step - loss: 0.3498 - accuracy: 0.8684\n",
      "Epoch 64/140\n",
      "52/52 [==============================] - 1s 22ms/step - loss: 0.2641 - accuracy: 0.9078\n",
      "Epoch 65/140\n",
      "52/52 [==============================] - 1s 23ms/step - loss: 0.2537 - accuracy: 0.9109\n",
      "Epoch 66/140\n",
      "52/52 [==============================] - 1s 22ms/step - loss: 0.2153 - accuracy: 0.9303\n",
      "Epoch 67/140\n",
      "52/52 [==============================] - 1s 22ms/step - loss: 0.2003 - accuracy: 0.9272\n",
      "Epoch 68/140\n",
      "52/52 [==============================] - 1s 22ms/step - loss: 0.2472 - accuracy: 0.9133\n",
      "Epoch 69/140\n",
      "52/52 [==============================] - 1s 22ms/step - loss: 0.1842 - accuracy: 0.9491\n",
      "Epoch 70/140\n",
      "52/52 [==============================] - 1s 22ms/step - loss: 0.2019 - accuracy: 0.9327\n",
      "Epoch 71/140\n",
      "52/52 [==============================] - 1s 24ms/step - loss: 0.1852 - accuracy: 0.9381\n",
      "Epoch 72/140\n",
      "52/52 [==============================] - 1s 22ms/step - loss: 0.2372 - accuracy: 0.9145\n",
      "Epoch 73/140\n",
      "52/52 [==============================] - 1s 22ms/step - loss: 0.3515 - accuracy: 0.8720\n",
      "Epoch 74/140\n",
      "52/52 [==============================] - 1s 22ms/step - loss: 0.1541 - accuracy: 0.9582\n",
      "Epoch 75/140\n",
      "52/52 [==============================] - 1s 22ms/step - loss: 0.1932 - accuracy: 0.9333\n",
      "Epoch 76/140\n",
      "52/52 [==============================] - 1s 22ms/step - loss: 0.2040 - accuracy: 0.9303\n",
      "Epoch 77/140\n",
      "52/52 [==============================] - 1s 23ms/step - loss: 0.2250 - accuracy: 0.9200\n",
      "Epoch 78/140\n",
      "52/52 [==============================] - 1s 24ms/step - loss: 0.2628 - accuracy: 0.8987\n",
      "Epoch 79/140\n",
      "52/52 [==============================] - 1s 23ms/step - loss: 0.1870 - accuracy: 0.9357\n",
      "Epoch 80/140\n",
      "52/52 [==============================] - 1s 23ms/step - loss: 0.2132 - accuracy: 0.9254\n",
      "Epoch 81/140\n",
      "52/52 [==============================] - 1s 23ms/step - loss: 0.2446 - accuracy: 0.9145\n",
      "Epoch 82/140\n",
      "52/52 [==============================] - 1s 23ms/step - loss: 0.2207 - accuracy: 0.9157\n",
      "Epoch 83/140\n",
      "52/52 [==============================] - 1s 22ms/step - loss: 0.1665 - accuracy: 0.9460\n",
      "Epoch 84/140\n",
      "52/52 [==============================] - 1s 23ms/step - loss: 0.1379 - accuracy: 0.9612\n",
      "Epoch 85/140\n",
      "52/52 [==============================] - 1s 22ms/step - loss: 0.1669 - accuracy: 0.9430\n",
      "Epoch 86/140\n",
      "52/52 [==============================] - 1s 22ms/step - loss: 0.1489 - accuracy: 0.9509\n",
      "Epoch 87/140\n",
      "52/52 [==============================] - 1s 22ms/step - loss: 0.1531 - accuracy: 0.9515\n",
      "Epoch 88/140\n",
      "52/52 [==============================] - 1s 22ms/step - loss: 0.1594 - accuracy: 0.9472\n",
      "Epoch 89/140\n",
      "52/52 [==============================] - 1s 22ms/step - loss: 0.1266 - accuracy: 0.9600\n",
      "Epoch 90/140\n",
      "52/52 [==============================] - 1s 22ms/step - loss: 0.1061 - accuracy: 0.9709\n",
      "Epoch 91/140\n",
      "52/52 [==============================] - 1s 23ms/step - loss: 0.1426 - accuracy: 0.9478\n",
      "Epoch 92/140\n",
      "52/52 [==============================] - 1s 22ms/step - loss: 0.1768 - accuracy: 0.9388\n",
      "Epoch 93/140\n",
      "52/52 [==============================] - 1s 22ms/step - loss: 0.1394 - accuracy: 0.9545\n",
      "Epoch 94/140\n",
      "52/52 [==============================] - 1s 23ms/step - loss: 0.0939 - accuracy: 0.9751\n",
      "Epoch 95/140\n",
      "52/52 [==============================] - 1s 22ms/step - loss: 0.1404 - accuracy: 0.9539\n",
      "Epoch 96/140\n",
      "52/52 [==============================] - 1s 22ms/step - loss: 0.1274 - accuracy: 0.9563\n",
      "Epoch 97/140\n",
      "52/52 [==============================] - 1s 21ms/step - loss: 0.1845 - accuracy: 0.9309\n",
      "Epoch 98/140\n",
      "52/52 [==============================] - 1s 24ms/step - loss: 0.1751 - accuracy: 0.9375\n",
      "Epoch 99/140\n",
      "52/52 [==============================] - 1s 23ms/step - loss: 0.1097 - accuracy: 0.9618\n",
      "Epoch 100/140\n",
      "52/52 [==============================] - 1s 21ms/step - loss: 0.0837 - accuracy: 0.9782\n",
      "Epoch 101/140\n",
      "52/52 [==============================] - 1s 22ms/step - loss: 0.1207 - accuracy: 0.9600\n",
      "Epoch 102/140\n",
      "52/52 [==============================] - 1s 22ms/step - loss: 0.1888 - accuracy: 0.9290\n",
      "Epoch 103/140\n",
      "52/52 [==============================] - 1s 22ms/step - loss: 0.1394 - accuracy: 0.9497\n",
      "Epoch 104/140\n",
      "52/52 [==============================] - 2s 30ms/step - loss: 0.1193 - accuracy: 0.9618\n",
      "Epoch 105/140\n",
      "52/52 [==============================] - 1s 25ms/step - loss: 0.0813 - accuracy: 0.9727\n",
      "Epoch 106/140\n",
      "52/52 [==============================] - 1s 22ms/step - loss: 0.0832 - accuracy: 0.9788\n",
      "Epoch 107/140\n",
      "52/52 [==============================] - 1s 23ms/step - loss: 0.1681 - accuracy: 0.9400\n",
      "Epoch 108/140\n",
      "52/52 [==============================] - 1s 24ms/step - loss: 0.2358 - accuracy: 0.9121\n",
      "Epoch 109/140\n",
      "52/52 [==============================] - 2s 31ms/step - loss: 0.3738 - accuracy: 0.8751\n",
      "Epoch 110/140\n",
      "52/52 [==============================] - 1s 24ms/step - loss: 0.2584 - accuracy: 0.9048\n",
      "Epoch 111/140\n",
      "52/52 [==============================] - 1s 20ms/step - loss: 0.0900 - accuracy: 0.9763\n",
      "Epoch 112/140\n",
      "52/52 [==============================] - 1s 23ms/step - loss: 0.0736 - accuracy: 0.9812\n",
      "Epoch 113/140\n",
      "52/52 [==============================] - 2s 35ms/step - loss: 0.0562 - accuracy: 0.9867\n",
      "Epoch 114/140\n",
      "52/52 [==============================] - 1s 23ms/step - loss: 0.0936 - accuracy: 0.9709\n",
      "Epoch 115/140\n",
      "52/52 [==============================] - 1s 22ms/step - loss: 0.0668 - accuracy: 0.9800\n",
      "Epoch 116/140\n",
      "52/52 [==============================] - 1s 23ms/step - loss: 0.0723 - accuracy: 0.9842\n",
      "Epoch 117/140\n",
      "52/52 [==============================] - 1s 24ms/step - loss: 0.1383 - accuracy: 0.9527\n",
      "Epoch 118/140\n",
      "52/52 [==============================] - 1s 23ms/step - loss: 0.0820 - accuracy: 0.9721\n",
      "Epoch 119/140\n",
      "52/52 [==============================] - 1s 22ms/step - loss: 0.2038 - accuracy: 0.9248\n",
      "Epoch 120/140\n",
      "52/52 [==============================] - 1s 23ms/step - loss: 0.3293 - accuracy: 0.8896\n",
      "Epoch 121/140\n",
      "52/52 [==============================] - 1s 23ms/step - loss: 0.1150 - accuracy: 0.9594\n",
      "Epoch 122/140\n",
      "52/52 [==============================] - 1s 23ms/step - loss: 0.0594 - accuracy: 0.9812\n",
      "Epoch 123/140\n",
      "52/52 [==============================] - 1s 22ms/step - loss: 0.0387 - accuracy: 0.9921\n",
      "Epoch 124/140\n",
      "52/52 [==============================] - 1s 22ms/step - loss: 0.0480 - accuracy: 0.9879\n",
      "Epoch 125/140\n",
      "52/52 [==============================] - 1s 22ms/step - loss: 0.0540 - accuracy: 0.9861\n",
      "Epoch 126/140\n",
      "52/52 [==============================] - 1s 22ms/step - loss: 0.0438 - accuracy: 0.9897\n",
      "Epoch 127/140\n",
      "52/52 [==============================] - 1s 22ms/step - loss: 0.0725 - accuracy: 0.9733\n",
      "Epoch 128/140\n",
      "52/52 [==============================] - 1s 23ms/step - loss: 0.0318 - accuracy: 0.9939\n",
      "Epoch 129/140\n",
      "52/52 [==============================] - 1s 23ms/step - loss: 0.0797 - accuracy: 0.9733\n",
      "Epoch 130/140\n",
      "52/52 [==============================] - 1s 23ms/step - loss: 0.0501 - accuracy: 0.9873\n",
      "Epoch 131/140\n",
      "52/52 [==============================] - 1s 22ms/step - loss: 0.0380 - accuracy: 0.9909\n",
      "Epoch 132/140\n",
      "52/52 [==============================] - 1s 23ms/step - loss: 0.0598 - accuracy: 0.9830\n",
      "Epoch 133/140\n",
      "52/52 [==============================] - 1s 24ms/step - loss: 0.0332 - accuracy: 0.9939\n",
      "Epoch 134/140\n",
      "52/52 [==============================] - 1s 24ms/step - loss: 0.1230 - accuracy: 0.9557\n",
      "Epoch 135/140\n",
      "52/52 [==============================] - 1s 23ms/step - loss: 0.3278 - accuracy: 0.8866\n",
      "Epoch 136/140\n",
      "52/52 [==============================] - 1s 24ms/step - loss: 0.2526 - accuracy: 0.9078\n",
      "Epoch 137/140\n",
      "52/52 [==============================] - 1s 23ms/step - loss: 0.0676 - accuracy: 0.9788\n",
      "Epoch 138/140\n",
      "52/52 [==============================] - 1s 23ms/step - loss: 0.0618 - accuracy: 0.9842\n",
      "Epoch 139/140\n",
      "52/52 [==============================] - 1s 23ms/step - loss: 0.0337 - accuracy: 0.9927\n",
      "Epoch 140/140\n",
      "52/52 [==============================] - 1s 24ms/step - loss: 0.0343 - accuracy: 0.9933\n"
     ]
    },
    {
     "data": {
      "text/plain": [
       "<keras.callbacks.History at 0x21d8811fb20>"
      ]
     },
     "execution_count": 33,
     "metadata": {},
     "output_type": "execute_result"
    }
   ],
   "source": [
    "model = keras.Sequential([\n",
    "    keras.layers.Dense(150, input_shape=(64*64,), activation='relu'),\n",
    "    keras.layers.Dense(150, activation='relu'),\n",
    "    keras.layers.Dense(10, activation='sigmoid')\n",
    "])\n",
    "\n",
    "model.compile(optimizer='adam',\n",
    "              loss='sparse_categorical_crossentropy',\n",
    "              metrics=['accuracy'])\n",
    "\n",
    "model.fit(x_train, y_train, epochs=140)"
   ]
  },
  {
   "cell_type": "code",
   "execution_count": 35,
   "id": "0c1e9735-ee48-4440-890b-2cd959f2632a",
   "metadata": {},
   "outputs": [
    {
     "name": "stdout",
     "output_type": "stream",
     "text": [
      "13/13 [==============================] - 0s 10ms/step - loss: 0.8078 - accuracy: 0.8281\n"
     ]
    },
    {
     "data": {
      "text/plain": [
       "[0.8078297972679138, 0.8280871510505676]"
      ]
     },
     "execution_count": 35,
     "metadata": {},
     "output_type": "execute_result"
    }
   ],
   "source": [
    "model.evaluate(x_test,y_test)"
   ]
  },
  {
   "cell_type": "code",
   "execution_count": 36,
   "id": "8a3a37b5-2040-43e6-b4e0-e11be5875e08",
   "metadata": {},
   "outputs": [
    {
     "name": "stdout",
     "output_type": "stream",
     "text": [
      "13/13 [==============================] - 0s 10ms/step\n"
     ]
    },
    {
     "data": {
      "text/plain": [
       "Text(69.0, 0.5, 'Truth')"
      ]
     },
     "execution_count": 36,
     "metadata": {},
     "output_type": "execute_result"
    },
    {
     "data": {
      "image/png": "[encoded data removed]",
      "text/plain": [
       "<Figure size 720x504 with 2 Axes>"
      ]
     },
     "metadata": {
      "needs_background": "light"
     },
     "output_type": "display_data"
    }
   ],
   "source": [
    "y_predicted = model.predict(x_test)\n",
    "y_predicted_labels = [np.argmax(i) for i in y_predicted]\n",
    "cm = ts.math.confusion_matrix(labels=y_test,predictions=y_predicted_labels)\n",
    "\n",
    "plt.figure(figsize = (10,7))\n",
    "sn.heatmap(cm, annot=True, fmt='d')\n",
    "plt.xlabel('Predicted')\n",
    "plt.ylabel('Truth')"
   ]
  },
  {
   "cell_type": "code",
   "execution_count": 17,
   "id": "fe697d14-508b-4d25-9f72-99193114ec45",
   "metadata": {},
   "outputs": [],
   "source": [
    "#lo = y_test.shape[0]\n",
    "#for i in range (lo):\n",
    "#    print(y_test[i] , \"========>\" , y_predicted_labels[i])"
   ]
  },
  {
   "cell_type": "code",
   "execution_count": 45,
   "id": "0c2aa629-adec-45ee-8fc4-52a5a4ea90bd",
   "metadata": {},
   "outputs": [
    {
     "name": "stdout",
     "output_type": "stream",
     "text": [
      "1\n"
     ]
    },
    {
     "data": {
      "image/png": "[encoded data removed]",
      "text/plain": [
       "<Figure size 288x288 with 1 Axes>"
      ]
     },
     "metadata": {
      "needs_background": "light"
     },
     "output_type": "display_data"
    }
   ],
   "source": [
    "roro = random_state=random.randint(0,len(x_test) - 1)\n",
    "img = x_test[roro].reshape(64,64,1)\n",
    "plt.matshow(img,cmap = 'gray')\n",
    "print(y_predicted_labels[roro])"
   ]
  },
  {
   "cell_type": "code",
   "execution_count": null,
   "id": "8532ccf1-55b8-4f69-acac-0433f1b58d8b",
   "metadata": {},
   "outputs": [],
   "source": []
  },
  {
   "cell_type": "code",
   "execution_count": null,
   "id": "a3973ec7-4b2b-414e-b5cf-e84cb3cdb692",
   "metadata": {},
   "outputs": [],
   "source": []
  }
 ],
 "metadata": {
  "kernelspec": {
   "display_name": "Python 3 (ipykernel)",
   "language": "python",
   "name": "python3"
  },
  "language_info": {
   "codemirror_mode": {
    "name": "ipython",
    "version": 3
   },
   "file_extension": ".py",
   "mimetype": "text/x-python",
   "name": "python",
   "nbconvert_exporter": "python",
   "pygments_lexer": "ipython3",
   "version": "3.9.7"
  }
 },
 "nbformat": 4,
 "nbformat_minor": 5
}
