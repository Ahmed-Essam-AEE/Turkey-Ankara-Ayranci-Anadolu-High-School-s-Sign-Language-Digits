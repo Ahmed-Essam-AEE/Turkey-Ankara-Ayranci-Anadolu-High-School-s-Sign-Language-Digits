{
 "cells": [
  {
   "cell_type": "markdown",
   "id": "d77411a8",
   "metadata": {},
   "source": [
    "# Import libraries "
   ]
  },
  {
   "cell_type": "code",
   "execution_count": 4,
   "id": "d549d69b",
   "metadata": {},
   "outputs": [],
   "source": [
    "import tensorflow as ts\n",
    "from tensorflow import keras\n",
    "import matplotlib.pyplot as plt\n",
    "%matplotlib inline\n",
    "import numpy as np\n",
    "import seaborn as sn\n",
    "import os\n",
    "os.environ['KMP_DUPLICATE_LIB_OK']='True'\n",
    "from PIL import Image\n",
    "import warnings\n",
    "warnings.filterwarnings('ignore')\n",
    "import random\n",
    "random.seed(10)\n",
    "from os import listdir\n",
    "from keras.utils import to_categorical\n",
    "from skimage.io import imread\n",
    "from os import listdir\n",
    "from matplotlib.pyplot import imread\n",
    "from skimage.transform import resize\n",
    "from sklearn.model_selection import train_test_split\n",
    "from tensorflow.keras import datasets, layers, models\n",
    "from sklearn.model_selection import KFold"
   ]
  },
  {
   "cell_type": "code",
   "execution_count": 5,
   "id": "04604ed0-effd-47b2-b515-d58020410c60",
   "metadata": {},
   "outputs": [],
   "source": [
    "# Settings:\n",
    "img_size = 64\n",
    "grayscale_images = True\n",
    "num_class = 10\n",
    "test_size = 0.2"
   ]
  },
  {
   "cell_type": "markdown",
   "id": "1ff412a4",
   "metadata": {},
   "source": [
    "# Load Data"
   ]
  },
  {
   "cell_type": "code",
   "execution_count": 6,
   "id": "f797ad7a-0cc7-4d35-ad55-6bf7e27cc276",
   "metadata": {},
   "outputs": [],
   "source": [
    "def get_img(data_path):\n",
    "    # Getting image array from path:\n",
    "    img = imread(data_path)\n",
    "    img = resize(img, (img_size, img_size, 1 if grayscale_images else 3))\n",
    "    return img"
   ]
  },
  {
   "cell_type": "code",
   "execution_count": 7,
   "id": "fd35a72a-540d-4c62-b29f-022ae28a5353",
   "metadata": {},
   "outputs": [],
   "source": [
    "def get_dataset(dataset_path='Dataset'):\n",
    "    # Getting all data from data path:\n",
    "    labels = listdir(dataset_path)  # Geting labels\n",
    "    X = []\n",
    "    Y = []\n",
    "    Z = []\n",
    "    for i, label in enumerate(labels):\n",
    "        datas_path = dataset_path + '/' + label\n",
    "        for data in listdir(datas_path):\n",
    "            img = get_img(datas_path + '/' + data)\n",
    "            #plt.matshow(img)\n",
    "            X.append(img)\n",
    "            Z.append(img)\n",
    "            Y.append(i)\n",
    "        # Create dateset:\n",
    "    #X = 1 - np.array(X).astype('float32') / 255.\n",
    "    X = np.array(X).astype('float32')\n",
    "    Y = np.array(Y).astype('float32')\n",
    "    X=X/255.0\n",
    "    #Y = to_categorical(Y, num_class)\n",
    "    #X, X_test, Y, Y_test = train_test_split(X, Y, test_size=test_size, random_state=32)\n",
    "    return X,Y,Z"
   ]
  },
  {
   "cell_type": "code",
   "execution_count": 8,
   "id": "060cc5b5-4b3b-47be-a97e-1f8cba793ee1",
   "metadata": {},
   "outputs": [],
   "source": [
    "X , Y , img  = get_dataset('D:\\Sign-Language-Digits-Dataset-master\\Dataset')\n",
    "x_train, x_test, y_train, y_test = train_test_split(X, Y, test_size=test_size, random_state=32)\n",
    "#x_train, x_test, y_train, y_test , img = get_dataset('D:\\Sign-Language-Digits-Dataset-master\\Dataset')"
   ]
  },
  {
   "cell_type": "code",
   "execution_count": 9,
   "id": "77782edd-2638-4400-979b-2f093f3fcfd2",
   "metadata": {},
   "outputs": [
    {
     "name": "stdout",
     "output_type": "stream",
     "text": [
      "(1649, 64, 64, 1)\n"
     ]
    }
   ],
   "source": [
    "print(x_train.shape)\n",
    "x_train = x_train.reshape(len(x_train),64*64)\n",
    "x_test = x_test.reshape(len(x_test),64*64)"
   ]
  },
  {
   "cell_type": "markdown",
   "id": "64fa7bef",
   "metadata": {},
   "source": [
    "## First Neural Network architectures"
   ]
  },
  {
   "cell_type": "code",
   "execution_count": 8,
   "id": "b1eee6dc",
   "metadata": {},
   "outputs": [],
   "source": [
    "def define_model1():\n",
    "    model = keras.Sequential([\n",
    "    keras.layers.Dense(150, input_shape=(64*64,), activation='relu'),\n",
    "    keras.layers.Dense(150, activation='relu'),\n",
    "    keras.layers.Dense(10, activation='sigmoid')\n",
    "])\n",
    "\n",
    "    model.compile(optimizer='adam',\n",
    "              loss='sparse_categorical_crossentropy',\n",
    "              metrics=['accuracy'])\n",
    "\n",
    "    return model"
   ]
  },
  {
   "cell_type": "markdown",
   "id": "9f14c895",
   "metadata": {},
   "source": [
    "## Second Neural Network architectures"
   ]
  },
  {
   "cell_type": "code",
   "execution_count": 9,
   "id": "0ae20f6a",
   "metadata": {},
   "outputs": [],
   "source": [
    "def define_model2():\n",
    "    model = keras.Sequential([\n",
    "    keras.layers.Dense(120, input_shape=(64*64,), activation='relu'),\n",
    "    keras.layers.Dense(160, activation='relu'),\n",
    "    keras.layers.Dense(80, activation='relu'),\n",
    "    keras.layers.Dense(10, activation='sigmoid')\n",
    "])\n",
    "\n",
    "    model.compile(optimizer='adam',\n",
    "              loss='sparse_categorical_crossentropy',\n",
    "              metrics=['accuracy'])\n",
    "\n",
    "   \n",
    "    return model"
   ]
  },
  {
   "cell_type": "code",
   "execution_count": 10,
   "id": "27824b29-66fa-471a-9238-9f7841b18480",
   "metadata": {
    "scrolled": true
   },
   "outputs": [
    {
     "name": "stdout",
     "output_type": "stream",
     "text": [
      "Epoch 1/50\n",
      "52/52 [==============================] - 4s 19ms/step - loss: 2.4719 - accuracy: 0.1316\n",
      "Epoch 2/50\n",
      "52/52 [==============================] - 1s 18ms/step - loss: 2.1787 - accuracy: 0.2135\n",
      "Epoch 3/50\n",
      "52/52 [==============================] - 1s 16ms/step - loss: 1.9315 - accuracy: 0.3263\n",
      "Epoch 4/50\n",
      "52/52 [==============================] - 1s 17ms/step - loss: 1.6449 - accuracy: 0.4209\n",
      "Epoch 5/50\n",
      "52/52 [==============================] - 1s 17ms/step - loss: 1.5630 - accuracy: 0.4475\n",
      "Epoch 6/50\n",
      "52/52 [==============================] - 1s 17ms/step - loss: 1.3420 - accuracy: 0.5470\n",
      "Epoch 7/50\n",
      "52/52 [==============================] - 1s 17ms/step - loss: 1.2184 - accuracy: 0.5858\n",
      "Epoch 8/50\n",
      "52/52 [==============================] - 1s 17ms/step - loss: 1.1780 - accuracy: 0.5828\n",
      "Epoch 9/50\n",
      "52/52 [==============================] - 1s 17ms/step - loss: 1.0533 - accuracy: 0.6598\n",
      "Epoch 10/50\n",
      "52/52 [==============================] - 1s 17ms/step - loss: 1.0176 - accuracy: 0.6489\n",
      "Epoch 11/50\n",
      "52/52 [==============================] - 1s 18ms/step - loss: 0.9712 - accuracy: 0.6677\n",
      "Epoch 12/50\n",
      "52/52 [==============================] - 1s 18ms/step - loss: 0.9041 - accuracy: 0.7016\n",
      "Epoch 13/50\n",
      "52/52 [==============================] - 1s 18ms/step - loss: 0.8512 - accuracy: 0.7253\n",
      "Epoch 14/50\n",
      "52/52 [==============================] - 1s 19ms/step - loss: 0.7940 - accuracy: 0.7332\n",
      "Epoch 15/50\n",
      "52/52 [==============================] - 1s 22ms/step - loss: 0.7579 - accuracy: 0.7477\n",
      "Epoch 16/50\n",
      "52/52 [==============================] - 1s 13ms/step - loss: 0.7686 - accuracy: 0.7574\n",
      "Epoch 17/50\n",
      "52/52 [==============================] - 1s 21ms/step - loss: 0.7801 - accuracy: 0.7229\n",
      "Epoch 18/50\n",
      "52/52 [==============================] - 1s 19ms/step - loss: 0.7836 - accuracy: 0.7253\n",
      "Epoch 19/50\n",
      "52/52 [==============================] - 1s 23ms/step - loss: 0.7078 - accuracy: 0.7720\n",
      "Epoch 20/50\n",
      "52/52 [==============================] - 1s 19ms/step - loss: 0.6726 - accuracy: 0.7665\n",
      "Epoch 21/50\n",
      "52/52 [==============================] - 1s 19ms/step - loss: 0.6542 - accuracy: 0.7799\n",
      "Epoch 22/50\n",
      "52/52 [==============================] - 1s 20ms/step - loss: 0.6564 - accuracy: 0.7708\n",
      "Epoch 23/50\n",
      "52/52 [==============================] - 1s 21ms/step - loss: 0.6904 - accuracy: 0.7550\n",
      "Epoch 24/50\n",
      "52/52 [==============================] - 1s 16ms/step - loss: 0.6414 - accuracy: 0.7708\n",
      "Epoch 25/50\n",
      "52/52 [==============================] - 1s 16ms/step - loss: 0.5354 - accuracy: 0.8326\n",
      "Epoch 26/50\n",
      "52/52 [==============================] - 1s 17ms/step - loss: 0.5680 - accuracy: 0.8065\n",
      "Epoch 27/50\n",
      "52/52 [==============================] - 1s 17ms/step - loss: 0.5133 - accuracy: 0.8284\n",
      "Epoch 28/50\n",
      "52/52 [==============================] - 1s 16ms/step - loss: 0.5352 - accuracy: 0.8253\n",
      "Epoch 29/50\n",
      "52/52 [==============================] - 1s 16ms/step - loss: 0.5022 - accuracy: 0.8369\n",
      "Epoch 30/50\n",
      "52/52 [==============================] - 1s 16ms/step - loss: 0.5105 - accuracy: 0.8229\n",
      "Epoch 31/50\n",
      "52/52 [==============================] - 1s 17ms/step - loss: 0.4719 - accuracy: 0.8466\n",
      "Epoch 32/50\n",
      "52/52 [==============================] - 1s 16ms/step - loss: 0.4656 - accuracy: 0.8490\n",
      "Epoch 33/50\n",
      "52/52 [==============================] - 1s 16ms/step - loss: 0.4111 - accuracy: 0.8539\n",
      "Epoch 34/50\n",
      "52/52 [==============================] - 1s 16ms/step - loss: 0.4365 - accuracy: 0.8448\n",
      "Epoch 35/50\n",
      "52/52 [==============================] - 1s 16ms/step - loss: 0.4731 - accuracy: 0.8375\n",
      "Epoch 36/50\n",
      "52/52 [==============================] - 1s 17ms/step - loss: 0.3833 - accuracy: 0.8708\n",
      "Epoch 37/50\n",
      "52/52 [==============================] - 1s 16ms/step - loss: 0.4337 - accuracy: 0.8472\n",
      "Epoch 38/50\n",
      "52/52 [==============================] - 1s 16ms/step - loss: 0.4094 - accuracy: 0.8648\n",
      "Epoch 39/50\n",
      "52/52 [==============================] - 1s 17ms/step - loss: 0.3464 - accuracy: 0.8854\n",
      "Epoch 40/50\n",
      "52/52 [==============================] - 1s 17ms/step - loss: 0.3979 - accuracy: 0.8557\n",
      "Epoch 41/50\n",
      "52/52 [==============================] - 1s 17ms/step - loss: 0.4403 - accuracy: 0.8466\n",
      "Epoch 42/50\n",
      "52/52 [==============================] - 1s 16ms/step - loss: 0.3509 - accuracy: 0.8860\n",
      "Epoch 43/50\n",
      "52/52 [==============================] - 1s 16ms/step - loss: 0.4086 - accuracy: 0.8648\n",
      "Epoch 44/50\n",
      "52/52 [==============================] - 1s 17ms/step - loss: 0.3748 - accuracy: 0.8623\n",
      "Epoch 45/50\n",
      "52/52 [==============================] - 1s 17ms/step - loss: 0.3283 - accuracy: 0.8957\n",
      "Epoch 46/50\n",
      "52/52 [==============================] - 1s 17ms/step - loss: 0.3684 - accuracy: 0.8745\n",
      "Epoch 47/50\n",
      "52/52 [==============================] - 1s 16ms/step - loss: 0.3480 - accuracy: 0.8811\n",
      "Epoch 48/50\n",
      "52/52 [==============================] - 1s 16ms/step - loss: 0.3755 - accuracy: 0.8666\n",
      "Epoch 49/50\n",
      "52/52 [==============================] - 1s 16ms/step - loss: 0.3769 - accuracy: 0.8720\n",
      "Epoch 50/50\n",
      "52/52 [==============================] - 1s 16ms/step - loss: 0.2672 - accuracy: 0.9163\n",
      "13/13 [==============================] - 0s 5ms/step - loss: 0.7293 - accuracy: 0.7990\n"
     ]
    },
    {
     "data": {
      "text/plain": [
       "[0.7293097972869873, 0.7990314960479736]"
      ]
     },
     "execution_count": 10,
     "metadata": {},
     "output_type": "execute_result"
    }
   ],
   "source": [
    "model1 = define_model1()\n",
    "model1.fit(x_train, y_train, epochs=50)\n",
    "model1.evaluate(x_test,y_test)\n"
   ]
  },
  {
   "cell_type": "code",
   "execution_count": 11,
   "id": "2316e150",
   "metadata": {},
   "outputs": [
    {
     "name": "stdout",
     "output_type": "stream",
     "text": [
      "Epoch 1/50\n",
      "52/52 [==============================] - 2s 18ms/step - loss: 2.3706 - accuracy: 0.1164\n",
      "Epoch 2/50\n",
      "52/52 [==============================] - 1s 15ms/step - loss: 2.2044 - accuracy: 0.1965\n",
      "Epoch 3/50\n",
      "52/52 [==============================] - 1s 16ms/step - loss: 1.9593 - accuracy: 0.3105\n",
      "Epoch 4/50\n",
      "52/52 [==============================] - 1s 17ms/step - loss: 1.6621 - accuracy: 0.4021\n",
      "Epoch 5/50\n",
      "52/52 [==============================] - 1s 17ms/step - loss: 1.4338 - accuracy: 0.4912\n",
      "Epoch 6/50\n",
      "52/52 [==============================] - 1s 17ms/step - loss: 1.2274 - accuracy: 0.5646\n",
      "Epoch 7/50\n",
      "52/52 [==============================] - 1s 16ms/step - loss: 1.1389 - accuracy: 0.6167\n",
      "Epoch 8/50\n",
      "52/52 [==============================] - 1s 16ms/step - loss: 1.0605 - accuracy: 0.6380\n",
      "Epoch 9/50\n",
      "52/52 [==============================] - 1s 17ms/step - loss: 1.0423 - accuracy: 0.6392\n",
      "Epoch 10/50\n",
      "52/52 [==============================] - 1s 17ms/step - loss: 0.9535 - accuracy: 0.6737\n",
      "Epoch 11/50\n",
      "52/52 [==============================] - 1s 17ms/step - loss: 0.9081 - accuracy: 0.6834\n",
      "Epoch 12/50\n",
      "52/52 [==============================] - 1s 17ms/step - loss: 0.8130 - accuracy: 0.7320\n",
      "Epoch 13/50\n",
      "52/52 [==============================] - 1s 17ms/step - loss: 0.8567 - accuracy: 0.7041\n",
      "Epoch 14/50\n",
      "52/52 [==============================] - 1s 16ms/step - loss: 0.7481 - accuracy: 0.7514\n",
      "Epoch 15/50\n",
      "52/52 [==============================] - 1s 16ms/step - loss: 0.7494 - accuracy: 0.7423\n",
      "Epoch 16/50\n",
      "52/52 [==============================] - 1s 16ms/step - loss: 0.6555 - accuracy: 0.7890\n",
      "Epoch 17/50\n",
      "52/52 [==============================] - 1s 17ms/step - loss: 0.7598 - accuracy: 0.7404\n",
      "Epoch 18/50\n",
      "52/52 [==============================] - 1s 18ms/step - loss: 0.6114 - accuracy: 0.7999\n",
      "Epoch 19/50\n",
      "52/52 [==============================] - 1s 16ms/step - loss: 0.7084 - accuracy: 0.7550\n",
      "Epoch 20/50\n",
      "52/52 [==============================] - 1s 17ms/step - loss: 0.5955 - accuracy: 0.8017\n",
      "Epoch 21/50\n",
      "52/52 [==============================] - 1s 15ms/step - loss: 0.5489 - accuracy: 0.8205\n",
      "Epoch 22/50\n",
      "52/52 [==============================] - 1s 15ms/step - loss: 0.5567 - accuracy: 0.8035\n",
      "Epoch 23/50\n",
      "52/52 [==============================] - 1s 17ms/step - loss: 0.5930 - accuracy: 0.8017\n",
      "Epoch 24/50\n",
      "52/52 [==============================] - 1s 17ms/step - loss: 0.4874 - accuracy: 0.8448\n",
      "Epoch 25/50\n",
      "52/52 [==============================] - 1s 17ms/step - loss: 0.5256 - accuracy: 0.8163\n",
      "Epoch 26/50\n",
      "52/52 [==============================] - 1s 17ms/step - loss: 0.4653 - accuracy: 0.8454\n",
      "Epoch 27/50\n",
      "52/52 [==============================] - 1s 17ms/step - loss: 0.4089 - accuracy: 0.8539\n",
      "Epoch 28/50\n",
      "52/52 [==============================] - 1s 16ms/step - loss: 0.4254 - accuracy: 0.8557\n",
      "Epoch 29/50\n",
      "52/52 [==============================] - 1s 15ms/step - loss: 0.4739 - accuracy: 0.8375\n",
      "Epoch 30/50\n",
      "52/52 [==============================] - 1s 16ms/step - loss: 0.4121 - accuracy: 0.8587\n",
      "Epoch 31/50\n",
      "52/52 [==============================] - 1s 16ms/step - loss: 0.3673 - accuracy: 0.8720\n",
      "Epoch 32/50\n",
      "52/52 [==============================] - 1s 17ms/step - loss: 0.4030 - accuracy: 0.8636\n",
      "Epoch 33/50\n",
      "52/52 [==============================] - 1s 16ms/step - loss: 0.4535 - accuracy: 0.8393\n",
      "Epoch 34/50\n",
      "52/52 [==============================] - 1s 16ms/step - loss: 0.3866 - accuracy: 0.8696\n",
      "Epoch 35/50\n",
      "52/52 [==============================] - 1s 16ms/step - loss: 0.3623 - accuracy: 0.8708\n",
      "Epoch 36/50\n",
      "52/52 [==============================] - 1s 16ms/step - loss: 0.4067 - accuracy: 0.8587\n",
      "Epoch 37/50\n",
      "52/52 [==============================] - 1s 17ms/step - loss: 0.3433 - accuracy: 0.8830\n",
      "Epoch 38/50\n",
      "52/52 [==============================] - 1s 16ms/step - loss: 0.4768 - accuracy: 0.8247\n",
      "Epoch 39/50\n",
      "52/52 [==============================] - 1s 15ms/step - loss: 0.3113 - accuracy: 0.8951\n",
      "Epoch 40/50\n",
      "52/52 [==============================] - 1s 18ms/step - loss: 0.3248 - accuracy: 0.8890\n",
      "Epoch 41/50\n",
      "52/52 [==============================] - 1s 20ms/step - loss: 0.3856 - accuracy: 0.8593\n",
      "Epoch 42/50\n",
      "52/52 [==============================] - 1s 16ms/step - loss: 0.3650 - accuracy: 0.8714\n",
      "Epoch 43/50\n",
      "52/52 [==============================] - 1s 15ms/step - loss: 0.2663 - accuracy: 0.9151\n",
      "Epoch 44/50\n",
      "52/52 [==============================] - 1s 15ms/step - loss: 0.3268 - accuracy: 0.8866\n",
      "Epoch 45/50\n",
      "52/52 [==============================] - 1s 15ms/step - loss: 0.3274 - accuracy: 0.8884\n",
      "Epoch 46/50\n",
      "52/52 [==============================] - 1s 16ms/step - loss: 0.3065 - accuracy: 0.8933\n",
      "Epoch 47/50\n",
      "52/52 [==============================] - 1s 15ms/step - loss: 0.2527 - accuracy: 0.9163\n",
      "Epoch 48/50\n",
      "52/52 [==============================] - 1s 15ms/step - loss: 0.3067 - accuracy: 0.8963\n",
      "Epoch 49/50\n",
      "52/52 [==============================] - 1s 16ms/step - loss: 0.2166 - accuracy: 0.9345\n",
      "Epoch 50/50\n",
      "52/52 [==============================] - 1s 15ms/step - loss: 0.2593 - accuracy: 0.9072\n",
      "13/13 [==============================] - 0s 4ms/step - loss: 0.9746 - accuracy: 0.7458\n"
     ]
    },
    {
     "data": {
      "text/plain": [
       "[0.9745751023292542, 0.7457627058029175]"
      ]
     },
     "execution_count": 11,
     "metadata": {},
     "output_type": "execute_result"
    }
   ],
   "source": [
    "model2 = define_model2()\n",
    "model2.fit(x_train, y_train, epochs=50)\n",
    "model2.evaluate(x_test,y_test)"
   ]
  },
  {
   "cell_type": "code",
   "execution_count": 12,
   "id": "0c1e9735-ee48-4440-890b-2cd959f2632a",
   "metadata": {},
   "outputs": [
    {
     "name": "stdout",
     "output_type": "stream",
     "text": [
      "13/13 [==============================] - 0s 5ms/step\n"
     ]
    },
    {
     "data": {
      "text/plain": [
       "Text(69.0, 0.5, 'Truth')"
      ]
     },
     "execution_count": 12,
     "metadata": {},
     "output_type": "execute_result"
    },
    {
     "data": {
      "image/png": "[encoded data removed]",
      "text/plain": [
       "<Figure size 720x504 with 2 Axes>"
      ]
     },
     "metadata": {
      "needs_background": "light"
     },
     "output_type": "display_data"
    }
   ],
   "source": [
    "y_predicted1 = model1.predict(x_test)\n",
    "y_predicted_labels1 = [np.argmax(i) for i in y_predicted1]\n",
    "cm1 = ts.math.confusion_matrix(labels=y_test,predictions=y_predicted_labels1)\n",
    "\n",
    "plt.figure(figsize = (10,7))\n",
    "sn.heatmap(cm1, annot=True, fmt='d')\n",
    "plt.xlabel('Predicted')\n",
    "plt.ylabel('Truth')"
   ]
  },
  {
   "cell_type": "code",
   "execution_count": 13,
   "id": "8a3a37b5-2040-43e6-b4e0-e11be5875e08",
   "metadata": {},
   "outputs": [
    {
     "name": "stdout",
     "output_type": "stream",
     "text": [
      "13/13 [==============================] - 0s 9ms/step\n"
     ]
    },
    {
     "data": {
      "text/plain": [
       "Text(69.0, 0.5, 'Truth')"
      ]
     },
     "execution_count": 13,
     "metadata": {},
     "output_type": "execute_result"
    },
    {
     "data": {
      "image/png": "[encoded data removed]",
      "text/plain": [
       "<Figure size 720x504 with 2 Axes>"
      ]
     },
     "metadata": {
      "needs_background": "light"
     },
     "output_type": "display_data"
    }
   ],
   "source": [
    "y_predicted2 = model2.predict(x_test)\n",
    "y_predicted_labels2 = [np.argmax(i) for i in y_predicted2]\n",
    "cm2 = ts.math.confusion_matrix(labels=y_test,predictions=y_predicted_labels2)\n",
    "\n",
    "plt.figure(figsize = (10,7))\n",
    "sn.heatmap(cm2, annot=True, fmt='d')\n",
    "plt.xlabel('Predicted')\n",
    "plt.ylabel('Truth')"
   ]
  },
  {
   "cell_type": "code",
   "execution_count": null,
   "id": "fe697d14-508b-4d25-9f72-99193114ec45",
   "metadata": {},
   "outputs": [],
   "source": [
    "#lo = y_test.shape[0]\n",
    "#for i in range (lo):\n",
    "#    print(y_test[i] , \"========>\" , y_predicted_labels[i])"
   ]
  },
  {
   "cell_type": "code",
   "execution_count": 14,
   "id": "02d936cc",
   "metadata": {},
   "outputs": [
    {
     "name": "stdout",
     "output_type": "stream",
     "text": [
      "6\n",
      "6.0\n"
     ]
    },
    {
     "data": {
      "image/png": "[encoded data removed]",
      "text/plain": [
       "<Figure size 288x288 with 1 Axes>"
      ]
     },
     "metadata": {
      "needs_background": "light"
     },
     "output_type": "display_data"
    }
   ],
   "source": [
    "roro = random_state=random.randint(0,len(x_test) - 1)\n",
    "img = x_test[roro].reshape(64,64,1)\n",
    "plt.matshow(img,cmap = 'gray')\n",
    "print(y_predicted_labels1[roro])\n",
    "print(y_test[roro])"
   ]
  },
  {
   "cell_type": "code",
   "execution_count": 15,
   "id": "3ee6b80f",
   "metadata": {},
   "outputs": [
    {
     "name": "stdout",
     "output_type": "stream",
     "text": [
      "5\n",
      "5.0\n"
     ]
    },
    {
     "data": {
      "image/png": "[encoded data removed]",
      "text/plain": [
       "<Figure size 288x288 with 1 Axes>"
      ]
     },
     "metadata": {
      "needs_background": "light"
     },
     "output_type": "display_data"
    }
   ],
   "source": [
    "roro = random_state=random.randint(0,len(x_test) - 1)\n",
    "img = x_test[roro].reshape(64,64,1)\n",
    "plt.matshow(img,cmap = 'gray')\n",
    "print(y_predicted_labels2[roro])\n",
    "print(y_test[roro])"
   ]
  },
  {
   "cell_type": "markdown",
   "id": "df8dfe83",
   "metadata": {},
   "source": [
    "## Cross Over in Neural Network"
   ]
  },
  {
   "cell_type": "code",
   "execution_count": 40,
   "id": "a6f2faa3",
   "metadata": {},
   "outputs": [],
   "source": [
    "\n",
    "# evaluate a model using k-fold cross-validation\n",
    "def evaluate_model(dataX, dataY, n_folds=5 ,Model =define_model1()):\n",
    "    scores, histories = list(), list()\n",
    "    # prepare cross validation\n",
    "    kfold = KFold(n_folds, shuffle=True, random_state=1)\n",
    "    # enumerate splits\n",
    "    for train_ix, test_ix in kfold.split(dataX):\n",
    "        # define model\n",
    "        # select rows for train and test\n",
    "        trainX, trainY, testX, testY = dataX[train_ix], dataY[train_ix], dataX[test_ix], dataY[test_ix]\n",
    "        trainX = trainX.reshape(len(trainX),64*64)\n",
    "        testX = testX.reshape(len(testX),64*64)\n",
    "        model = Model\n",
    "        model.fit(trainX, trainY, epochs=50)\n",
    "        # fit model\n",
    "        history = model\n",
    "        # evaluate model\n",
    "        _, acc = model.evaluate(testX,testY)\n",
    "        # stores scores\n",
    "        scores.append(acc)\n",
    "        histories.append(history)\n",
    "    return scores, histories\n",
    "\n",
    "\n",
    "\n",
    "\n",
    "\n"
   ]
  },
  {
   "cell_type": "code",
   "execution_count": 17,
   "id": "544c4092",
   "metadata": {},
   "outputs": [
    {
     "name": "stdout",
     "output_type": "stream",
     "text": [
      "Epoch 1/50\n",
      "43/43 [==============================] - 1s 18ms/step - loss: 0.4358 - accuracy: 0.8748\n",
      "Epoch 2/50\n",
      "43/43 [==============================] - 1s 18ms/step - loss: 0.4185 - accuracy: 0.8668\n",
      "Epoch 3/50\n",
      "43/43 [==============================] - 1s 13ms/step - loss: 0.4805 - accuracy: 0.8421\n",
      "Epoch 4/50\n",
      "43/43 [==============================] - 1s 14ms/step - loss: 0.4803 - accuracy: 0.8421\n",
      "Epoch 5/50\n",
      "43/43 [==============================] - 1s 14ms/step - loss: 0.3343 - accuracy: 0.8981\n",
      "Epoch 6/50\n",
      "43/43 [==============================] - 1s 14ms/step - loss: 0.3207 - accuracy: 0.8988\n",
      "Epoch 7/50\n",
      "43/43 [==============================] - 1s 15ms/step - loss: 0.3326 - accuracy: 0.8988\n",
      "Epoch 8/50\n",
      "43/43 [==============================] - 1s 14ms/step - loss: 0.3642 - accuracy: 0.8894\n",
      "Epoch 9/50\n",
      "43/43 [==============================] - 1s 14ms/step - loss: 0.2738 - accuracy: 0.9258\n",
      "Epoch 10/50\n",
      "43/43 [==============================] - 1s 14ms/step - loss: 0.3409 - accuracy: 0.8886\n",
      "Epoch 11/50\n",
      "43/43 [==============================] - 1s 14ms/step - loss: 0.3481 - accuracy: 0.8886\n",
      "Epoch 12/50\n",
      "43/43 [==============================] - 1s 14ms/step - loss: 0.3371 - accuracy: 0.8865\n",
      "Epoch 13/50\n",
      "43/43 [==============================] - 1s 15ms/step - loss: 0.3139 - accuracy: 0.8908\n",
      "Epoch 14/50\n",
      "43/43 [==============================] - 1s 14ms/step - loss: 0.3371 - accuracy: 0.8879\n",
      "Epoch 15/50\n",
      "43/43 [==============================] - 1s 14ms/step - loss: 0.3397 - accuracy: 0.8748\n",
      "Epoch 16/50\n",
      "43/43 [==============================] - 1s 14ms/step - loss: 0.2799 - accuracy: 0.9112\n",
      "Epoch 17/50\n",
      "43/43 [==============================] - 1s 14ms/step - loss: 0.3799 - accuracy: 0.8690\n",
      "Epoch 18/50\n",
      "43/43 [==============================] - 1s 15ms/step - loss: 0.2937 - accuracy: 0.9061\n",
      "Epoch 19/50\n",
      "43/43 [==============================] - 1s 15ms/step - loss: 0.2346 - accuracy: 0.9221\n",
      "Epoch 20/50\n",
      "43/43 [==============================] - 1s 15ms/step - loss: 0.2607 - accuracy: 0.9076\n",
      "Epoch 21/50\n",
      "43/43 [==============================] - 1s 14ms/step - loss: 0.2702 - accuracy: 0.9148\n",
      "Epoch 22/50\n",
      "43/43 [==============================] - 1s 14ms/step - loss: 0.2646 - accuracy: 0.9119\n",
      "Epoch 23/50\n",
      "43/43 [==============================] - 1s 14ms/step - loss: 0.3123 - accuracy: 0.8894\n",
      "Epoch 24/50\n",
      "43/43 [==============================] - 1s 14ms/step - loss: 0.2249 - accuracy: 0.9258\n",
      "Epoch 25/50\n",
      "43/43 [==============================] - 1s 14ms/step - loss: 0.1865 - accuracy: 0.9410\n",
      "Epoch 26/50\n",
      "43/43 [==============================] - 1s 15ms/step - loss: 0.2000 - accuracy: 0.9374\n",
      "Epoch 27/50\n",
      "43/43 [==============================] - 1s 14ms/step - loss: 0.2004 - accuracy: 0.9374\n",
      "Epoch 28/50\n",
      "43/43 [==============================] - 1s 15ms/step - loss: 0.2298 - accuracy: 0.9192\n",
      "Epoch 29/50\n",
      "43/43 [==============================] - 1s 14ms/step - loss: 0.2386 - accuracy: 0.9141\n",
      "Epoch 30/50\n",
      "43/43 [==============================] - 1s 17ms/step - loss: 0.2700 - accuracy: 0.9032\n",
      "Epoch 31/50\n",
      "43/43 [==============================] - 1s 14ms/step - loss: 0.3121 - accuracy: 0.8886\n",
      "Epoch 32/50\n",
      "43/43 [==============================] - 1s 14ms/step - loss: 0.2218 - accuracy: 0.9250\n",
      "Epoch 33/50\n",
      "43/43 [==============================] - 1s 13ms/step - loss: 0.1601 - accuracy: 0.9556\n",
      "Epoch 34/50\n",
      "43/43 [==============================] - 1s 14ms/step - loss: 0.1784 - accuracy: 0.9360\n",
      "Epoch 35/50\n",
      "43/43 [==============================] - 1s 14ms/step - loss: 0.1970 - accuracy: 0.9301\n",
      "Epoch 36/50\n",
      "43/43 [==============================] - 1s 13ms/step - loss: 0.1783 - accuracy: 0.9461\n",
      "Epoch 37/50\n",
      "43/43 [==============================] - 1s 13ms/step - loss: 0.1835 - accuracy: 0.9440\n",
      "Epoch 38/50\n",
      "43/43 [==============================] - 1s 13ms/step - loss: 0.2054 - accuracy: 0.9316\n",
      "Epoch 39/50\n",
      "43/43 [==============================] - 1s 13ms/step - loss: 0.2107 - accuracy: 0.9330\n",
      "Epoch 40/50\n",
      "43/43 [==============================] - 1s 14ms/step - loss: 0.1407 - accuracy: 0.9614\n",
      "Epoch 41/50\n",
      "43/43 [==============================] - 1s 14ms/step - loss: 0.1827 - accuracy: 0.9367\n",
      "Epoch 42/50\n",
      "43/43 [==============================] - 1s 14ms/step - loss: 0.1423 - accuracy: 0.9476\n",
      "Epoch 43/50\n",
      "43/43 [==============================] - 1s 15ms/step - loss: 0.1335 - accuracy: 0.9541\n",
      "Epoch 44/50\n",
      "43/43 [==============================] - 1s 14ms/step - loss: 0.1259 - accuracy: 0.9658\n",
      "Epoch 45/50\n",
      "43/43 [==============================] - 1s 14ms/step - loss: 0.1813 - accuracy: 0.9425\n",
      "Epoch 46/50\n",
      "43/43 [==============================] - 1s 14ms/step - loss: 0.1125 - accuracy: 0.9680\n",
      "Epoch 47/50\n",
      "43/43 [==============================] - 1s 14ms/step - loss: 0.1427 - accuracy: 0.9571\n",
      "Epoch 48/50\n",
      "43/43 [==============================] - 1s 13ms/step - loss: 0.1400 - accuracy: 0.9585\n",
      "Epoch 49/50\n",
      "43/43 [==============================] - 1s 14ms/step - loss: 0.1715 - accuracy: 0.9418\n",
      "Epoch 50/50\n",
      "43/43 [==============================] - 1s 14ms/step - loss: 0.2671 - accuracy: 0.9017\n",
      "22/22 [==============================] - 0s 3ms/step - loss: 0.5479 - accuracy: 0.8154\n",
      "Epoch 1/50\n",
      "43/43 [==============================] - 1s 14ms/step - loss: 0.3531 - accuracy: 0.8865\n",
      "Epoch 2/50\n",
      "43/43 [==============================] - 1s 13ms/step - loss: 0.3389 - accuracy: 0.8902\n",
      "Epoch 3/50\n",
      "43/43 [==============================] - 1s 14ms/step - loss: 0.3075 - accuracy: 0.8989\n",
      "Epoch 4/50\n",
      "43/43 [==============================] - 1s 14ms/step - loss: 0.3316 - accuracy: 0.8778\n",
      "Epoch 5/50\n",
      "43/43 [==============================] - 1s 13ms/step - loss: 0.2641 - accuracy: 0.9127\n",
      "Epoch 6/50\n",
      "43/43 [==============================] - 1s 14ms/step - loss: 0.2794 - accuracy: 0.8982\n",
      "Epoch 7/50\n",
      "43/43 [==============================] - 1s 14ms/step - loss: 0.2977 - accuracy: 0.8989\n",
      "Epoch 8/50\n",
      "43/43 [==============================] - 1s 13ms/step - loss: 0.2281 - accuracy: 0.9135\n",
      "Epoch 9/50\n",
      "43/43 [==============================] - 1s 14ms/step - loss: 0.1691 - accuracy: 0.9375\n",
      "Epoch 10/50\n",
      "43/43 [==============================] - 1s 14ms/step - loss: 0.2407 - accuracy: 0.9207\n",
      "Epoch 11/50\n",
      "43/43 [==============================] - 1s 14ms/step - loss: 0.2337 - accuracy: 0.9193\n",
      "Epoch 12/50\n",
      "43/43 [==============================] - 1s 13ms/step - loss: 0.2190 - accuracy: 0.9149\n",
      "Epoch 13/50\n",
      "43/43 [==============================] - 1s 14ms/step - loss: 0.1597 - accuracy: 0.9469\n",
      "Epoch 14/50\n",
      "43/43 [==============================] - 1s 14ms/step - loss: 0.1525 - accuracy: 0.9425\n",
      "Epoch 15/50\n",
      "43/43 [==============================] - 1s 14ms/step - loss: 0.1831 - accuracy: 0.9295\n",
      "Epoch 16/50\n",
      "43/43 [==============================] - 1s 14ms/step - loss: 0.2338 - accuracy: 0.9135\n",
      "Epoch 17/50\n",
      "43/43 [==============================] - 1s 14ms/step - loss: 0.2168 - accuracy: 0.9215\n",
      "Epoch 18/50\n",
      "43/43 [==============================] - 1s 14ms/step - loss: 0.1325 - accuracy: 0.9527\n",
      "Epoch 19/50\n",
      "43/43 [==============================] - 1s 14ms/step - loss: 0.1810 - accuracy: 0.9338\n",
      "Epoch 20/50\n",
      "43/43 [==============================] - 1s 13ms/step - loss: 0.3140 - accuracy: 0.8851\n",
      "Epoch 21/50\n",
      "43/43 [==============================] - 1s 17ms/step - loss: 0.3742 - accuracy: 0.8669\n",
      "Epoch 22/50\n",
      "43/43 [==============================] - 1s 16ms/step - loss: 0.2466 - accuracy: 0.9113\n",
      "Epoch 23/50\n",
      "43/43 [==============================] - 1s 14ms/step - loss: 0.1563 - accuracy: 0.9447\n",
      "Epoch 24/50\n",
      "43/43 [==============================] - 1s 16ms/step - loss: 0.1099 - accuracy: 0.9665\n",
      "Epoch 25/50\n",
      "43/43 [==============================] - 1s 17ms/step - loss: 0.1612 - accuracy: 0.9433\n",
      "Epoch 26/50\n",
      "43/43 [==============================] - 1s 16ms/step - loss: 0.2077 - accuracy: 0.9215\n",
      "Epoch 27/50\n",
      "43/43 [==============================] - 1s 14ms/step - loss: 0.1074 - accuracy: 0.9644\n",
      "Epoch 28/50\n",
      "43/43 [==============================] - 1s 15ms/step - loss: 0.0744 - accuracy: 0.9811\n",
      "Epoch 29/50\n",
      "43/43 [==============================] - 1s 15ms/step - loss: 0.1304 - accuracy: 0.9527\n",
      "Epoch 30/50\n",
      "43/43 [==============================] - 1s 15ms/step - loss: 0.1547 - accuracy: 0.9425\n",
      "Epoch 31/50\n",
      "43/43 [==============================] - 1s 15ms/step - loss: 0.1277 - accuracy: 0.9564\n",
      "Epoch 32/50\n",
      "43/43 [==============================] - 1s 16ms/step - loss: 0.2038 - accuracy: 0.9215\n",
      "Epoch 33/50\n",
      "43/43 [==============================] - 1s 17ms/step - loss: 0.1418 - accuracy: 0.9498\n",
      "Epoch 34/50\n",
      "43/43 [==============================] - 1s 15ms/step - loss: 0.1163 - accuracy: 0.9593\n",
      "Epoch 35/50\n",
      "43/43 [==============================] - 1s 14ms/step - loss: 0.0715 - accuracy: 0.9775\n",
      "Epoch 36/50\n",
      "43/43 [==============================] - 1s 14ms/step - loss: 0.0642 - accuracy: 0.9840\n",
      "Epoch 37/50\n",
      "43/43 [==============================] - 1s 14ms/step - loss: 0.0946 - accuracy: 0.9651\n",
      "Epoch 38/50\n",
      "43/43 [==============================] - 1s 14ms/step - loss: 0.0559 - accuracy: 0.9847\n",
      "Epoch 39/50\n",
      "43/43 [==============================] - 1s 14ms/step - loss: 0.0361 - accuracy: 0.9971\n",
      "Epoch 40/50\n",
      "43/43 [==============================] - 1s 14ms/step - loss: 0.0601 - accuracy: 0.9818\n",
      "Epoch 41/50\n",
      "43/43 [==============================] - 1s 14ms/step - loss: 0.0496 - accuracy: 0.9905\n",
      "Epoch 42/50\n",
      "43/43 [==============================] - 1s 14ms/step - loss: 0.0644 - accuracy: 0.9804\n",
      "Epoch 43/50\n",
      "43/43 [==============================] - 1s 13ms/step - loss: 0.0526 - accuracy: 0.9898\n",
      "Epoch 44/50\n",
      "43/43 [==============================] - 1s 14ms/step - loss: 0.0904 - accuracy: 0.9680\n",
      "Epoch 45/50\n",
      "43/43 [==============================] - 1s 15ms/step - loss: 0.0646 - accuracy: 0.9804\n",
      "Epoch 46/50\n",
      "43/43 [==============================] - 1s 14ms/step - loss: 0.0617 - accuracy: 0.9782\n",
      "Epoch 47/50\n",
      "43/43 [==============================] - 1s 13ms/step - loss: 0.0875 - accuracy: 0.9709\n",
      "Epoch 48/50\n",
      "43/43 [==============================] - 1s 13ms/step - loss: 0.0967 - accuracy: 0.9702\n",
      "Epoch 49/50\n",
      "43/43 [==============================] - 1s 14ms/step - loss: 0.1022 - accuracy: 0.9622\n",
      "Epoch 50/50\n",
      "43/43 [==============================] - 1s 13ms/step - loss: 0.1699 - accuracy: 0.9360\n",
      "22/22 [==============================] - 0s 3ms/step - loss: 0.4444 - accuracy: 0.8559\n",
      "Epoch 1/50\n",
      "43/43 [==============================] - 1s 14ms/step - loss: 0.2482 - accuracy: 0.9149\n",
      "Epoch 2/50\n",
      "43/43 [==============================] - 1s 15ms/step - loss: 0.1683 - accuracy: 0.9425\n",
      "Epoch 3/50\n",
      "43/43 [==============================] - 1s 14ms/step - loss: 0.1827 - accuracy: 0.9338\n",
      "Epoch 4/50\n",
      "43/43 [==============================] - 1s 14ms/step - loss: 0.1747 - accuracy: 0.9447\n",
      "Epoch 5/50\n",
      "43/43 [==============================] - 1s 14ms/step - loss: 0.1860 - accuracy: 0.9353\n",
      "Epoch 6/50\n",
      "43/43 [==============================] - 1s 14ms/step - loss: 0.2367 - accuracy: 0.9127\n",
      "Epoch 7/50\n",
      "43/43 [==============================] - 1s 17ms/step - loss: 0.2429 - accuracy: 0.9178\n",
      "Epoch 8/50\n",
      "43/43 [==============================] - 1s 15ms/step - loss: 0.1694 - accuracy: 0.9367\n",
      "Epoch 9/50\n",
      "43/43 [==============================] - 1s 19ms/step - loss: 0.1014 - accuracy: 0.9716\n",
      "Epoch 10/50\n",
      "43/43 [==============================] - 1s 16ms/step - loss: 0.1437 - accuracy: 0.9404\n",
      "Epoch 11/50\n",
      "43/43 [==============================] - 1s 16ms/step - loss: 0.0930 - accuracy: 0.9745\n",
      "Epoch 12/50\n",
      "24/43 [===============>..............] - ETA: 0s - loss: 0.0627 - accuracy: 0.9831"
     ]
    },
    {
     "ename": "KeyboardInterrupt",
     "evalue": "",
     "output_type": "error",
     "traceback": [
      "\u001b[1;31m---------------------------------------------------------------------------\u001b[0m",
      "\u001b[1;31mKeyboardInterrupt\u001b[0m                         Traceback (most recent call last)",
      "\u001b[1;32m~\\AppData\\Local\\Temp\\ipykernel_4992\\2143760140.py\u001b[0m in \u001b[0;36m<module>\u001b[1;34m\u001b[0m\n\u001b[1;32m----> 1\u001b[1;33m \u001b[0mscoresModel1\u001b[0m \u001b[1;33m,\u001b[0m \u001b[0mhistories1\u001b[0m \u001b[1;33m=\u001b[0m \u001b[0mevaluate_model\u001b[0m\u001b[1;33m(\u001b[0m\u001b[0mX\u001b[0m\u001b[1;33m,\u001b[0m\u001b[0mY\u001b[0m\u001b[1;33m,\u001b[0m\u001b[1;36m3\u001b[0m\u001b[1;33m,\u001b[0m\u001b[0mmodel1\u001b[0m\u001b[1;33m)\u001b[0m\u001b[1;33m\u001b[0m\u001b[1;33m\u001b[0m\u001b[0m\n\u001b[0m",
      "\u001b[1;32m~\\AppData\\Local\\Temp\\ipykernel_4992\\1860349773.py\u001b[0m in \u001b[0;36mevaluate_model\u001b[1;34m(dataX, dataY, n_folds, Model)\u001b[0m\n\u001b[0;32m     12\u001b[0m         \u001b[0mtestX\u001b[0m \u001b[1;33m=\u001b[0m \u001b[0mtestX\u001b[0m\u001b[1;33m.\u001b[0m\u001b[0mreshape\u001b[0m\u001b[1;33m(\u001b[0m\u001b[0mlen\u001b[0m\u001b[1;33m(\u001b[0m\u001b[0mtestX\u001b[0m\u001b[1;33m)\u001b[0m\u001b[1;33m,\u001b[0m\u001b[1;36m64\u001b[0m\u001b[1;33m*\u001b[0m\u001b[1;36m64\u001b[0m\u001b[1;33m)\u001b[0m\u001b[1;33m\u001b[0m\u001b[1;33m\u001b[0m\u001b[0m\n\u001b[0;32m     13\u001b[0m         \u001b[0mmodel\u001b[0m \u001b[1;33m=\u001b[0m \u001b[0mModel\u001b[0m\u001b[1;33m\u001b[0m\u001b[1;33m\u001b[0m\u001b[0m\n\u001b[1;32m---> 14\u001b[1;33m         \u001b[0mmodel\u001b[0m\u001b[1;33m.\u001b[0m\u001b[0mfit\u001b[0m\u001b[1;33m(\u001b[0m\u001b[0mtrainX\u001b[0m\u001b[1;33m,\u001b[0m \u001b[0mtrainY\u001b[0m\u001b[1;33m,\u001b[0m \u001b[0mepochs\u001b[0m\u001b[1;33m=\u001b[0m\u001b[1;36m50\u001b[0m\u001b[1;33m)\u001b[0m\u001b[1;33m\u001b[0m\u001b[1;33m\u001b[0m\u001b[0m\n\u001b[0m\u001b[0;32m     15\u001b[0m         \u001b[1;31m# fit model\u001b[0m\u001b[1;33m\u001b[0m\u001b[1;33m\u001b[0m\u001b[0m\n\u001b[0;32m     16\u001b[0m         \u001b[0mhistory\u001b[0m \u001b[1;33m=\u001b[0m \u001b[0mmodel\u001b[0m\u001b[1;33m\u001b[0m\u001b[1;33m\u001b[0m\u001b[0m\n",
      "\u001b[1;32mc:\\Users\\oessa\\anaconda3\\lib\\site-packages\\keras\\utils\\traceback_utils.py\u001b[0m in \u001b[0;36merror_handler\u001b[1;34m(*args, **kwargs)\u001b[0m\n\u001b[0;32m     63\u001b[0m         \u001b[0mfiltered_tb\u001b[0m \u001b[1;33m=\u001b[0m \u001b[1;32mNone\u001b[0m\u001b[1;33m\u001b[0m\u001b[1;33m\u001b[0m\u001b[0m\n\u001b[0;32m     64\u001b[0m         \u001b[1;32mtry\u001b[0m\u001b[1;33m:\u001b[0m\u001b[1;33m\u001b[0m\u001b[1;33m\u001b[0m\u001b[0m\n\u001b[1;32m---> 65\u001b[1;33m             \u001b[1;32mreturn\u001b[0m \u001b[0mfn\u001b[0m\u001b[1;33m(\u001b[0m\u001b[1;33m*\u001b[0m\u001b[0margs\u001b[0m\u001b[1;33m,\u001b[0m \u001b[1;33m**\u001b[0m\u001b[0mkwargs\u001b[0m\u001b[1;33m)\u001b[0m\u001b[1;33m\u001b[0m\u001b[1;33m\u001b[0m\u001b[0m\n\u001b[0m\u001b[0;32m     66\u001b[0m         \u001b[1;32mexcept\u001b[0m \u001b[0mException\u001b[0m \u001b[1;32mas\u001b[0m \u001b[0me\u001b[0m\u001b[1;33m:\u001b[0m\u001b[1;33m\u001b[0m\u001b[1;33m\u001b[0m\u001b[0m\n\u001b[0;32m     67\u001b[0m             \u001b[0mfiltered_tb\u001b[0m \u001b[1;33m=\u001b[0m \u001b[0m_process_traceback_frames\u001b[0m\u001b[1;33m(\u001b[0m\u001b[0me\u001b[0m\u001b[1;33m.\u001b[0m\u001b[0m__traceback__\u001b[0m\u001b[1;33m)\u001b[0m\u001b[1;33m\u001b[0m\u001b[1;33m\u001b[0m\u001b[0m\n",
      "\u001b[1;32mc:\\Users\\oessa\\anaconda3\\lib\\site-packages\\keras\\engine\\training.py\u001b[0m in \u001b[0;36mfit\u001b[1;34m(self, x, y, batch_size, epochs, verbose, callbacks, validation_split, validation_data, shuffle, class_weight, sample_weight, initial_epoch, steps_per_epoch, validation_steps, validation_batch_size, validation_freq, max_queue_size, workers, use_multiprocessing)\u001b[0m\n\u001b[0;32m   1648\u001b[0m                         ):\n\u001b[0;32m   1649\u001b[0m                             \u001b[0mcallbacks\u001b[0m\u001b[1;33m.\u001b[0m\u001b[0mon_train_batch_begin\u001b[0m\u001b[1;33m(\u001b[0m\u001b[0mstep\u001b[0m\u001b[1;33m)\u001b[0m\u001b[1;33m\u001b[0m\u001b[1;33m\u001b[0m\u001b[0m\n\u001b[1;32m-> 1650\u001b[1;33m                             \u001b[0mtmp_logs\u001b[0m \u001b[1;33m=\u001b[0m \u001b[0mself\u001b[0m\u001b[1;33m.\u001b[0m\u001b[0mtrain_function\u001b[0m\u001b[1;33m(\u001b[0m\u001b[0miterator\u001b[0m\u001b[1;33m)\u001b[0m\u001b[1;33m\u001b[0m\u001b[1;33m\u001b[0m\u001b[0m\n\u001b[0m\u001b[0;32m   1651\u001b[0m                             \u001b[1;32mif\u001b[0m \u001b[0mdata_handler\u001b[0m\u001b[1;33m.\u001b[0m\u001b[0mshould_sync\u001b[0m\u001b[1;33m:\u001b[0m\u001b[1;33m\u001b[0m\u001b[1;33m\u001b[0m\u001b[0m\n\u001b[0;32m   1652\u001b[0m                                 \u001b[0mcontext\u001b[0m\u001b[1;33m.\u001b[0m\u001b[0masync_wait\u001b[0m\u001b[1;33m(\u001b[0m\u001b[1;33m)\u001b[0m\u001b[1;33m\u001b[0m\u001b[1;33m\u001b[0m\u001b[0m\n",
      "\u001b[1;32mc:\\Users\\oessa\\anaconda3\\lib\\site-packages\\tensorflow\\python\\util\\traceback_utils.py\u001b[0m in \u001b[0;36merror_handler\u001b[1;34m(*args, **kwargs)\u001b[0m\n\u001b[0;32m    148\u001b[0m     \u001b[0mfiltered_tb\u001b[0m \u001b[1;33m=\u001b[0m \u001b[1;32mNone\u001b[0m\u001b[1;33m\u001b[0m\u001b[1;33m\u001b[0m\u001b[0m\n\u001b[0;32m    149\u001b[0m     \u001b[1;32mtry\u001b[0m\u001b[1;33m:\u001b[0m\u001b[1;33m\u001b[0m\u001b[1;33m\u001b[0m\u001b[0m\n\u001b[1;32m--> 150\u001b[1;33m       \u001b[1;32mreturn\u001b[0m \u001b[0mfn\u001b[0m\u001b[1;33m(\u001b[0m\u001b[1;33m*\u001b[0m\u001b[0margs\u001b[0m\u001b[1;33m,\u001b[0m \u001b[1;33m**\u001b[0m\u001b[0mkwargs\u001b[0m\u001b[1;33m)\u001b[0m\u001b[1;33m\u001b[0m\u001b[1;33m\u001b[0m\u001b[0m\n\u001b[0m\u001b[0;32m    151\u001b[0m     \u001b[1;32mexcept\u001b[0m \u001b[0mException\u001b[0m \u001b[1;32mas\u001b[0m \u001b[0me\u001b[0m\u001b[1;33m:\u001b[0m\u001b[1;33m\u001b[0m\u001b[1;33m\u001b[0m\u001b[0m\n\u001b[0;32m    152\u001b[0m       \u001b[0mfiltered_tb\u001b[0m \u001b[1;33m=\u001b[0m \u001b[0m_process_traceback_frames\u001b[0m\u001b[1;33m(\u001b[0m\u001b[0me\u001b[0m\u001b[1;33m.\u001b[0m\u001b[0m__traceback__\u001b[0m\u001b[1;33m)\u001b[0m\u001b[1;33m\u001b[0m\u001b[1;33m\u001b[0m\u001b[0m\n",
      "\u001b[1;32mc:\\Users\\oessa\\anaconda3\\lib\\site-packages\\tensorflow\\python\\eager\\polymorphic_function\\polymorphic_function.py\u001b[0m in \u001b[0;36m__call__\u001b[1;34m(self, *args, **kwds)\u001b[0m\n\u001b[0;32m    878\u001b[0m \u001b[1;33m\u001b[0m\u001b[0m\n\u001b[0;32m    879\u001b[0m       \u001b[1;32mwith\u001b[0m \u001b[0mOptionalXlaContext\u001b[0m\u001b[1;33m(\u001b[0m\u001b[0mself\u001b[0m\u001b[1;33m.\u001b[0m\u001b[0m_jit_compile\u001b[0m\u001b[1;33m)\u001b[0m\u001b[1;33m:\u001b[0m\u001b[1;33m\u001b[0m\u001b[1;33m\u001b[0m\u001b[0m\n\u001b[1;32m--> 880\u001b[1;33m         \u001b[0mresult\u001b[0m \u001b[1;33m=\u001b[0m \u001b[0mself\u001b[0m\u001b[1;33m.\u001b[0m\u001b[0m_call\u001b[0m\u001b[1;33m(\u001b[0m\u001b[1;33m*\u001b[0m\u001b[0margs\u001b[0m\u001b[1;33m,\u001b[0m \u001b[1;33m**\u001b[0m\u001b[0mkwds\u001b[0m\u001b[1;33m)\u001b[0m\u001b[1;33m\u001b[0m\u001b[1;33m\u001b[0m\u001b[0m\n\u001b[0m\u001b[0;32m    881\u001b[0m \u001b[1;33m\u001b[0m\u001b[0m\n\u001b[0;32m    882\u001b[0m       \u001b[0mnew_tracing_count\u001b[0m \u001b[1;33m=\u001b[0m \u001b[0mself\u001b[0m\u001b[1;33m.\u001b[0m\u001b[0mexperimental_get_tracing_count\u001b[0m\u001b[1;33m(\u001b[0m\u001b[1;33m)\u001b[0m\u001b[1;33m\u001b[0m\u001b[1;33m\u001b[0m\u001b[0m\n",
      "\u001b[1;32mc:\\Users\\oessa\\anaconda3\\lib\\site-packages\\tensorflow\\python\\eager\\polymorphic_function\\polymorphic_function.py\u001b[0m in \u001b[0;36m_call\u001b[1;34m(self, *args, **kwds)\u001b[0m\n\u001b[0;32m    910\u001b[0m       \u001b[1;31m# In this case we have created variables on the first call, so we run the\u001b[0m\u001b[1;33m\u001b[0m\u001b[1;33m\u001b[0m\u001b[0m\n\u001b[0;32m    911\u001b[0m       \u001b[1;31m# defunned version which is guaranteed to never create variables.\u001b[0m\u001b[1;33m\u001b[0m\u001b[1;33m\u001b[0m\u001b[0m\n\u001b[1;32m--> 912\u001b[1;33m       \u001b[1;32mreturn\u001b[0m \u001b[0mself\u001b[0m\u001b[1;33m.\u001b[0m\u001b[0m_no_variable_creation_fn\u001b[0m\u001b[1;33m(\u001b[0m\u001b[1;33m*\u001b[0m\u001b[0margs\u001b[0m\u001b[1;33m,\u001b[0m \u001b[1;33m**\u001b[0m\u001b[0mkwds\u001b[0m\u001b[1;33m)\u001b[0m  \u001b[1;31m# pylint: disable=not-callable\u001b[0m\u001b[1;33m\u001b[0m\u001b[1;33m\u001b[0m\u001b[0m\n\u001b[0m\u001b[0;32m    913\u001b[0m     \u001b[1;32melif\u001b[0m \u001b[0mself\u001b[0m\u001b[1;33m.\u001b[0m\u001b[0m_variable_creation_fn\u001b[0m \u001b[1;32mis\u001b[0m \u001b[1;32mnot\u001b[0m \u001b[1;32mNone\u001b[0m\u001b[1;33m:\u001b[0m\u001b[1;33m\u001b[0m\u001b[1;33m\u001b[0m\u001b[0m\n\u001b[0;32m    914\u001b[0m       \u001b[1;31m# Release the lock early so that multiple threads can perform the call\u001b[0m\u001b[1;33m\u001b[0m\u001b[1;33m\u001b[0m\u001b[0m\n",
      "\u001b[1;32mc:\\Users\\oessa\\anaconda3\\lib\\site-packages\\tensorflow\\python\\eager\\polymorphic_function\\tracing_compiler.py\u001b[0m in \u001b[0;36m__call__\u001b[1;34m(self, *args, **kwargs)\u001b[0m\n\u001b[0;32m    132\u001b[0m       (concrete_function,\n\u001b[0;32m    133\u001b[0m        filtered_flat_args) = self._maybe_define_function(args, kwargs)\n\u001b[1;32m--> 134\u001b[1;33m     return concrete_function._call_flat(\n\u001b[0m\u001b[0;32m    135\u001b[0m         filtered_flat_args, captured_inputs=concrete_function.captured_inputs)  # pylint: disable=protected-access\n\u001b[0;32m    136\u001b[0m \u001b[1;33m\u001b[0m\u001b[0m\n",
      "\u001b[1;32mc:\\Users\\oessa\\anaconda3\\lib\\site-packages\\tensorflow\\python\\eager\\polymorphic_function\\monomorphic_function.py\u001b[0m in \u001b[0;36m_call_flat\u001b[1;34m(self, args, captured_inputs, cancellation_manager)\u001b[0m\n\u001b[0;32m   1743\u001b[0m         and executing_eagerly):\n\u001b[0;32m   1744\u001b[0m       \u001b[1;31m# No tape is watching; skip to running the function.\u001b[0m\u001b[1;33m\u001b[0m\u001b[1;33m\u001b[0m\u001b[0m\n\u001b[1;32m-> 1745\u001b[1;33m       return self._build_call_outputs(self._inference_function.call(\n\u001b[0m\u001b[0;32m   1746\u001b[0m           ctx, args, cancellation_manager=cancellation_manager))\n\u001b[0;32m   1747\u001b[0m     forward_backward = self._select_forward_and_backward_functions(\n",
      "\u001b[1;32mc:\\Users\\oessa\\anaconda3\\lib\\site-packages\\tensorflow\\python\\eager\\polymorphic_function\\monomorphic_function.py\u001b[0m in \u001b[0;36mcall\u001b[1;34m(self, ctx, args, cancellation_manager)\u001b[0m\n\u001b[0;32m    376\u001b[0m       \u001b[1;32mwith\u001b[0m \u001b[0m_InterpolateFunctionError\u001b[0m\u001b[1;33m(\u001b[0m\u001b[0mself\u001b[0m\u001b[1;33m)\u001b[0m\u001b[1;33m:\u001b[0m\u001b[1;33m\u001b[0m\u001b[1;33m\u001b[0m\u001b[0m\n\u001b[0;32m    377\u001b[0m         \u001b[1;32mif\u001b[0m \u001b[0mcancellation_manager\u001b[0m \u001b[1;32mis\u001b[0m \u001b[1;32mNone\u001b[0m\u001b[1;33m:\u001b[0m\u001b[1;33m\u001b[0m\u001b[1;33m\u001b[0m\u001b[0m\n\u001b[1;32m--> 378\u001b[1;33m           outputs = execute.execute(\n\u001b[0m\u001b[0;32m    379\u001b[0m               \u001b[0mstr\u001b[0m\u001b[1;33m(\u001b[0m\u001b[0mself\u001b[0m\u001b[1;33m.\u001b[0m\u001b[0msignature\u001b[0m\u001b[1;33m.\u001b[0m\u001b[0mname\u001b[0m\u001b[1;33m)\u001b[0m\u001b[1;33m,\u001b[0m\u001b[1;33m\u001b[0m\u001b[1;33m\u001b[0m\u001b[0m\n\u001b[0;32m    380\u001b[0m               \u001b[0mnum_outputs\u001b[0m\u001b[1;33m=\u001b[0m\u001b[0mself\u001b[0m\u001b[1;33m.\u001b[0m\u001b[0m_num_outputs\u001b[0m\u001b[1;33m,\u001b[0m\u001b[1;33m\u001b[0m\u001b[1;33m\u001b[0m\u001b[0m\n",
      "\u001b[1;32mc:\\Users\\oessa\\anaconda3\\lib\\site-packages\\tensorflow\\python\\eager\\execute.py\u001b[0m in \u001b[0;36mquick_execute\u001b[1;34m(op_name, num_outputs, inputs, attrs, ctx, name)\u001b[0m\n\u001b[0;32m     50\u001b[0m   \u001b[1;32mtry\u001b[0m\u001b[1;33m:\u001b[0m\u001b[1;33m\u001b[0m\u001b[1;33m\u001b[0m\u001b[0m\n\u001b[0;32m     51\u001b[0m     \u001b[0mctx\u001b[0m\u001b[1;33m.\u001b[0m\u001b[0mensure_initialized\u001b[0m\u001b[1;33m(\u001b[0m\u001b[1;33m)\u001b[0m\u001b[1;33m\u001b[0m\u001b[1;33m\u001b[0m\u001b[0m\n\u001b[1;32m---> 52\u001b[1;33m     tensors = pywrap_tfe.TFE_Py_Execute(ctx._handle, device_name, op_name,\n\u001b[0m\u001b[0;32m     53\u001b[0m                                         inputs, attrs, num_outputs)\n\u001b[0;32m     54\u001b[0m   \u001b[1;32mexcept\u001b[0m \u001b[0mcore\u001b[0m\u001b[1;33m.\u001b[0m\u001b[0m_NotOkStatusException\u001b[0m \u001b[1;32mas\u001b[0m \u001b[0me\u001b[0m\u001b[1;33m:\u001b[0m\u001b[1;33m\u001b[0m\u001b[1;33m\u001b[0m\u001b[0m\n",
      "\u001b[1;31mKeyboardInterrupt\u001b[0m: "
     ]
    }
   ],
   "source": [
    "scoresModel1 , histories1 = evaluate_model(X,Y,3,model1)\n"
   ]
  },
  {
   "cell_type": "code",
   "execution_count": null,
   "id": "e9d29360",
   "metadata": {},
   "outputs": [
    {
     "name": "stdout",
     "output_type": "stream",
     "text": [
      "[0.8837209343910217, 0.8981077075004578, 0.9665210843086243]\n",
      "[<keras.engine.sequential.Sequential object at 0x000001B476D95D60>, <keras.engine.sequential.Sequential object at 0x000001B476D95D60>, <keras.engine.sequential.Sequential object at 0x000001B476D95D60>]\n"
     ]
    }
   ],
   "source": [
    "print(scoresModel1)\n",
    "print(histories1)"
   ]
  },
  {
   "cell_type": "code",
   "execution_count": null,
   "id": "959921a1",
   "metadata": {},
   "outputs": [
    {
     "name": "stdout",
     "output_type": "stream",
     "text": [
      "Epoch 1/50\n",
      "35/35 [==============================] - 0s 4ms/step - loss: 0.3004 - accuracy: 0.9017\n",
      "Epoch 2/50\n",
      "35/35 [==============================] - 0s 4ms/step - loss: 0.3887 - accuracy: 0.8635\n",
      "Epoch 3/50\n",
      "35/35 [==============================] - 0s 4ms/step - loss: 0.4011 - accuracy: 0.8526\n",
      "Epoch 4/50\n",
      "35/35 [==============================] - 0s 4ms/step - loss: 0.2844 - accuracy: 0.8954\n",
      "Epoch 5/50\n",
      "35/35 [==============================] - 0s 4ms/step - loss: 0.3827 - accuracy: 0.8644\n",
      "Epoch 6/50\n",
      "35/35 [==============================] - 0s 4ms/step - loss: 0.3946 - accuracy: 0.8553\n",
      "Epoch 7/50\n",
      "35/35 [==============================] - 0s 4ms/step - loss: 0.3257 - accuracy: 0.8781\n",
      "Epoch 8/50\n",
      "35/35 [==============================] - 0s 4ms/step - loss: 0.2552 - accuracy: 0.9145\n",
      "Epoch 9/50\n",
      "35/35 [==============================] - 0s 4ms/step - loss: 0.4186 - accuracy: 0.8571\n",
      "Epoch 10/50\n",
      "35/35 [==============================] - 0s 5ms/step - loss: 0.2682 - accuracy: 0.8990\n",
      "Epoch 11/50\n",
      "35/35 [==============================] - 0s 4ms/step - loss: 0.2297 - accuracy: 0.9136\n",
      "Epoch 12/50\n",
      "35/35 [==============================] - 0s 4ms/step - loss: 0.2607 - accuracy: 0.9108\n",
      "Epoch 13/50\n",
      "35/35 [==============================] - 0s 4ms/step - loss: 0.2158 - accuracy: 0.9236\n",
      "Epoch 14/50\n",
      "35/35 [==============================] - 0s 4ms/step - loss: 0.3335 - accuracy: 0.8781\n",
      "Epoch 15/50\n",
      "35/35 [==============================] - 0s 4ms/step - loss: 0.2254 - accuracy: 0.9172\n",
      "Epoch 16/50\n",
      "35/35 [==============================] - 0s 4ms/step - loss: 0.2359 - accuracy: 0.9190\n",
      "Epoch 17/50\n",
      "35/35 [==============================] - 0s 4ms/step - loss: 0.2463 - accuracy: 0.9117\n",
      "Epoch 18/50\n",
      "35/35 [==============================] - 0s 4ms/step - loss: 0.2448 - accuracy: 0.9126\n",
      "Epoch 19/50\n",
      "35/35 [==============================] - 0s 6ms/step - loss: 0.2290 - accuracy: 0.9154\n",
      "Epoch 20/50\n",
      "35/35 [==============================] - 0s 4ms/step - loss: 0.2425 - accuracy: 0.9145\n",
      "Epoch 21/50\n",
      "35/35 [==============================] - 0s 4ms/step - loss: 0.4496 - accuracy: 0.8362\n",
      "Epoch 22/50\n",
      "35/35 [==============================] - 0s 4ms/step - loss: 0.7120 - accuracy: 0.7816\n",
      "Epoch 23/50\n",
      "35/35 [==============================] - 0s 4ms/step - loss: 0.3957 - accuracy: 0.8617\n",
      "Epoch 24/50\n",
      "35/35 [==============================] - 0s 4ms/step - loss: 0.2234 - accuracy: 0.9308\n",
      "Epoch 25/50\n",
      "35/35 [==============================] - 0s 4ms/step - loss: 0.2079 - accuracy: 0.9354\n",
      "Epoch 26/50\n",
      "35/35 [==============================] - 0s 5ms/step - loss: 0.3408 - accuracy: 0.8744\n",
      "Epoch 27/50\n",
      "35/35 [==============================] - 0s 4ms/step - loss: 0.1767 - accuracy: 0.9345\n",
      "Epoch 28/50\n",
      "35/35 [==============================] - 0s 4ms/step - loss: 0.1779 - accuracy: 0.9409\n",
      "Epoch 29/50\n",
      "35/35 [==============================] - 0s 5ms/step - loss: 0.1825 - accuracy: 0.9381\n",
      "Epoch 30/50\n",
      "35/35 [==============================] - 0s 4ms/step - loss: 0.2115 - accuracy: 0.9236\n",
      "Epoch 31/50\n",
      "35/35 [==============================] - 0s 5ms/step - loss: 0.1722 - accuracy: 0.9390\n",
      "Epoch 32/50\n",
      "35/35 [==============================] - 0s 5ms/step - loss: 0.2272 - accuracy: 0.9099\n",
      "Epoch 33/50\n",
      "35/35 [==============================] - 0s 5ms/step - loss: 0.2084 - accuracy: 0.9254\n",
      "Epoch 34/50\n",
      "35/35 [==============================] - 0s 5ms/step - loss: 0.2124 - accuracy: 0.9299\n",
      "Epoch 35/50\n",
      "35/35 [==============================] - 0s 4ms/step - loss: 0.1389 - accuracy: 0.9654\n",
      "Epoch 36/50\n",
      "35/35 [==============================] - 0s 5ms/step - loss: 0.2030 - accuracy: 0.9272\n",
      "Epoch 37/50\n",
      "35/35 [==============================] - 0s 5ms/step - loss: 0.3268 - accuracy: 0.8790\n",
      "Epoch 38/50\n",
      "35/35 [==============================] - 0s 6ms/step - loss: 0.4582 - accuracy: 0.8508\n",
      "Epoch 39/50\n",
      "35/35 [==============================] - 0s 4ms/step - loss: 0.3866 - accuracy: 0.8553\n",
      "Epoch 40/50\n",
      "35/35 [==============================] - 0s 5ms/step - loss: 0.2198 - accuracy: 0.9190\n",
      "Epoch 41/50\n",
      "35/35 [==============================] - 0s 5ms/step - loss: 0.1465 - accuracy: 0.9490\n",
      "Epoch 42/50\n",
      "35/35 [==============================] - 0s 5ms/step - loss: 0.1176 - accuracy: 0.9672\n",
      "Epoch 43/50\n",
      "35/35 [==============================] - 0s 5ms/step - loss: 0.1153 - accuracy: 0.9645\n",
      "Epoch 44/50\n",
      "35/35 [==============================] - 0s 5ms/step - loss: 0.1926 - accuracy: 0.9299\n",
      "Epoch 45/50\n",
      "35/35 [==============================] - 0s 5ms/step - loss: 0.2471 - accuracy: 0.9054\n",
      "Epoch 46/50\n",
      "35/35 [==============================] - 0s 6ms/step - loss: 0.1994 - accuracy: 0.9281\n",
      "Epoch 47/50\n",
      "35/35 [==============================] - 0s 5ms/step - loss: 0.1396 - accuracy: 0.9500\n",
      "Epoch 48/50\n",
      "35/35 [==============================] - 0s 7ms/step - loss: 0.1414 - accuracy: 0.9545\n",
      "Epoch 49/50\n",
      "35/35 [==============================] - 0s 4ms/step - loss: 0.2504 - accuracy: 0.9063\n",
      "Epoch 50/50\n",
      "35/35 [==============================] - 0s 4ms/step - loss: 0.4086 - accuracy: 0.8508\n",
      "18/18 [==============================] - 0s 2ms/step - loss: 0.4889 - accuracy: 0.8473\n",
      "Epoch 1/50\n",
      "35/35 [==============================] - 0s 4ms/step - loss: 0.4330 - accuracy: 0.8562\n",
      "Epoch 2/50\n",
      "35/35 [==============================] - 0s 4ms/step - loss: 0.3623 - accuracy: 0.8799\n",
      "Epoch 3/50\n",
      "35/35 [==============================] - 0s 4ms/step - loss: 0.3593 - accuracy: 0.8835\n",
      "Epoch 4/50\n",
      "35/35 [==============================] - 0s 4ms/step - loss: 0.3562 - accuracy: 0.8753\n",
      "Epoch 5/50\n",
      "35/35 [==============================] - 0s 4ms/step - loss: 0.3626 - accuracy: 0.8753\n",
      "Epoch 6/50\n",
      "35/35 [==============================] - 0s 4ms/step - loss: 0.3413 - accuracy: 0.8899\n",
      "Epoch 7/50\n",
      "35/35 [==============================] - 0s 4ms/step - loss: 0.3059 - accuracy: 0.9035\n",
      "Epoch 8/50\n",
      "35/35 [==============================] - 0s 4ms/step - loss: 0.2013 - accuracy: 0.9336\n",
      "Epoch 9/50\n",
      "35/35 [==============================] - 0s 4ms/step - loss: 0.2204 - accuracy: 0.9308\n",
      "Epoch 10/50\n",
      "35/35 [==============================] - 0s 4ms/step - loss: 0.4763 - accuracy: 0.8571\n",
      "Epoch 11/50\n",
      "35/35 [==============================] - 0s 4ms/step - loss: 0.2723 - accuracy: 0.9026\n",
      "Epoch 12/50\n",
      "35/35 [==============================] - 0s 4ms/step - loss: 0.2537 - accuracy: 0.9117\n",
      "Epoch 13/50\n",
      "35/35 [==============================] - 0s 4ms/step - loss: 0.2849 - accuracy: 0.8972\n",
      "Epoch 14/50\n",
      "35/35 [==============================] - 0s 4ms/step - loss: 0.2653 - accuracy: 0.9045\n",
      "Epoch 15/50\n",
      "35/35 [==============================] - 0s 5ms/step - loss: 0.2212 - accuracy: 0.9208\n",
      "Epoch 16/50\n",
      "35/35 [==============================] - 0s 4ms/step - loss: 0.2290 - accuracy: 0.9245\n",
      "Epoch 17/50\n",
      "35/35 [==============================] - 0s 4ms/step - loss: 0.1859 - accuracy: 0.9354\n",
      "Epoch 18/50\n",
      "35/35 [==============================] - 0s 4ms/step - loss: 0.2069 - accuracy: 0.9345\n",
      "Epoch 19/50\n",
      "35/35 [==============================] - 0s 4ms/step - loss: 0.1781 - accuracy: 0.9490\n",
      "Epoch 20/50\n",
      "35/35 [==============================] - 0s 4ms/step - loss: 0.1357 - accuracy: 0.9645\n",
      "Epoch 21/50\n",
      "35/35 [==============================] - 0s 4ms/step - loss: 0.1501 - accuracy: 0.9518\n",
      "Epoch 22/50\n",
      "35/35 [==============================] - 0s 4ms/step - loss: 0.2136 - accuracy: 0.9245\n",
      "Epoch 23/50\n",
      "35/35 [==============================] - 0s 4ms/step - loss: 0.1829 - accuracy: 0.9381\n",
      "Epoch 24/50\n",
      "35/35 [==============================] - 0s 4ms/step - loss: 0.1710 - accuracy: 0.9390\n",
      "Epoch 25/50\n",
      "35/35 [==============================] - 0s 5ms/step - loss: 0.1458 - accuracy: 0.9527\n",
      "Epoch 26/50\n",
      "35/35 [==============================] - 0s 4ms/step - loss: 0.1474 - accuracy: 0.9518\n",
      "Epoch 27/50\n",
      "35/35 [==============================] - 0s 4ms/step - loss: 0.4063 - accuracy: 0.8399\n",
      "Epoch 28/50\n",
      "35/35 [==============================] - 0s 4ms/step - loss: 0.1377 - accuracy: 0.9527\n",
      "Epoch 29/50\n",
      "35/35 [==============================] - 0s 4ms/step - loss: 0.2193 - accuracy: 0.9272\n",
      "Epoch 30/50\n",
      "35/35 [==============================] - 0s 4ms/step - loss: 0.1606 - accuracy: 0.9518\n",
      "Epoch 31/50\n",
      "35/35 [==============================] - 0s 4ms/step - loss: 0.1591 - accuracy: 0.9445\n",
      "Epoch 32/50\n",
      "35/35 [==============================] - 0s 4ms/step - loss: 0.2346 - accuracy: 0.9136\n",
      "Epoch 33/50\n"
     ]
    },
    {
     "name": "stdout",
     "output_type": "stream",
     "text": [
      "35/35 [==============================] - 0s 5ms/step - loss: 0.1249 - accuracy: 0.9554\n",
      "Epoch 34/50\n",
      "35/35 [==============================] - 0s 4ms/step - loss: 0.1155 - accuracy: 0.9645\n",
      "Epoch 35/50\n",
      "35/35 [==============================] - 0s 5ms/step - loss: 0.1040 - accuracy: 0.9682\n",
      "Epoch 36/50\n",
      "35/35 [==============================] - 0s 4ms/step - loss: 0.1424 - accuracy: 0.9554\n",
      "Epoch 37/50\n",
      "35/35 [==============================] - 0s 4ms/step - loss: 0.2929 - accuracy: 0.8899\n",
      "Epoch 38/50\n",
      "35/35 [==============================] - 0s 4ms/step - loss: 0.3423 - accuracy: 0.8826\n",
      "Epoch 39/50\n",
      "35/35 [==============================] - 0s 4ms/step - loss: 0.3849 - accuracy: 0.8617\n",
      "Epoch 40/50\n",
      "35/35 [==============================] - 0s 4ms/step - loss: 0.2384 - accuracy: 0.9126\n",
      "Epoch 41/50\n",
      "35/35 [==============================] - 0s 4ms/step - loss: 0.1193 - accuracy: 0.9691\n",
      "Epoch 42/50\n",
      "35/35 [==============================] - 0s 4ms/step - loss: 0.1169 - accuracy: 0.9663\n",
      "Epoch 43/50\n",
      "35/35 [==============================] - 0s 4ms/step - loss: 0.1251 - accuracy: 0.9536\n",
      "Epoch 44/50\n",
      "35/35 [==============================] - 0s 4ms/step - loss: 0.5349 - accuracy: 0.8162\n",
      "Epoch 45/50\n",
      "35/35 [==============================] - 0s 5ms/step - loss: 0.2182 - accuracy: 0.9163\n",
      "Epoch 46/50\n",
      "35/35 [==============================] - 0s 4ms/step - loss: 0.1051 - accuracy: 0.9691\n",
      "Epoch 47/50\n",
      "35/35 [==============================] - 0s 4ms/step - loss: 0.1062 - accuracy: 0.9709\n",
      "Epoch 48/50\n",
      "35/35 [==============================] - 0s 4ms/step - loss: 0.1339 - accuracy: 0.9563\n",
      "Epoch 49/50\n",
      "35/35 [==============================] - 0s 4ms/step - loss: 0.1398 - accuracy: 0.9509\n",
      "Epoch 50/50\n",
      "35/35 [==============================] - 0s 4ms/step - loss: 0.0890 - accuracy: 0.9763\n",
      "18/18 [==============================] - 0s 2ms/step - loss: 0.2260 - accuracy: 0.9218\n",
      "Epoch 1/50\n",
      "35/35 [==============================] - 0s 4ms/step - loss: 0.1822 - accuracy: 0.9373\n",
      "Epoch 2/50\n",
      "35/35 [==============================] - 0s 4ms/step - loss: 0.2371 - accuracy: 0.9209\n",
      "Epoch 3/50\n",
      "35/35 [==============================] - 0s 4ms/step - loss: 0.2851 - accuracy: 0.9045\n",
      "Epoch 4/50\n",
      "35/35 [==============================] - 0s 4ms/step - loss: 0.4281 - accuracy: 0.8482\n",
      "Epoch 5/50\n",
      "35/35 [==============================] - 0s 4ms/step - loss: 0.2064 - accuracy: 0.9182\n",
      "Epoch 6/50\n",
      "35/35 [==============================] - 0s 4ms/step - loss: 0.2824 - accuracy: 0.9036\n",
      "Epoch 7/50\n",
      "35/35 [==============================] - 0s 4ms/step - loss: 0.2381 - accuracy: 0.9173\n",
      "Epoch 8/50\n",
      "35/35 [==============================] - 0s 4ms/step - loss: 0.2271 - accuracy: 0.9264\n",
      "Epoch 9/50\n",
      "35/35 [==============================] - 0s 4ms/step - loss: 0.1536 - accuracy: 0.9382\n",
      "Epoch 10/50\n",
      "35/35 [==============================] - 0s 5ms/step - loss: 0.2388 - accuracy: 0.9100\n",
      "Epoch 11/50\n",
      "35/35 [==============================] - 0s 4ms/step - loss: 0.1365 - accuracy: 0.9555\n",
      "Epoch 12/50\n",
      "35/35 [==============================] - 0s 4ms/step - loss: 0.1141 - accuracy: 0.9664\n",
      "Epoch 13/50\n",
      "35/35 [==============================] - 0s 4ms/step - loss: 0.2707 - accuracy: 0.9136\n",
      "Epoch 14/50\n",
      "35/35 [==============================] - 0s 4ms/step - loss: 0.0918 - accuracy: 0.9791\n",
      "Epoch 15/50\n",
      "35/35 [==============================] - 0s 5ms/step - loss: 0.1042 - accuracy: 0.9691\n",
      "Epoch 16/50\n",
      "35/35 [==============================] - 0s 6ms/step - loss: 0.2466 - accuracy: 0.9091\n",
      "Epoch 17/50\n",
      "35/35 [==============================] - 0s 4ms/step - loss: 0.1280 - accuracy: 0.9600\n",
      "Epoch 18/50\n",
      "35/35 [==============================] - 0s 4ms/step - loss: 0.1751 - accuracy: 0.9436\n",
      "Epoch 19/50\n",
      "35/35 [==============================] - 0s 4ms/step - loss: 0.1727 - accuracy: 0.9355\n",
      "Epoch 20/50\n",
      "35/35 [==============================] - 0s 4ms/step - loss: 0.0984 - accuracy: 0.9718\n",
      "Epoch 21/50\n",
      "35/35 [==============================] - 0s 4ms/step - loss: 0.1041 - accuracy: 0.9691\n",
      "Epoch 22/50\n",
      "35/35 [==============================] - 0s 4ms/step - loss: 0.1509 - accuracy: 0.9536\n",
      "Epoch 23/50\n",
      "35/35 [==============================] - 0s 4ms/step - loss: 0.1149 - accuracy: 0.9591\n",
      "Epoch 24/50\n",
      "35/35 [==============================] - 0s 4ms/step - loss: 0.1184 - accuracy: 0.9536\n",
      "Epoch 25/50\n",
      "35/35 [==============================] - 0s 5ms/step - loss: 0.1225 - accuracy: 0.9645\n",
      "Epoch 26/50\n",
      "35/35 [==============================] - 0s 4ms/step - loss: 0.1501 - accuracy: 0.9564\n",
      "Epoch 27/50\n",
      "35/35 [==============================] - 0s 4ms/step - loss: 0.0921 - accuracy: 0.9718\n",
      "Epoch 28/50\n",
      "35/35 [==============================] - 0s 4ms/step - loss: 0.2129 - accuracy: 0.9145\n",
      "Epoch 29/50\n",
      "35/35 [==============================] - 0s 4ms/step - loss: 0.4591 - accuracy: 0.8518\n",
      "Epoch 30/50\n",
      "35/35 [==============================] - 0s 4ms/step - loss: 0.1211 - accuracy: 0.9609\n",
      "Epoch 31/50\n",
      "35/35 [==============================] - 0s 4ms/step - loss: 0.0790 - accuracy: 0.9782\n",
      "Epoch 32/50\n",
      "35/35 [==============================] - 0s 5ms/step - loss: 0.0742 - accuracy: 0.9755\n",
      "Epoch 33/50\n",
      "35/35 [==============================] - 0s 5ms/step - loss: 0.0566 - accuracy: 0.9836\n",
      "Epoch 34/50\n",
      "35/35 [==============================] - 0s 5ms/step - loss: 0.0641 - accuracy: 0.9836\n",
      "Epoch 35/50\n",
      "35/35 [==============================] - 0s 6ms/step - loss: 0.1468 - accuracy: 0.9464\n",
      "Epoch 36/50\n",
      "35/35 [==============================] - 0s 4ms/step - loss: 0.2566 - accuracy: 0.9027\n",
      "Epoch 37/50\n",
      "35/35 [==============================] - 0s 5ms/step - loss: 0.2162 - accuracy: 0.9227\n",
      "Epoch 38/50\n",
      "35/35 [==============================] - 0s 6ms/step - loss: 0.1445 - accuracy: 0.9482\n",
      "Epoch 39/50\n",
      "35/35 [==============================] - 0s 4ms/step - loss: 0.0929 - accuracy: 0.9673\n",
      "Epoch 40/50\n",
      "35/35 [==============================] - 0s 4ms/step - loss: 0.2229 - accuracy: 0.9182\n",
      "Epoch 41/50\n",
      "35/35 [==============================] - 0s 5ms/step - loss: 0.7823 - accuracy: 0.7573\n",
      "Epoch 42/50\n",
      "35/35 [==============================] - 0s 5ms/step - loss: 0.5479 - accuracy: 0.8300\n",
      "Epoch 43/50\n",
      "35/35 [==============================] - 0s 5ms/step - loss: 0.1380 - accuracy: 0.9564\n",
      "Epoch 44/50\n",
      "35/35 [==============================] - 0s 5ms/step - loss: 0.0837 - accuracy: 0.9836\n",
      "Epoch 45/50\n",
      "35/35 [==============================] - 0s 4ms/step - loss: 0.0732 - accuracy: 0.9818\n",
      "Epoch 46/50\n",
      "35/35 [==============================] - 0s 5ms/step - loss: 0.0804 - accuracy: 0.9755\n",
      "Epoch 47/50\n",
      "35/35 [==============================] - 0s 4ms/step - loss: 0.0989 - accuracy: 0.9645\n",
      "Epoch 48/50\n",
      "35/35 [==============================] - 0s 4ms/step - loss: 0.0895 - accuracy: 0.9755\n",
      "Epoch 49/50\n",
      "35/35 [==============================] - 0s 6ms/step - loss: 0.0563 - accuracy: 0.9855\n",
      "Epoch 50/50\n",
      "35/35 [==============================] - 0s 5ms/step - loss: 0.0560 - accuracy: 0.9882\n",
      "18/18 [==============================] - 0s 3ms/step - loss: 0.2359 - accuracy: 0.9235\n"
     ]
    }
   ],
   "source": [
    "scoresModel2 , histories2 = evaluate_model(x_train,y_train,3,model2)\n"
   ]
  },
  {
   "cell_type": "code",
   "execution_count": null,
   "id": "dc780362",
   "metadata": {},
   "outputs": [
    {
     "name": "stdout",
     "output_type": "stream",
     "text": [
      "[0.8472727537155151, 0.921818196773529, 0.9234972596168518]\n",
      "[<keras.engine.sequential.Sequential object at 0x000001B403700220>, <keras.engine.sequential.Sequential object at 0x000001B403700220>, <keras.engine.sequential.Sequential object at 0x000001B403700220>]\n"
     ]
    }
   ],
   "source": [
    "print(scoresModel2)\n",
    "print(histories2)"
   ]
  },
  {
   "cell_type": "markdown",
   "id": "c3405c04",
   "metadata": {},
   "source": [
    "## With CNN"
   ]
  },
  {
   "cell_type": "code",
   "execution_count": null,
   "id": "49b164a1",
   "metadata": {},
   "outputs": [
    {
     "name": "stdout",
     "output_type": "stream",
     "text": [
      "(1649, 4096)\n"
     ]
    }
   ],
   "source": [
    "print(x_train.shape)"
   ]
  },
  {
   "cell_type": "code",
   "execution_count": null,
   "id": "df15a90e",
   "metadata": {},
   "outputs": [],
   "source": [
    "cnn = models.Sequential([\n",
    "    \n",
    "    layers.Conv2D(filters=32, kernel_size=(4, 4), activation='relu', input_shape=(64, 64 ,1)),\n",
    "    layers.MaxPooling2D((2, 2)),\n",
    "    \n",
    "    layers.Conv2D(filters=64, kernel_size=(3, 3), activation='relu'),\n",
    "    layers.MaxPooling2D((2, 2)),\n",
    "    \n",
    "    layers.Flatten(),\n",
    "    layers.Dense(64, activation='relu'),\n",
    "    layers.Dense(10, activation='sigmoid')\n",
    "])"
   ]
  },
  {
   "cell_type": "code",
   "execution_count": null,
   "id": "fd516ed3",
   "metadata": {},
   "outputs": [],
   "source": [
    "cnn.compile(optimizer='adam',\n",
    "              loss='sparse_categorical_crossentropy',\n",
    "              metrics=['accuracy'])"
   ]
  },
  {
   "cell_type": "code",
   "execution_count": null,
   "id": "f6d2ba15",
   "metadata": {},
   "outputs": [
    {
     "name": "stdout",
     "output_type": "stream",
     "text": [
      "Epoch 1/20\n",
      "52/52 [==============================] - 6s 93ms/step - loss: 2.0796 - accuracy: 0.2838\n",
      "Epoch 2/20\n",
      "52/52 [==============================] - 6s 114ms/step - loss: 1.0574 - accuracy: 0.6628\n",
      "Epoch 3/20\n",
      "52/52 [==============================] - 3s 60ms/step - loss: 0.6709 - accuracy: 0.7908\n",
      "Epoch 4/20\n",
      "52/52 [==============================] - 3s 57ms/step - loss: 0.5129 - accuracy: 0.8405\n",
      "Epoch 5/20\n",
      "52/52 [==============================] - 3s 54ms/step - loss: 0.4357 - accuracy: 0.8727\n",
      "Epoch 6/20\n",
      "52/52 [==============================] - 4s 71ms/step - loss: 0.3606 - accuracy: 0.8872\n",
      "Epoch 7/20\n",
      "52/52 [==============================] - 4s 68ms/step - loss: 0.2998 - accuracy: 0.9060\n",
      "Epoch 8/20\n",
      "52/52 [==============================] - 3s 62ms/step - loss: 0.2377 - accuracy: 0.9290\n",
      "Epoch 9/20\n",
      "52/52 [==============================] - 3s 56ms/step - loss: 0.1991 - accuracy: 0.9375\n",
      "Epoch 10/20\n",
      "52/52 [==============================] - 3s 52ms/step - loss: 0.1586 - accuracy: 0.9539\n",
      "Epoch 11/20\n",
      "52/52 [==============================] - 4s 75ms/step - loss: 0.1308 - accuracy: 0.9588\n",
      "Epoch 12/20\n",
      "52/52 [==============================] - 4s 76ms/step - loss: 0.1068 - accuracy: 0.9691\n",
      "Epoch 13/20\n",
      "52/52 [==============================] - 4s 69ms/step - loss: 0.0933 - accuracy: 0.9733\n",
      "Epoch 14/20\n",
      "52/52 [==============================] - 3s 55ms/step - loss: 0.0551 - accuracy: 0.9885\n",
      "Epoch 15/20\n",
      "52/52 [==============================] - 3s 54ms/step - loss: 0.0477 - accuracy: 0.9891\n",
      "Epoch 16/20\n",
      "52/52 [==============================] - 5s 102ms/step - loss: 0.0359 - accuracy: 0.9909\n",
      "Epoch 17/20\n",
      "52/52 [==============================] - 5s 102ms/step - loss: 0.0233 - accuracy: 0.9970\n",
      "Epoch 18/20\n",
      "52/52 [==============================] - 3s 53ms/step - loss: 0.0183 - accuracy: 0.9994\n",
      "Epoch 19/20\n",
      "52/52 [==============================] - 3s 52ms/step - loss: 0.0126 - accuracy: 0.9982\n",
      "Epoch 20/20\n",
      "52/52 [==============================] - 4s 79ms/step - loss: 0.0078 - accuracy: 1.0000\n"
     ]
    },
    {
     "data": {
      "text/plain": [
       "<keras.callbacks.History at 0x114c054cf10>"
      ]
     },
     "execution_count": 15,
     "metadata": {},
     "output_type": "execute_result"
    }
   ],
   "source": [
    "x_train = x_train.reshape(len(x_train),64,64,1)\n",
    "x_test = x_test.reshape(len(x_test),64,64,1)\n",
    "cnn.fit(x_train, y_train, epochs=20)"
   ]
  },
  {
   "cell_type": "code",
   "execution_count": null,
   "id": "e9e4880c",
   "metadata": {},
   "outputs": [
    {
     "name": "stdout",
     "output_type": "stream",
     "text": [
      "13/13 [==============================] - 1s 26ms/step - loss: 0.5786 - accuracy: 0.8741\n"
     ]
    },
    {
     "data": {
      "text/plain": [
       "[0.5786033868789673, 0.8740919828414917]"
      ]
     },
     "execution_count": 16,
     "metadata": {},
     "output_type": "execute_result"
    }
   ],
   "source": [
    "cnn.evaluate(x_test,y_test)"
   ]
  },
  {
   "cell_type": "code",
   "execution_count": null,
   "id": "b4ca557e",
   "metadata": {},
   "outputs": [
    {
     "name": "stdout",
     "output_type": "stream",
     "text": [
      "13/13 [==============================] - 1s 40ms/step\n"
     ]
    }
   ],
   "source": [
    "y_pred = cnn.predict(x_test)"
   ]
  },
  {
   "cell_type": "code",
   "execution_count": null,
   "id": "77998f5b",
   "metadata": {},
   "outputs": [
    {
     "name": "stdout",
     "output_type": "stream",
     "text": [
      "8\n",
      "8.0\n"
     ]
    },
    {
     "data": {
      "image/png": "[encoded data removed]",
      "text/plain": [
       "<Figure size 480x480 with 1 Axes>"
      ]
     },
     "metadata": {},
     "output_type": "display_data"
    }
   ],
   "source": [
    "y_classes = [np.argmax(element) for element in y_pred]\n",
    "roro = random_state=random.randint(0,len(x_test) - 1)\n",
    "img = x_test[roro].reshape(64,64,1)\n",
    "plt.matshow(img,cmap = 'gray')\n",
    "print(y_classes[roro])\n",
    "print(y_test[roro])"
   ]
  },
  {
   "cell_type": "markdown",
   "id": "7e28a261",
   "metadata": {},
   "source": [
    "## CNN with RGB"
   ]
  },
  {
   "cell_type": "code",
   "execution_count": 18,
   "id": "d1e72cb9",
   "metadata": {},
   "outputs": [],
   "source": [
    "def get_img(data_path):\n",
    "    # Getting image array from path:\n",
    "    img = imread(data_path)\n",
    "    img = resize(img, (img_size, img_size,3))\n",
    "    return img"
   ]
  },
  {
   "cell_type": "code",
   "execution_count": 27,
   "id": "21f284c9",
   "metadata": {},
   "outputs": [],
   "source": [
    "def get_dataset(dataset_path='Dataset'):\n",
    "    # Getting all data from data path:\n",
    "    labels = listdir(dataset_path)  # Geting labels\n",
    "    X = []\n",
    "    Y = []\n",
    "    Z = []\n",
    "    for i, label in enumerate(labels):\n",
    "        datas_path = dataset_path + '/' + label\n",
    "        for data in listdir(datas_path):\n",
    "            img = get_img(datas_path + '/' + data)\n",
    "            #plt.matshow(img)\n",
    "            X.append(img)\n",
    "            Z.append(img)\n",
    "            Y.append(i)\n",
    "        # Create dateset:\n",
    "    #X = 1 - np.array(X).astype('float32') / 255.\n",
    "    X = np.array(X).astype('float32')\n",
    "    Y = np.array(Y).astype('float32')\n",
    "    m=X.mean()\n",
    "    #for i in range(X.shape[0])\n",
    "    #Y = to_categorical(Y, num_class)\n",
    "    X, X_test, Y, Y_test = train_test_split(X, Y, test_size=test_size, random_state=32)\n",
    "    return X, X_test, Y, Y_test,Z, m"
   ]
  },
  {
   "cell_type": "code",
   "execution_count": 84,
   "id": "28c59c65",
   "metadata": {},
   "outputs": [],
   "source": [
    "x_train, x_test, y_train, y_test , img, m = get_dataset('D:\\Sign-Language-Digits-Dataset-master\\Dataset')"
   ]
  },
  {
   "cell_type": "code",
   "execution_count": 82,
   "id": "943e969d",
   "metadata": {},
   "outputs": [
    {
     "name": "stdout",
     "output_type": "stream",
     "text": [
      "(1649, 64, 64, 3)\n",
      "==================================\n"
     ]
    }
   ],
   "source": [
    "print(x_train.shape)\n",
    "#print(x_train[0])\n",
    "print(\"==================================\")\n",
    "for i  in range(x_train.shape[0]):\n",
    "    for j in range(x_train.shape[1]):\n",
    "        x_train[i][j][k] = (x_train[i][j][k] - m) /255.0\n",
    "for i  in range(x_test.shape[0]):\n",
    "    for j in range(x_test.shape[1]): \n",
    "        x_test[i][j][k] = (x_test[i][j][k] - m) /255.0\n",
    "#print(x_train[0])\n"
   ]
  },
  {
   "cell_type": "code",
   "execution_count": 30,
   "id": "4f6bce97",
   "metadata": {},
   "outputs": [],
   "source": [
    "cnn = models.Sequential([\n",
    "    \n",
    "    layers.Conv2D(filters=32, kernel_size=(4, 4), activation='relu', input_shape=(64, 64 ,3)),\n",
    "    layers.MaxPooling2D((2, 2)),\n",
    "    \n",
    "    layers.Conv2D(filters=64, kernel_size=(3, 3), activation='relu'),\n",
    "    layers.MaxPooling2D((2, 2)),\n",
    "    \n",
    "    layers.Flatten(),\n",
    "    layers.Dense(64, activation='relu'),\n",
    "    layers.Dense(10, activation='sigmoid')\n",
    "])"
   ]
  },
  {
   "cell_type": "code",
   "execution_count": 31,
   "id": "bdbc1ab5",
   "metadata": {},
   "outputs": [],
   "source": [
    "cnn.compile(optimizer='adam',\n",
    "              loss='sparse_categorical_crossentropy',\n",
    "              metrics=['accuracy'])"
   ]
  },
  {
   "cell_type": "code",
   "execution_count": 32,
   "id": "1e10d737",
   "metadata": {},
   "outputs": [
    {
     "name": "stdout",
     "output_type": "stream",
     "text": [
      "Epoch 1/20\n",
      "52/52 [==============================] - 7s 108ms/step - loss: 2.3034 - accuracy: 0.0910\n",
      "Epoch 2/20\n",
      "52/52 [==============================] - 5s 104ms/step - loss: 2.3027 - accuracy: 0.0855\n",
      "Epoch 3/20\n",
      "52/52 [==============================] - 5s 103ms/step - loss: 2.3026 - accuracy: 0.1140\n",
      "Epoch 4/20\n",
      "52/52 [==============================] - 5s 103ms/step - loss: 2.2892 - accuracy: 0.1352\n",
      "Epoch 5/20\n",
      "52/52 [==============================] - 6s 105ms/step - loss: 2.1584 - accuracy: 0.2347\n",
      "Epoch 6/20\n",
      "52/52 [==============================] - 6s 107ms/step - loss: 1.7928 - accuracy: 0.4002\n",
      "Epoch 7/20\n",
      "52/52 [==============================] - 6s 114ms/step - loss: 1.3664 - accuracy: 0.5597\n",
      "Epoch 8/20\n",
      "52/52 [==============================] - 6s 108ms/step - loss: 1.1221 - accuracy: 0.6380\n",
      "Epoch 9/20\n",
      "52/52 [==============================] - 5s 105ms/step - loss: 0.9681 - accuracy: 0.6913\n",
      "Epoch 10/20\n",
      "52/52 [==============================] - 6s 107ms/step - loss: 0.9102 - accuracy: 0.6956\n",
      "Epoch 11/20\n",
      "52/52 [==============================] - 6s 109ms/step - loss: 0.8416 - accuracy: 0.7338\n",
      "Epoch 12/20\n",
      "52/52 [==============================] - 6s 109ms/step - loss: 0.8005 - accuracy: 0.7459\n",
      "Epoch 13/20\n",
      "52/52 [==============================] - 6s 108ms/step - loss: 0.7732 - accuracy: 0.7520\n",
      "Epoch 14/20\n",
      "52/52 [==============================] - 6s 109ms/step - loss: 0.7264 - accuracy: 0.7671\n",
      "Epoch 15/20\n",
      "52/52 [==============================] - 6s 108ms/step - loss: 0.7090 - accuracy: 0.7823\n",
      "Epoch 16/20\n",
      "52/52 [==============================] - 6s 110ms/step - loss: 0.6733 - accuracy: 0.7920\n",
      "Epoch 17/20\n",
      "52/52 [==============================] - 6s 113ms/step - loss: 0.6636 - accuracy: 0.7823\n",
      "Epoch 18/20\n",
      "52/52 [==============================] - 6s 106ms/step - loss: 0.6401 - accuracy: 0.8041\n",
      "Epoch 19/20\n",
      "52/52 [==============================] - 6s 107ms/step - loss: 0.6332 - accuracy: 0.7987\n",
      "Epoch 20/20\n",
      "52/52 [==============================] - 6s 107ms/step - loss: 0.6038 - accuracy: 0.8084\n"
     ]
    },
    {
     "data": {
      "text/plain": [
       "<keras.callbacks.History at 0x174d4bf7730>"
      ]
     },
     "execution_count": 32,
     "metadata": {},
     "output_type": "execute_result"
    }
   ],
   "source": [
    "cnn.fit(x_train, y_train, epochs=20)"
   ]
  },
  {
   "cell_type": "code",
   "execution_count": 35,
   "id": "450258ac",
   "metadata": {},
   "outputs": [
    {
     "name": "stdout",
     "output_type": "stream",
     "text": [
      "13/13 [==============================] - 0s 23ms/step - loss: 0.7864 - accuracy: 0.7627\n"
     ]
    },
    {
     "data": {
      "text/plain": [
       "[0.7863529324531555, 0.7627118825912476]"
      ]
     },
     "execution_count": 35,
     "metadata": {},
     "output_type": "execute_result"
    }
   ],
   "source": [
    "cnn.evaluate(x_test,y_test)"
   ]
  },
  {
   "cell_type": "code",
   "execution_count": 36,
   "id": "bdae2edf",
   "metadata": {},
   "outputs": [
    {
     "name": "stdout",
     "output_type": "stream",
     "text": [
      "13/13 [==============================] - 0s 25ms/step\n"
     ]
    }
   ],
   "source": [
    "y_pred = cnn.predict(x_test)"
   ]
  },
  {
   "cell_type": "code",
   "execution_count": 85,
   "id": "ac0fcb26",
   "metadata": {},
   "outputs": [
    {
     "name": "stdout",
     "output_type": "stream",
     "text": [
      "4\n",
      "4.0\n"
     ]
    },
    {
     "data": {
      "image/png": "[encoded data removed]",
      "text/plain": [
       "<Figure size 288x288 with 1 Axes>"
      ]
     },
     "metadata": {
      "needs_background": "light"
     },
     "output_type": "display_data"
    }
   ],
   "source": [
    "y_classes = [np.argmax(element) for element in y_pred]\n",
    "roro = random_state=random.randint(0,len(x_test) - 1)\n",
    "img = x_test[roro].reshape(64,64,3)\n",
    "plt.matshow(img,cmap = 'gray')\n",
    "print(y_classes[roro])\n",
    "print(y_test[roro])"
   ]
  },
  {
   "cell_type": "code",
   "execution_count": 86,
   "id": "1a0420d2",
   "metadata": {},
   "outputs": [
    {
     "name": "stdout",
     "output_type": "stream",
     "text": [
      "Epoch 1/10\n",
      "35/35 [==============================] - 5s 107ms/step - loss: 2.2949 - accuracy: 0.1692\n",
      "Epoch 2/10\n",
      "35/35 [==============================] - 4s 104ms/step - loss: 1.7275 - accuracy: 0.4686\n",
      "Epoch 3/10\n",
      "35/35 [==============================] - 4s 105ms/step - loss: 0.9808 - accuracy: 0.6724\n",
      "Epoch 4/10\n",
      "35/35 [==============================] - 4s 106ms/step - loss: 0.6538 - accuracy: 0.7780\n",
      "Epoch 5/10\n",
      "35/35 [==============================] - 4s 106ms/step - loss: 0.4548 - accuracy: 0.8517\n",
      "Epoch 6/10\n",
      "35/35 [==============================] - 4s 107ms/step - loss: 0.3878 - accuracy: 0.8735\n",
      "Epoch 7/10\n",
      "35/35 [==============================] - 4s 110ms/step - loss: 0.2973 - accuracy: 0.8944\n",
      "Epoch 8/10\n",
      "35/35 [==============================] - 4s 108ms/step - loss: 0.2367 - accuracy: 0.9272\n",
      "Epoch 9/10\n",
      "35/35 [==============================] - 4s 109ms/step - loss: 0.1732 - accuracy: 0.9472\n",
      "Epoch 10/10\n",
      "35/35 [==============================] - 4s 110ms/step - loss: 0.1205 - accuracy: 0.9636\n",
      "18/18 [==============================] - 1s 20ms/step - loss: 0.6496 - accuracy: 0.8327\n",
      "Epoch 1/10\n",
      "35/35 [==============================] - 4s 110ms/step - loss: 0.3431 - accuracy: 0.9035\n",
      "Epoch 2/10\n",
      "35/35 [==============================] - 4s 110ms/step - loss: 0.2240 - accuracy: 0.9381\n",
      "Epoch 3/10\n",
      "35/35 [==============================] - 4s 110ms/step - loss: 0.1735 - accuracy: 0.9518\n",
      "Epoch 4/10\n",
      "35/35 [==============================] - 4s 109ms/step - loss: 0.1163 - accuracy: 0.9718\n",
      "Epoch 5/10\n",
      "35/35 [==============================] - 4s 112ms/step - loss: 0.0839 - accuracy: 0.9827\n",
      "Epoch 6/10\n",
      "35/35 [==============================] - 4s 112ms/step - loss: 0.0722 - accuracy: 0.9873\n",
      "Epoch 7/10\n",
      "35/35 [==============================] - 4s 116ms/step - loss: 0.0462 - accuracy: 0.9945\n",
      "Epoch 8/10\n",
      "35/35 [==============================] - 4s 106ms/step - loss: 0.0297 - accuracy: 0.9973\n",
      "Epoch 9/10\n",
      "35/35 [==============================] - 4s 103ms/step - loss: 0.0173 - accuracy: 0.9991\n",
      "Epoch 10/10\n",
      "35/35 [==============================] - 4s 106ms/step - loss: 0.0115 - accuracy: 1.0000\n",
      "18/18 [==============================] - 0s 20ms/step - loss: 0.0879 - accuracy: 0.9691\n",
      "Epoch 1/10\n",
      "35/35 [==============================] - 4s 103ms/step - loss: 0.0808 - accuracy: 0.9727\n",
      "Epoch 2/10\n",
      "35/35 [==============================] - 4s 102ms/step - loss: 0.0512 - accuracy: 0.9845\n",
      "Epoch 3/10\n",
      "35/35 [==============================] - 4s 104ms/step - loss: 0.0262 - accuracy: 0.9973\n",
      "Epoch 4/10\n",
      "35/35 [==============================] - 4s 103ms/step - loss: 0.0173 - accuracy: 0.9982\n",
      "Epoch 5/10\n",
      "35/35 [==============================] - 4s 102ms/step - loss: 0.0143 - accuracy: 0.9982\n",
      "Epoch 6/10\n",
      "35/35 [==============================] - 4s 102ms/step - loss: 0.0051 - accuracy: 1.0000\n",
      "Epoch 7/10\n",
      "35/35 [==============================] - 4s 103ms/step - loss: 0.0032 - accuracy: 1.0000\n",
      "Epoch 8/10\n",
      "35/35 [==============================] - 4s 103ms/step - loss: 0.0024 - accuracy: 1.0000\n",
      "Epoch 9/10\n",
      "35/35 [==============================] - 4s 102ms/step - loss: 0.0021 - accuracy: 1.0000\n",
      "Epoch 10/10\n",
      "35/35 [==============================] - 4s 104ms/step - loss: 0.0018 - accuracy: 1.0000\n",
      "18/18 [==============================] - 0s 22ms/step - loss: 0.0265 - accuracy: 0.9909\n"
     ]
    }
   ],
   "source": [
    "def define_model4():\n",
    "    cn = models.Sequential([\n",
    "    \n",
    "    layers.Conv2D(filters=32, kernel_size=(4, 4), activation='relu', input_shape=(64, 64 ,3)),\n",
    "    layers.MaxPooling2D((2, 2)),\n",
    "    \n",
    "    layers.Conv2D(filters=64, kernel_size=(3, 3), activation='relu'),\n",
    "    layers.MaxPooling2D((2, 2)),\n",
    "    \n",
    "    layers.Flatten(),\n",
    "    layers.Dense(64, activation='relu'),\n",
    "    layers.Dense(10, activation='sigmoid')\n",
    "])\n",
    "\n",
    "    cn.compile(optimizer='adam',\n",
    "              loss='sparse_categorical_crossentropy',\n",
    "              metrics=['fscore'])\n",
    "\n",
    "   \n",
    "    return cn\n",
    "\n",
    "# evaluate a model using k-fold cross-validation\n",
    "def evaluate_model_CNN(dataX, dataY, n_folds=5 ,Model = define_model4()):\n",
    "    scores, histories = list(), list()\n",
    "    # prepare cross validation\n",
    "    kfold = KFold(n_folds, shuffle=True, random_state=1)\n",
    "    # enumerate splits\n",
    "    for train_ix, test_ix in kfold.split(dataX):\n",
    "        # define model\n",
    "        # select rows for train and test\n",
    "        trainX, trainY, testX, testY = dataX[train_ix], dataY[train_ix], dataX[test_ix], dataY[test_ix]\n",
    "        \n",
    "        #trainX = trainX.reshape(len(trainX),64 ,64 , 3)\n",
    "        #testX = testX.reshape(len(testX),64,64 , 3)\n",
    "        model = Model\n",
    "        model.fit(trainX, trainY, epochs=10)\n",
    "        # fit model\n",
    "        history = model\n",
    "        # evaluate model\n",
    "        _, acc = model.evaluate(testX,testY)\n",
    "        # stores scores\n",
    "        scores.append(acc)\n",
    "        histories.append(history)\n",
    "    return scores, histories\n",
    "\n",
    "scoresModel3 , histories3 = evaluate_model_CNN(x_train,y_train,3 )\n"
   ]
  },
  {
   "cell_type": "code",
   "execution_count": 54,
   "id": "5b3950c8",
   "metadata": {},
   "outputs": [
    {
     "name": "stdout",
     "output_type": "stream",
     "text": [
      "Training on Fold:  1\n",
      "Epoch 1/10\n",
      "11/11 [==============================] - ETA: 0s - loss: 2.2962 - accuracy: 0.1386\n",
      "Epoch 1: val_loss improved from inf to 2.29971, saving model to fas_mnist_1.h5\n",
      "11/11 [==============================] - 5s 412ms/step - loss: 2.2962 - accuracy: 0.1386 - val_loss: 2.2997 - val_accuracy: 0.0671\n",
      "Epoch 2/10\n",
      "11/11 [==============================] - ETA: 0s - loss: 2.2940 - accuracy: 0.1019\n",
      "Epoch 2: val_loss did not improve from 2.29971\n",
      "11/11 [==============================] - 4s 349ms/step - loss: 2.2940 - accuracy: 0.1019 - val_loss: 2.3002 - val_accuracy: 0.0671\n",
      "Epoch 3/10\n",
      "11/11 [==============================] - ETA: 0s - loss: 2.2959 - accuracy: 0.1071\n",
      "Epoch 3: val_loss did not improve from 2.29971\n",
      "11/11 [==============================] - 4s 350ms/step - loss: 2.2959 - accuracy: 0.1071 - val_loss: 2.3099 - val_accuracy: 0.1342\n",
      "Epoch 4/10\n",
      "11/11 [==============================] - ETA: 0s - loss: 2.2939 - accuracy: 0.1835\n",
      "Epoch 4: val_loss improved from 2.29971 to 2.29686, saving model to fas_mnist_1.h5\n",
      "11/11 [==============================] - 4s 358ms/step - loss: 2.2939 - accuracy: 0.1835 - val_loss: 2.2969 - val_accuracy: 0.1544\n",
      "Epoch 5/10\n",
      "11/11 [==============================] - ETA: 0s - loss: 2.2939 - accuracy: 0.1288\n",
      "Epoch 5: val_loss did not improve from 2.29686\n",
      "11/11 [==============================] - 4s 384ms/step - loss: 2.2939 - accuracy: 0.1288 - val_loss: 2.2986 - val_accuracy: 0.0671\n",
      "Epoch 6/10\n",
      "11/11 [==============================] - ETA: 0s - loss: 2.2942 - accuracy: 0.1019\n",
      "Epoch 6: val_loss did not improve from 2.29686\n",
      "11/11 [==============================] - 4s 407ms/step - loss: 2.2942 - accuracy: 0.1019 - val_loss: 2.2989 - val_accuracy: 0.0671\n",
      "Epoch 7/10\n",
      "11/11 [==============================] - ETA: 0s - loss: 2.2943 - accuracy: 0.1184\n",
      "Epoch 7: val_loss did not improve from 2.29686\n",
      "11/11 [==============================] - 4s 379ms/step - loss: 2.2943 - accuracy: 0.1184 - val_loss: 2.2999 - val_accuracy: 0.0940\n",
      "Epoch 8/10\n",
      "11/11 [==============================] - ETA: 0s - loss: 2.2936 - accuracy: 0.1805\n",
      "Epoch 8: val_loss did not improve from 2.29686\n",
      "11/11 [==============================] - 4s 346ms/step - loss: 2.2936 - accuracy: 0.1805 - val_loss: 2.3023 - val_accuracy: 0.0671\n",
      "Epoch 9/10\n",
      "11/11 [==============================] - ETA: 0s - loss: 2.2923 - accuracy: 0.1019\n",
      "Epoch 9: val_loss did not improve from 2.29686\n",
      "11/11 [==============================] - 4s 383ms/step - loss: 2.2923 - accuracy: 0.1019 - val_loss: 2.2973 - val_accuracy: 0.0671\n",
      "Epoch 9: early stopping\n",
      "6/6 [==============================] - 0s 29ms/step - loss: 2.3023 - accuracy: 0.0848\n",
      "Val Score:  [2.302335500717163, 0.08484848588705063]\n",
      "Training on Fold:  2\n",
      "Epoch 1/10\n",
      "11/11 [==============================] - ETA: 0s - loss: 2.2936 - accuracy: 0.1131\n",
      "Epoch 1: val_loss did not improve from 2.29686\n",
      "11/11 [==============================] - 4s 349ms/step - loss: 2.2936 - accuracy: 0.1131 - val_loss: 2.2997 - val_accuracy: 0.1745\n",
      "Epoch 2/10\n",
      "11/11 [==============================] - ETA: 0s - loss: 2.2947 - accuracy: 0.1236\n",
      "Epoch 2: val_loss did not improve from 2.29686\n",
      "11/11 [==============================] - 4s 325ms/step - loss: 2.2947 - accuracy: 0.1236 - val_loss: 2.2973 - val_accuracy: 0.2215\n",
      "Epoch 3/10\n",
      "11/11 [==============================] - ETA: 0s - loss: 2.2942 - accuracy: 0.1318\n",
      "Epoch 3: val_loss improved from 2.29686 to 2.29659, saving model to fas_mnist_1.h5\n",
      "11/11 [==============================] - 5s 436ms/step - loss: 2.2942 - accuracy: 0.1318 - val_loss: 2.2966 - val_accuracy: 0.1275\n",
      "Epoch 4/10\n",
      "11/11 [==============================] - ETA: 0s - loss: 2.2929 - accuracy: 0.1910\n",
      "Epoch 4: val_loss did not improve from 2.29659\n",
      "11/11 [==============================] - 5s 436ms/step - loss: 2.2929 - accuracy: 0.1910 - val_loss: 2.3011 - val_accuracy: 0.2349\n",
      "Epoch 5/10\n",
      "11/11 [==============================] - ETA: 0s - loss: 2.2935 - accuracy: 0.1296\n",
      "Epoch 5: val_loss improved from 2.29659 to 2.29481, saving model to fas_mnist_1.h5\n",
      "11/11 [==============================] - 5s 392ms/step - loss: 2.2935 - accuracy: 0.1296 - val_loss: 2.2948 - val_accuracy: 0.1745\n",
      "Epoch 6/10\n",
      "11/11 [==============================] - ETA: 0s - loss: 2.2936 - accuracy: 0.1805\n",
      "Epoch 6: val_loss did not improve from 2.29481\n",
      "11/11 [==============================] - 4s 374ms/step - loss: 2.2936 - accuracy: 0.1805 - val_loss: 2.2984 - val_accuracy: 0.1611\n",
      "Epoch 7/10\n",
      "11/11 [==============================] - ETA: 0s - loss: 2.2921 - accuracy: 0.1551\n",
      "Epoch 7: val_loss improved from 2.29481 to 2.29392, saving model to fas_mnist_1.h5\n",
      "11/11 [==============================] - 4s 386ms/step - loss: 2.2921 - accuracy: 0.1551 - val_loss: 2.2939 - val_accuracy: 0.1342\n",
      "Epoch 8/10\n",
      "11/11 [==============================] - ETA: 0s - loss: 2.2936 - accuracy: 0.1109\n",
      "Epoch 8: val_loss did not improve from 2.29392\n",
      "11/11 [==============================] - 4s 376ms/step - loss: 2.2936 - accuracy: 0.1109 - val_loss: 2.3004 - val_accuracy: 0.0671\n",
      "Epoch 9/10\n",
      "11/11 [==============================] - ETA: 0s - loss: 2.2937 - accuracy: 0.1266\n",
      "Epoch 9: val_loss did not improve from 2.29392\n",
      "11/11 [==============================] - 4s 388ms/step - loss: 2.2937 - accuracy: 0.1266 - val_loss: 2.2969 - val_accuracy: 0.0940\n",
      "Epoch 10/10\n",
      "11/11 [==============================] - ETA: 0s - loss: 2.2928 - accuracy: 0.1408\n",
      "Epoch 10: val_loss did not improve from 2.29392\n",
      "11/11 [==============================] - 4s 387ms/step - loss: 2.2928 - accuracy: 0.1408 - val_loss: 2.2941 - val_accuracy: 0.1208\n",
      "6/6 [==============================] - 0s 33ms/step - loss: 2.2972 - accuracy: 0.0848\n",
      "Val Score:  [2.2972331047058105, 0.08484848588705063]\n",
      "Training on Fold:  3\n",
      "Epoch 1/10\n",
      "11/11 [==============================] - ETA: 0s - loss: 2.2929 - accuracy: 0.1213\n",
      "Epoch 1: val_loss did not improve from 2.29392\n",
      "11/11 [==============================] - 4s 381ms/step - loss: 2.2929 - accuracy: 0.1213 - val_loss: 2.2974 - val_accuracy: 0.0940\n",
      "Epoch 2/10\n",
      "11/11 [==============================] - ETA: 0s - loss: 2.2927 - accuracy: 0.1191\n",
      "Epoch 2: val_loss did not improve from 2.29392\n",
      "11/11 [==============================] - 4s 379ms/step - loss: 2.2927 - accuracy: 0.1191 - val_loss: 2.3006 - val_accuracy: 0.1812\n",
      "Epoch 3/10\n",
      "11/11 [==============================] - ETA: 0s - loss: 2.2904 - accuracy: 0.2367\n",
      "Epoch 3: val_loss did not improve from 2.29392\n",
      "11/11 [==============================] - 4s 381ms/step - loss: 2.2904 - accuracy: 0.2367 - val_loss: 2.2968 - val_accuracy: 0.0738\n",
      "Epoch 4/10\n",
      "11/11 [==============================] - ETA: 0s - loss: 2.2911 - accuracy: 0.1543\n",
      "Epoch 4: val_loss did not improve from 2.29392\n",
      "11/11 [==============================] - 4s 381ms/step - loss: 2.2911 - accuracy: 0.1543 - val_loss: 2.2977 - val_accuracy: 0.1342\n",
      "Epoch 5/10\n",
      "11/11 [==============================] - ETA: 0s - loss: 2.2920 - accuracy: 0.1573\n",
      "Epoch 5: val_loss did not improve from 2.29392\n",
      "11/11 [==============================] - 5s 428ms/step - loss: 2.2920 - accuracy: 0.1573 - val_loss: 2.2941 - val_accuracy: 0.1678\n",
      "Epoch 6/10\n",
      "11/11 [==============================] - ETA: 0s - loss: 2.2916 - accuracy: 0.1543\n",
      "Epoch 6: val_loss did not improve from 2.29392\n",
      "11/11 [==============================] - 4s 398ms/step - loss: 2.2916 - accuracy: 0.1543 - val_loss: 2.3021 - val_accuracy: 0.1812\n",
      "Epoch 7/10\n",
      "11/11 [==============================] - ETA: 0s - loss: 2.2918 - accuracy: 0.1820\n",
      "Epoch 7: val_loss did not improve from 2.29392\n",
      "11/11 [==============================] - 5s 423ms/step - loss: 2.2918 - accuracy: 0.1820 - val_loss: 2.3001 - val_accuracy: 0.1342\n",
      "Epoch 8/10\n",
      "11/11 [==============================] - ETA: 0s - loss: 2.2914 - accuracy: 0.1438\n",
      "Epoch 8: val_loss did not improve from 2.29392\n",
      "11/11 [==============================] - 5s 431ms/step - loss: 2.2914 - accuracy: 0.1438 - val_loss: 2.2967 - val_accuracy: 0.1611\n",
      "Epoch 9/10\n",
      "11/11 [==============================] - ETA: 0s - loss: 2.2914 - accuracy: 0.1243\n",
      "Epoch 9: val_loss did not improve from 2.29392\n",
      "11/11 [==============================] - 5s 424ms/step - loss: 2.2914 - accuracy: 0.1243 - val_loss: 2.3007 - val_accuracy: 0.1074\n",
      "Epoch 10/10\n",
      "11/11 [==============================] - ETA: 0s - loss: 2.2919 - accuracy: 0.1326\n",
      "Epoch 10: val_loss did not improve from 2.29392\n",
      "11/11 [==============================] - 5s 417ms/step - loss: 2.2919 - accuracy: 0.1326 - val_loss: 2.2944 - val_accuracy: 0.2148\n",
      "Epoch 10: early stopping\n",
      "6/6 [==============================] - 0s 23ms/step - loss: 2.2975 - accuracy: 0.1636\n",
      "Val Score:  [2.297494888305664, 0.16363635659217834]\n"
     ]
    }
   ],
   "source": [
    "cnn.summary()"
   ]
  },
  {
   "cell_type": "code",
   "execution_count": 87,
   "id": "343fe08b",
   "metadata": {},
   "outputs": [
    {
     "name": "stdout",
     "output_type": "stream",
     "text": [
      "[0.8327272534370422, 0.9690909385681152, 0.9908925294876099]\n",
      "[<keras.engine.sequential.Sequential object at 0x00000174992270A0>, <keras.engine.sequential.Sequential object at 0x00000174992270A0>, <keras.engine.sequential.Sequential object at 0x00000174992270A0>]\n"
     ]
    }
   ],
   "source": [
    "print(scoresModel3)\n",
    "print(histories3)"
   ]
  },
  {
   "cell_type": "code",
   "execution_count": 7,
   "id": "9a7ebf60",
   "metadata": {},
   "outputs": [
    {
     "ename": "KeyboardInterrupt",
     "evalue": "",
     "output_type": "error",
     "traceback": [
      "\u001b[1;31m---------------------------------------------------------------------------\u001b[0m",
      "\u001b[1;31mKeyboardInterrupt\u001b[0m                         Traceback (most recent call last)",
      "\u001b[1;32m~\\AppData\\Local\\Temp\\ipykernel_30924\\22426216.py\u001b[0m in \u001b[0;36m<module>\u001b[1;34m\u001b[0m\n\u001b[0;32m      8\u001b[0m \u001b[0msvc\u001b[0m\u001b[1;33m=\u001b[0m\u001b[0msvm\u001b[0m\u001b[1;33m.\u001b[0m\u001b[0mSVC\u001b[0m\u001b[1;33m(\u001b[0m\u001b[0mprobability\u001b[0m\u001b[1;33m=\u001b[0m\u001b[1;32mTrue\u001b[0m\u001b[1;33m)\u001b[0m\u001b[1;33m\u001b[0m\u001b[1;33m\u001b[0m\u001b[0m\n\u001b[0;32m      9\u001b[0m \u001b[0mmodel5\u001b[0m\u001b[1;33m=\u001b[0m\u001b[0mGridSearchCV\u001b[0m\u001b[1;33m(\u001b[0m\u001b[0msvc\u001b[0m\u001b[1;33m,\u001b[0m\u001b[0mparam_grid\u001b[0m\u001b[1;33m)\u001b[0m\u001b[1;33m\u001b[0m\u001b[1;33m\u001b[0m\u001b[0m\n\u001b[1;32m---> 10\u001b[1;33m \u001b[0mmodel5\u001b[0m\u001b[1;33m.\u001b[0m\u001b[0mfit\u001b[0m\u001b[1;33m(\u001b[0m\u001b[0mx_train\u001b[0m\u001b[1;33m,\u001b[0m\u001b[0my_train\u001b[0m\u001b[1;33m)\u001b[0m\u001b[1;33m\u001b[0m\u001b[1;33m\u001b[0m\u001b[0m\n\u001b[0m\u001b[0;32m     11\u001b[0m \u001b[0my_pred5\u001b[0m\u001b[1;33m=\u001b[0m\u001b[0mmodel\u001b[0m\u001b[1;33m.\u001b[0m\u001b[0mpredict\u001b[0m\u001b[1;33m(\u001b[0m\u001b[0mx_test\u001b[0m\u001b[1;33m)\u001b[0m\u001b[1;33m\u001b[0m\u001b[1;33m\u001b[0m\u001b[0m\n\u001b[0;32m     12\u001b[0m \u001b[0mprint\u001b[0m\u001b[1;33m(\u001b[0m\u001b[1;34m\"The predicted Data is :\"\u001b[0m\u001b[1;33m)\u001b[0m\u001b[1;33m\u001b[0m\u001b[1;33m\u001b[0m\u001b[0m\n",
      "\u001b[1;32mc:\\Users\\oessa\\anaconda3\\lib\\site-packages\\sklearn\\utils\\validation.py\u001b[0m in \u001b[0;36minner_f\u001b[1;34m(*args, **kwargs)\u001b[0m\n\u001b[0;32m     61\u001b[0m             \u001b[0mextra_args\u001b[0m \u001b[1;33m=\u001b[0m \u001b[0mlen\u001b[0m\u001b[1;33m(\u001b[0m\u001b[0margs\u001b[0m\u001b[1;33m)\u001b[0m \u001b[1;33m-\u001b[0m \u001b[0mlen\u001b[0m\u001b[1;33m(\u001b[0m\u001b[0mall_args\u001b[0m\u001b[1;33m)\u001b[0m\u001b[1;33m\u001b[0m\u001b[1;33m\u001b[0m\u001b[0m\n\u001b[0;32m     62\u001b[0m             \u001b[1;32mif\u001b[0m \u001b[0mextra_args\u001b[0m \u001b[1;33m<=\u001b[0m \u001b[1;36m0\u001b[0m\u001b[1;33m:\u001b[0m\u001b[1;33m\u001b[0m\u001b[1;33m\u001b[0m\u001b[0m\n\u001b[1;32m---> 63\u001b[1;33m                 \u001b[1;32mreturn\u001b[0m \u001b[0mf\u001b[0m\u001b[1;33m(\u001b[0m\u001b[1;33m*\u001b[0m\u001b[0margs\u001b[0m\u001b[1;33m,\u001b[0m \u001b[1;33m**\u001b[0m\u001b[0mkwargs\u001b[0m\u001b[1;33m)\u001b[0m\u001b[1;33m\u001b[0m\u001b[1;33m\u001b[0m\u001b[0m\n\u001b[0m\u001b[0;32m     64\u001b[0m \u001b[1;33m\u001b[0m\u001b[0m\n\u001b[0;32m     65\u001b[0m             \u001b[1;31m# extra_args > 0\u001b[0m\u001b[1;33m\u001b[0m\u001b[1;33m\u001b[0m\u001b[0m\n",
      "\u001b[1;32mc:\\Users\\oessa\\anaconda3\\lib\\site-packages\\sklearn\\model_selection\\_search.py\u001b[0m in \u001b[0;36mfit\u001b[1;34m(self, X, y, groups, **fit_params)\u001b[0m\n\u001b[0;32m    839\u001b[0m                 \u001b[1;32mreturn\u001b[0m \u001b[0mresults\u001b[0m\u001b[1;33m\u001b[0m\u001b[1;33m\u001b[0m\u001b[0m\n\u001b[0;32m    840\u001b[0m \u001b[1;33m\u001b[0m\u001b[0m\n\u001b[1;32m--> 841\u001b[1;33m             \u001b[0mself\u001b[0m\u001b[1;33m.\u001b[0m\u001b[0m_run_search\u001b[0m\u001b[1;33m(\u001b[0m\u001b[0mevaluate_candidates\u001b[0m\u001b[1;33m)\u001b[0m\u001b[1;33m\u001b[0m\u001b[1;33m\u001b[0m\u001b[0m\n\u001b[0m\u001b[0;32m    842\u001b[0m \u001b[1;33m\u001b[0m\u001b[0m\n\u001b[0;32m    843\u001b[0m             \u001b[1;31m# multimetric is determined here because in the case of a callable\u001b[0m\u001b[1;33m\u001b[0m\u001b[1;33m\u001b[0m\u001b[0m\n",
      "\u001b[1;32mc:\\Users\\oessa\\anaconda3\\lib\\site-packages\\sklearn\\model_selection\\_search.py\u001b[0m in \u001b[0;36m_run_search\u001b[1;34m(self, evaluate_candidates)\u001b[0m\n\u001b[0;32m   1294\u001b[0m     \u001b[1;32mdef\u001b[0m \u001b[0m_run_search\u001b[0m\u001b[1;33m(\u001b[0m\u001b[0mself\u001b[0m\u001b[1;33m,\u001b[0m \u001b[0mevaluate_candidates\u001b[0m\u001b[1;33m)\u001b[0m\u001b[1;33m:\u001b[0m\u001b[1;33m\u001b[0m\u001b[1;33m\u001b[0m\u001b[0m\n\u001b[0;32m   1295\u001b[0m         \u001b[1;34m\"\"\"Search all candidates in param_grid\"\"\"\u001b[0m\u001b[1;33m\u001b[0m\u001b[1;33m\u001b[0m\u001b[0m\n\u001b[1;32m-> 1296\u001b[1;33m         \u001b[0mevaluate_candidates\u001b[0m\u001b[1;33m(\u001b[0m\u001b[0mParameterGrid\u001b[0m\u001b[1;33m(\u001b[0m\u001b[0mself\u001b[0m\u001b[1;33m.\u001b[0m\u001b[0mparam_grid\u001b[0m\u001b[1;33m)\u001b[0m\u001b[1;33m)\u001b[0m\u001b[1;33m\u001b[0m\u001b[1;33m\u001b[0m\u001b[0m\n\u001b[0m\u001b[0;32m   1297\u001b[0m \u001b[1;33m\u001b[0m\u001b[0m\n\u001b[0;32m   1298\u001b[0m \u001b[1;33m\u001b[0m\u001b[0m\n",
      "\u001b[1;32mc:\\Users\\oessa\\anaconda3\\lib\\site-packages\\sklearn\\model_selection\\_search.py\u001b[0m in \u001b[0;36mevaluate_candidates\u001b[1;34m(candidate_params, cv, more_results)\u001b[0m\n\u001b[0;32m    793\u001b[0m                               n_splits, n_candidates, n_candidates * n_splits))\n\u001b[0;32m    794\u001b[0m \u001b[1;33m\u001b[0m\u001b[0m\n\u001b[1;32m--> 795\u001b[1;33m                 out = parallel(delayed(_fit_and_score)(clone(base_estimator),\n\u001b[0m\u001b[0;32m    796\u001b[0m                                                        \u001b[0mX\u001b[0m\u001b[1;33m,\u001b[0m \u001b[0my\u001b[0m\u001b[1;33m,\u001b[0m\u001b[1;33m\u001b[0m\u001b[1;33m\u001b[0m\u001b[0m\n\u001b[0;32m    797\u001b[0m                                                        \u001b[0mtrain\u001b[0m\u001b[1;33m=\u001b[0m\u001b[0mtrain\u001b[0m\u001b[1;33m,\u001b[0m \u001b[0mtest\u001b[0m\u001b[1;33m=\u001b[0m\u001b[0mtest\u001b[0m\u001b[1;33m,\u001b[0m\u001b[1;33m\u001b[0m\u001b[1;33m\u001b[0m\u001b[0m\n",
      "\u001b[1;32mc:\\Users\\oessa\\anaconda3\\lib\\site-packages\\joblib\\parallel.py\u001b[0m in \u001b[0;36m__call__\u001b[1;34m(self, iterable)\u001b[0m\n\u001b[0;32m   1044\u001b[0m                 \u001b[0mself\u001b[0m\u001b[1;33m.\u001b[0m\u001b[0m_iterating\u001b[0m \u001b[1;33m=\u001b[0m \u001b[0mself\u001b[0m\u001b[1;33m.\u001b[0m\u001b[0m_original_iterator\u001b[0m \u001b[1;32mis\u001b[0m \u001b[1;32mnot\u001b[0m \u001b[1;32mNone\u001b[0m\u001b[1;33m\u001b[0m\u001b[1;33m\u001b[0m\u001b[0m\n\u001b[0;32m   1045\u001b[0m \u001b[1;33m\u001b[0m\u001b[0m\n\u001b[1;32m-> 1046\u001b[1;33m             \u001b[1;32mwhile\u001b[0m \u001b[0mself\u001b[0m\u001b[1;33m.\u001b[0m\u001b[0mdispatch_one_batch\u001b[0m\u001b[1;33m(\u001b[0m\u001b[0miterator\u001b[0m\u001b[1;33m)\u001b[0m\u001b[1;33m:\u001b[0m\u001b[1;33m\u001b[0m\u001b[1;33m\u001b[0m\u001b[0m\n\u001b[0m\u001b[0;32m   1047\u001b[0m                 \u001b[1;32mpass\u001b[0m\u001b[1;33m\u001b[0m\u001b[1;33m\u001b[0m\u001b[0m\n\u001b[0;32m   1048\u001b[0m \u001b[1;33m\u001b[0m\u001b[0m\n",
      "\u001b[1;32mc:\\Users\\oessa\\anaconda3\\lib\\site-packages\\joblib\\parallel.py\u001b[0m in \u001b[0;36mdispatch_one_batch\u001b[1;34m(self, iterator)\u001b[0m\n\u001b[0;32m    859\u001b[0m                 \u001b[1;32mreturn\u001b[0m \u001b[1;32mFalse\u001b[0m\u001b[1;33m\u001b[0m\u001b[1;33m\u001b[0m\u001b[0m\n\u001b[0;32m    860\u001b[0m             \u001b[1;32melse\u001b[0m\u001b[1;33m:\u001b[0m\u001b[1;33m\u001b[0m\u001b[1;33m\u001b[0m\u001b[0m\n\u001b[1;32m--> 861\u001b[1;33m                 \u001b[0mself\u001b[0m\u001b[1;33m.\u001b[0m\u001b[0m_dispatch\u001b[0m\u001b[1;33m(\u001b[0m\u001b[0mtasks\u001b[0m\u001b[1;33m)\u001b[0m\u001b[1;33m\u001b[0m\u001b[1;33m\u001b[0m\u001b[0m\n\u001b[0m\u001b[0;32m    862\u001b[0m                 \u001b[1;32mreturn\u001b[0m \u001b[1;32mTrue\u001b[0m\u001b[1;33m\u001b[0m\u001b[1;33m\u001b[0m\u001b[0m\n\u001b[0;32m    863\u001b[0m \u001b[1;33m\u001b[0m\u001b[0m\n",
      "\u001b[1;32mc:\\Users\\oessa\\anaconda3\\lib\\site-packages\\joblib\\parallel.py\u001b[0m in \u001b[0;36m_dispatch\u001b[1;34m(self, batch)\u001b[0m\n\u001b[0;32m    777\u001b[0m         \u001b[1;32mwith\u001b[0m \u001b[0mself\u001b[0m\u001b[1;33m.\u001b[0m\u001b[0m_lock\u001b[0m\u001b[1;33m:\u001b[0m\u001b[1;33m\u001b[0m\u001b[1;33m\u001b[0m\u001b[0m\n\u001b[0;32m    778\u001b[0m             \u001b[0mjob_idx\u001b[0m \u001b[1;33m=\u001b[0m \u001b[0mlen\u001b[0m\u001b[1;33m(\u001b[0m\u001b[0mself\u001b[0m\u001b[1;33m.\u001b[0m\u001b[0m_jobs\u001b[0m\u001b[1;33m)\u001b[0m\u001b[1;33m\u001b[0m\u001b[1;33m\u001b[0m\u001b[0m\n\u001b[1;32m--> 779\u001b[1;33m             \u001b[0mjob\u001b[0m \u001b[1;33m=\u001b[0m \u001b[0mself\u001b[0m\u001b[1;33m.\u001b[0m\u001b[0m_backend\u001b[0m\u001b[1;33m.\u001b[0m\u001b[0mapply_async\u001b[0m\u001b[1;33m(\u001b[0m\u001b[0mbatch\u001b[0m\u001b[1;33m,\u001b[0m \u001b[0mcallback\u001b[0m\u001b[1;33m=\u001b[0m\u001b[0mcb\u001b[0m\u001b[1;33m)\u001b[0m\u001b[1;33m\u001b[0m\u001b[1;33m\u001b[0m\u001b[0m\n\u001b[0m\u001b[0;32m    780\u001b[0m             \u001b[1;31m# A job can complete so quickly than its callback is\u001b[0m\u001b[1;33m\u001b[0m\u001b[1;33m\u001b[0m\u001b[0m\n\u001b[0;32m    781\u001b[0m             \u001b[1;31m# called before we get here, causing self._jobs to\u001b[0m\u001b[1;33m\u001b[0m\u001b[1;33m\u001b[0m\u001b[0m\n",
      "\u001b[1;32mc:\\Users\\oessa\\anaconda3\\lib\\site-packages\\joblib\\_parallel_backends.py\u001b[0m in \u001b[0;36mapply_async\u001b[1;34m(self, func, callback)\u001b[0m\n\u001b[0;32m    206\u001b[0m     \u001b[1;32mdef\u001b[0m \u001b[0mapply_async\u001b[0m\u001b[1;33m(\u001b[0m\u001b[0mself\u001b[0m\u001b[1;33m,\u001b[0m \u001b[0mfunc\u001b[0m\u001b[1;33m,\u001b[0m \u001b[0mcallback\u001b[0m\u001b[1;33m=\u001b[0m\u001b[1;32mNone\u001b[0m\u001b[1;33m)\u001b[0m\u001b[1;33m:\u001b[0m\u001b[1;33m\u001b[0m\u001b[1;33m\u001b[0m\u001b[0m\n\u001b[0;32m    207\u001b[0m         \u001b[1;34m\"\"\"Schedule a func to be run\"\"\"\u001b[0m\u001b[1;33m\u001b[0m\u001b[1;33m\u001b[0m\u001b[0m\n\u001b[1;32m--> 208\u001b[1;33m         \u001b[0mresult\u001b[0m \u001b[1;33m=\u001b[0m \u001b[0mImmediateResult\u001b[0m\u001b[1;33m(\u001b[0m\u001b[0mfunc\u001b[0m\u001b[1;33m)\u001b[0m\u001b[1;33m\u001b[0m\u001b[1;33m\u001b[0m\u001b[0m\n\u001b[0m\u001b[0;32m    209\u001b[0m         \u001b[1;32mif\u001b[0m \u001b[0mcallback\u001b[0m\u001b[1;33m:\u001b[0m\u001b[1;33m\u001b[0m\u001b[1;33m\u001b[0m\u001b[0m\n\u001b[0;32m    210\u001b[0m             \u001b[0mcallback\u001b[0m\u001b[1;33m(\u001b[0m\u001b[0mresult\u001b[0m\u001b[1;33m)\u001b[0m\u001b[1;33m\u001b[0m\u001b[1;33m\u001b[0m\u001b[0m\n",
      "\u001b[1;32mc:\\Users\\oessa\\anaconda3\\lib\\site-packages\\joblib\\_parallel_backends.py\u001b[0m in \u001b[0;36m__init__\u001b[1;34m(self, batch)\u001b[0m\n\u001b[0;32m    570\u001b[0m         \u001b[1;31m# Don't delay the application, to avoid keeping the input\u001b[0m\u001b[1;33m\u001b[0m\u001b[1;33m\u001b[0m\u001b[0m\n\u001b[0;32m    571\u001b[0m         \u001b[1;31m# arguments in memory\u001b[0m\u001b[1;33m\u001b[0m\u001b[1;33m\u001b[0m\u001b[0m\n\u001b[1;32m--> 572\u001b[1;33m         \u001b[0mself\u001b[0m\u001b[1;33m.\u001b[0m\u001b[0mresults\u001b[0m \u001b[1;33m=\u001b[0m \u001b[0mbatch\u001b[0m\u001b[1;33m(\u001b[0m\u001b[1;33m)\u001b[0m\u001b[1;33m\u001b[0m\u001b[1;33m\u001b[0m\u001b[0m\n\u001b[0m\u001b[0;32m    573\u001b[0m \u001b[1;33m\u001b[0m\u001b[0m\n\u001b[0;32m    574\u001b[0m     \u001b[1;32mdef\u001b[0m \u001b[0mget\u001b[0m\u001b[1;33m(\u001b[0m\u001b[0mself\u001b[0m\u001b[1;33m)\u001b[0m\u001b[1;33m:\u001b[0m\u001b[1;33m\u001b[0m\u001b[1;33m\u001b[0m\u001b[0m\n",
      "\u001b[1;32mc:\\Users\\oessa\\anaconda3\\lib\\site-packages\\joblib\\parallel.py\u001b[0m in \u001b[0;36m__call__\u001b[1;34m(self)\u001b[0m\n\u001b[0;32m    260\u001b[0m         \u001b[1;31m# change the default number of processes to -1\u001b[0m\u001b[1;33m\u001b[0m\u001b[1;33m\u001b[0m\u001b[0m\n\u001b[0;32m    261\u001b[0m         \u001b[1;32mwith\u001b[0m \u001b[0mparallel_backend\u001b[0m\u001b[1;33m(\u001b[0m\u001b[0mself\u001b[0m\u001b[1;33m.\u001b[0m\u001b[0m_backend\u001b[0m\u001b[1;33m,\u001b[0m \u001b[0mn_jobs\u001b[0m\u001b[1;33m=\u001b[0m\u001b[0mself\u001b[0m\u001b[1;33m.\u001b[0m\u001b[0m_n_jobs\u001b[0m\u001b[1;33m)\u001b[0m\u001b[1;33m:\u001b[0m\u001b[1;33m\u001b[0m\u001b[1;33m\u001b[0m\u001b[0m\n\u001b[1;32m--> 262\u001b[1;33m             return [func(*args, **kwargs)\n\u001b[0m\u001b[0;32m    263\u001b[0m                     for func, args, kwargs in self.items]\n\u001b[0;32m    264\u001b[0m \u001b[1;33m\u001b[0m\u001b[0m\n",
      "\u001b[1;32mc:\\Users\\oessa\\anaconda3\\lib\\site-packages\\joblib\\parallel.py\u001b[0m in \u001b[0;36m<listcomp>\u001b[1;34m(.0)\u001b[0m\n\u001b[0;32m    260\u001b[0m         \u001b[1;31m# change the default number of processes to -1\u001b[0m\u001b[1;33m\u001b[0m\u001b[1;33m\u001b[0m\u001b[0m\n\u001b[0;32m    261\u001b[0m         \u001b[1;32mwith\u001b[0m \u001b[0mparallel_backend\u001b[0m\u001b[1;33m(\u001b[0m\u001b[0mself\u001b[0m\u001b[1;33m.\u001b[0m\u001b[0m_backend\u001b[0m\u001b[1;33m,\u001b[0m \u001b[0mn_jobs\u001b[0m\u001b[1;33m=\u001b[0m\u001b[0mself\u001b[0m\u001b[1;33m.\u001b[0m\u001b[0m_n_jobs\u001b[0m\u001b[1;33m)\u001b[0m\u001b[1;33m:\u001b[0m\u001b[1;33m\u001b[0m\u001b[1;33m\u001b[0m\u001b[0m\n\u001b[1;32m--> 262\u001b[1;33m             return [func(*args, **kwargs)\n\u001b[0m\u001b[0;32m    263\u001b[0m                     for func, args, kwargs in self.items]\n\u001b[0;32m    264\u001b[0m \u001b[1;33m\u001b[0m\u001b[0m\n",
      "\u001b[1;32mc:\\Users\\oessa\\anaconda3\\lib\\site-packages\\sklearn\\utils\\fixes.py\u001b[0m in \u001b[0;36m__call__\u001b[1;34m(self, *args, **kwargs)\u001b[0m\n\u001b[0;32m    220\u001b[0m     \u001b[1;32mdef\u001b[0m \u001b[0m__call__\u001b[0m\u001b[1;33m(\u001b[0m\u001b[0mself\u001b[0m\u001b[1;33m,\u001b[0m \u001b[1;33m*\u001b[0m\u001b[0margs\u001b[0m\u001b[1;33m,\u001b[0m \u001b[1;33m**\u001b[0m\u001b[0mkwargs\u001b[0m\u001b[1;33m)\u001b[0m\u001b[1;33m:\u001b[0m\u001b[1;33m\u001b[0m\u001b[1;33m\u001b[0m\u001b[0m\n\u001b[0;32m    221\u001b[0m         \u001b[1;32mwith\u001b[0m \u001b[0mconfig_context\u001b[0m\u001b[1;33m(\u001b[0m\u001b[1;33m**\u001b[0m\u001b[0mself\u001b[0m\u001b[1;33m.\u001b[0m\u001b[0mconfig\u001b[0m\u001b[1;33m)\u001b[0m\u001b[1;33m:\u001b[0m\u001b[1;33m\u001b[0m\u001b[1;33m\u001b[0m\u001b[0m\n\u001b[1;32m--> 222\u001b[1;33m             \u001b[1;32mreturn\u001b[0m \u001b[0mself\u001b[0m\u001b[1;33m.\u001b[0m\u001b[0mfunction\u001b[0m\u001b[1;33m(\u001b[0m\u001b[1;33m*\u001b[0m\u001b[0margs\u001b[0m\u001b[1;33m,\u001b[0m \u001b[1;33m**\u001b[0m\u001b[0mkwargs\u001b[0m\u001b[1;33m)\u001b[0m\u001b[1;33m\u001b[0m\u001b[1;33m\u001b[0m\u001b[0m\n\u001b[0m",
      "\u001b[1;32mc:\\Users\\oessa\\anaconda3\\lib\\site-packages\\sklearn\\model_selection\\_validation.py\u001b[0m in \u001b[0;36m_fit_and_score\u001b[1;34m(estimator, X, y, scorer, train, test, verbose, parameters, fit_params, return_train_score, return_parameters, return_n_test_samples, return_times, return_estimator, split_progress, candidate_progress, error_score)\u001b[0m\n\u001b[0;32m    596\u001b[0m             \u001b[0mestimator\u001b[0m\u001b[1;33m.\u001b[0m\u001b[0mfit\u001b[0m\u001b[1;33m(\u001b[0m\u001b[0mX_train\u001b[0m\u001b[1;33m,\u001b[0m \u001b[1;33m**\u001b[0m\u001b[0mfit_params\u001b[0m\u001b[1;33m)\u001b[0m\u001b[1;33m\u001b[0m\u001b[1;33m\u001b[0m\u001b[0m\n\u001b[0;32m    597\u001b[0m         \u001b[1;32melse\u001b[0m\u001b[1;33m:\u001b[0m\u001b[1;33m\u001b[0m\u001b[1;33m\u001b[0m\u001b[0m\n\u001b[1;32m--> 598\u001b[1;33m             \u001b[0mestimator\u001b[0m\u001b[1;33m.\u001b[0m\u001b[0mfit\u001b[0m\u001b[1;33m(\u001b[0m\u001b[0mX_train\u001b[0m\u001b[1;33m,\u001b[0m \u001b[0my_train\u001b[0m\u001b[1;33m,\u001b[0m \u001b[1;33m**\u001b[0m\u001b[0mfit_params\u001b[0m\u001b[1;33m)\u001b[0m\u001b[1;33m\u001b[0m\u001b[1;33m\u001b[0m\u001b[0m\n\u001b[0m\u001b[0;32m    599\u001b[0m \u001b[1;33m\u001b[0m\u001b[0m\n\u001b[0;32m    600\u001b[0m     \u001b[1;32mexcept\u001b[0m \u001b[0mException\u001b[0m \u001b[1;32mas\u001b[0m \u001b[0me\u001b[0m\u001b[1;33m:\u001b[0m\u001b[1;33m\u001b[0m\u001b[1;33m\u001b[0m\u001b[0m\n",
      "\u001b[1;32mc:\\Users\\oessa\\anaconda3\\lib\\site-packages\\sklearn\\svm\\_base.py\u001b[0m in \u001b[0;36mfit\u001b[1;34m(self, X, y, sample_weight)\u001b[0m\n\u001b[0;32m    224\u001b[0m \u001b[1;33m\u001b[0m\u001b[0m\n\u001b[0;32m    225\u001b[0m         \u001b[0mseed\u001b[0m \u001b[1;33m=\u001b[0m \u001b[0mrnd\u001b[0m\u001b[1;33m.\u001b[0m\u001b[0mrandint\u001b[0m\u001b[1;33m(\u001b[0m\u001b[0mnp\u001b[0m\u001b[1;33m.\u001b[0m\u001b[0miinfo\u001b[0m\u001b[1;33m(\u001b[0m\u001b[1;34m'i'\u001b[0m\u001b[1;33m)\u001b[0m\u001b[1;33m.\u001b[0m\u001b[0mmax\u001b[0m\u001b[1;33m)\u001b[0m\u001b[1;33m\u001b[0m\u001b[1;33m\u001b[0m\u001b[0m\n\u001b[1;32m--> 226\u001b[1;33m         \u001b[0mfit\u001b[0m\u001b[1;33m(\u001b[0m\u001b[0mX\u001b[0m\u001b[1;33m,\u001b[0m \u001b[0my\u001b[0m\u001b[1;33m,\u001b[0m \u001b[0msample_weight\u001b[0m\u001b[1;33m,\u001b[0m \u001b[0msolver_type\u001b[0m\u001b[1;33m,\u001b[0m \u001b[0mkernel\u001b[0m\u001b[1;33m,\u001b[0m \u001b[0mrandom_seed\u001b[0m\u001b[1;33m=\u001b[0m\u001b[0mseed\u001b[0m\u001b[1;33m)\u001b[0m\u001b[1;33m\u001b[0m\u001b[1;33m\u001b[0m\u001b[0m\n\u001b[0m\u001b[0;32m    227\u001b[0m         \u001b[1;31m# see comment on the other call to np.iinfo in this file\u001b[0m\u001b[1;33m\u001b[0m\u001b[1;33m\u001b[0m\u001b[0m\n\u001b[0;32m    228\u001b[0m \u001b[1;33m\u001b[0m\u001b[0m\n",
      "\u001b[1;32mc:\\Users\\oessa\\anaconda3\\lib\\site-packages\\sklearn\\svm\\_base.py\u001b[0m in \u001b[0;36m_dense_fit\u001b[1;34m(self, X, y, sample_weight, solver_type, kernel, random_seed)\u001b[0m\n\u001b[0;32m    275\u001b[0m         \u001b[0mself\u001b[0m\u001b[1;33m.\u001b[0m\u001b[0msupport_\u001b[0m\u001b[1;33m,\u001b[0m \u001b[0mself\u001b[0m\u001b[1;33m.\u001b[0m\u001b[0msupport_vectors_\u001b[0m\u001b[1;33m,\u001b[0m \u001b[0mself\u001b[0m\u001b[1;33m.\u001b[0m\u001b[0m_n_support\u001b[0m\u001b[1;33m,\u001b[0m\u001b[0;31m \u001b[0m\u001b[0;31m\\\u001b[0m\u001b[1;33m\u001b[0m\u001b[1;33m\u001b[0m\u001b[0m\n\u001b[0;32m    276\u001b[0m             \u001b[0mself\u001b[0m\u001b[1;33m.\u001b[0m\u001b[0mdual_coef_\u001b[0m\u001b[1;33m,\u001b[0m \u001b[0mself\u001b[0m\u001b[1;33m.\u001b[0m\u001b[0mintercept_\u001b[0m\u001b[1;33m,\u001b[0m \u001b[0mself\u001b[0m\u001b[1;33m.\u001b[0m\u001b[0m_probA\u001b[0m\u001b[1;33m,\u001b[0m\u001b[0;31m \u001b[0m\u001b[0;31m\\\u001b[0m\u001b[1;33m\u001b[0m\u001b[1;33m\u001b[0m\u001b[0m\n\u001b[1;32m--> 277\u001b[1;33m             self._probB, self.fit_status_ = libsvm.fit(\n\u001b[0m\u001b[0;32m    278\u001b[0m                 \u001b[0mX\u001b[0m\u001b[1;33m,\u001b[0m \u001b[0my\u001b[0m\u001b[1;33m,\u001b[0m\u001b[1;33m\u001b[0m\u001b[1;33m\u001b[0m\u001b[0m\n\u001b[0;32m    279\u001b[0m                 \u001b[0msvm_type\u001b[0m\u001b[1;33m=\u001b[0m\u001b[0msolver_type\u001b[0m\u001b[1;33m,\u001b[0m \u001b[0msample_weight\u001b[0m\u001b[1;33m=\u001b[0m\u001b[0msample_weight\u001b[0m\u001b[1;33m,\u001b[0m\u001b[1;33m\u001b[0m\u001b[1;33m\u001b[0m\u001b[0m\n",
      "\u001b[1;31mKeyboardInterrupt\u001b[0m: "
     ]
    }
   ],
   "source": [
    "\n",
    "#X , Y , img  = get_dataset('D:\\Sign-Language-Digits-Dataset-master\\Dataset')\n",
    "#x_train, x_test, y_train, y_test = train_test_split(X, Y, test_size=test_size, random_state=32)\n",
    "x_train = x_train.reshape(len(x_train),64*64)\n",
    "x_test = x_test.reshape(len(x_test),64*64)\n",
    "from sklearn import svm\n",
    "from sklearn.model_selection import GridSearchCV\n",
    "param_grid={'C':[0.1,1,10,100],'gamma':[0.0001,0.001,0.1,1],'kernel':['rbf','poly']}\n",
    "svc=svm.SVC(probability=True)\n",
    "model5=GridSearchCV(svc,param_grid)\n",
    "model5.fit(x_train,y_train)\n",
    "y_pred5=model.predict(x_test)\n",
    "print(\"The predicted Data is :\")\n",
    "print(y_pred5)\n",
    "print(\"The actual data is:\")\n",
    "print(np.array(y_test))\n",
    "print(f\"The model is {accuracy_score(y_pred5,y_test)*100}% accurate\")"
   ]
  },
  {
   "cell_type": "code",
   "execution_count": 11,
   "id": "98ba6d4e",
   "metadata": {},
   "outputs": [
    {
     "ename": "ValueError",
     "evalue": "Found input variables with inconsistent numbers of samples: [4096, 1649]",
     "output_type": "error",
     "traceback": [
      "\u001b[1;31m---------------------------------------------------------------------------\u001b[0m",
      "\u001b[1;31mValueError\u001b[0m                                Traceback (most recent call last)",
      "\u001b[1;32m~\\AppData\\Local\\Temp\\ipykernel_31152\\1087430167.py\u001b[0m in \u001b[0;36m<module>\u001b[1;34m\u001b[0m\n\u001b[0;32m      1\u001b[0m \u001b[1;32mfrom\u001b[0m \u001b[0msklearn\u001b[0m \u001b[1;32mimport\u001b[0m \u001b[0mlinear_model\u001b[0m\u001b[1;33m\u001b[0m\u001b[1;33m\u001b[0m\u001b[0m\n\u001b[0;32m      2\u001b[0m \u001b[0mlogreg\u001b[0m \u001b[1;33m=\u001b[0m \u001b[0mlinear_model\u001b[0m\u001b[1;33m.\u001b[0m\u001b[0mLogisticRegression\u001b[0m\u001b[1;33m(\u001b[0m\u001b[0mrandom_state\u001b[0m \u001b[1;33m=\u001b[0m \u001b[1;36m42\u001b[0m\u001b[1;33m,\u001b[0m\u001b[0mmax_iter\u001b[0m\u001b[1;33m=\u001b[0m \u001b[1;36m150\u001b[0m\u001b[1;33m)\u001b[0m\u001b[1;33m\u001b[0m\u001b[1;33m\u001b[0m\u001b[0m\n\u001b[1;32m----> 3\u001b[1;33m \u001b[0mprint\u001b[0m\u001b[1;33m(\u001b[0m\u001b[1;34m\"test accuracy: {} \"\u001b[0m\u001b[1;33m.\u001b[0m\u001b[0mformat\u001b[0m\u001b[1;33m(\u001b[0m\u001b[0mlogreg\u001b[0m\u001b[1;33m.\u001b[0m\u001b[0mfit\u001b[0m\u001b[1;33m(\u001b[0m\u001b[0mx_train\u001b[0m\u001b[1;33m.\u001b[0m\u001b[0mT\u001b[0m\u001b[1;33m,\u001b[0m \u001b[0my_train\u001b[0m\u001b[1;33m.\u001b[0m\u001b[0mT\u001b[0m\u001b[1;33m)\u001b[0m\u001b[1;33m.\u001b[0m\u001b[0mscore\u001b[0m\u001b[1;33m(\u001b[0m\u001b[0mx_test\u001b[0m\u001b[1;33m.\u001b[0m\u001b[0mT\u001b[0m\u001b[1;33m,\u001b[0m \u001b[0my_test\u001b[0m\u001b[1;33m.\u001b[0m\u001b[0mT\u001b[0m\u001b[1;33m)\u001b[0m\u001b[1;33m)\u001b[0m\u001b[1;33m)\u001b[0m\u001b[1;33m\u001b[0m\u001b[1;33m\u001b[0m\u001b[0m\n\u001b[0m\u001b[0;32m      4\u001b[0m \u001b[0mprint\u001b[0m\u001b[1;33m(\u001b[0m\u001b[1;34m\"train accuracy: {} \"\u001b[0m\u001b[1;33m.\u001b[0m\u001b[0mformat\u001b[0m\u001b[1;33m(\u001b[0m\u001b[0mlogreg\u001b[0m\u001b[1;33m.\u001b[0m\u001b[0mfit\u001b[0m\u001b[1;33m(\u001b[0m\u001b[0mx_train\u001b[0m\u001b[1;33m.\u001b[0m\u001b[0mT\u001b[0m\u001b[1;33m,\u001b[0m \u001b[0my_train\u001b[0m\u001b[1;33m.\u001b[0m\u001b[0mT\u001b[0m\u001b[1;33m)\u001b[0m\u001b[1;33m.\u001b[0m\u001b[0mscore\u001b[0m\u001b[1;33m(\u001b[0m\u001b[0mx_train\u001b[0m\u001b[1;33m.\u001b[0m\u001b[0mT\u001b[0m\u001b[1;33m,\u001b[0m \u001b[0my_train\u001b[0m\u001b[1;33m.\u001b[0m\u001b[0mT\u001b[0m\u001b[1;33m)\u001b[0m\u001b[1;33m)\u001b[0m\u001b[1;33m)\u001b[0m\u001b[1;33m\u001b[0m\u001b[1;33m\u001b[0m\u001b[0m\n",
      "\u001b[1;32mc:\\Users\\oessa\\anaconda3\\lib\\site-packages\\sklearn\\linear_model\\_logistic.py\u001b[0m in \u001b[0;36mfit\u001b[1;34m(self, X, y, sample_weight)\u001b[0m\n\u001b[0;32m   1342\u001b[0m             \u001b[0m_dtype\u001b[0m \u001b[1;33m=\u001b[0m \u001b[1;33m[\u001b[0m\u001b[0mnp\u001b[0m\u001b[1;33m.\u001b[0m\u001b[0mfloat64\u001b[0m\u001b[1;33m,\u001b[0m \u001b[0mnp\u001b[0m\u001b[1;33m.\u001b[0m\u001b[0mfloat32\u001b[0m\u001b[1;33m]\u001b[0m\u001b[1;33m\u001b[0m\u001b[1;33m\u001b[0m\u001b[0m\n\u001b[0;32m   1343\u001b[0m \u001b[1;33m\u001b[0m\u001b[0m\n\u001b[1;32m-> 1344\u001b[1;33m         X, y = self._validate_data(X, y, accept_sparse='csr', dtype=_dtype,\n\u001b[0m\u001b[0;32m   1345\u001b[0m                                    \u001b[0morder\u001b[0m\u001b[1;33m=\u001b[0m\u001b[1;34m\"C\"\u001b[0m\u001b[1;33m,\u001b[0m\u001b[1;33m\u001b[0m\u001b[1;33m\u001b[0m\u001b[0m\n\u001b[0;32m   1346\u001b[0m                                    accept_large_sparse=solver != 'liblinear')\n",
      "\u001b[1;32mc:\\Users\\oessa\\anaconda3\\lib\\site-packages\\sklearn\\base.py\u001b[0m in \u001b[0;36m_validate_data\u001b[1;34m(self, X, y, reset, validate_separately, **check_params)\u001b[0m\n\u001b[0;32m    431\u001b[0m                 \u001b[0my\u001b[0m \u001b[1;33m=\u001b[0m \u001b[0mcheck_array\u001b[0m\u001b[1;33m(\u001b[0m\u001b[0my\u001b[0m\u001b[1;33m,\u001b[0m \u001b[1;33m**\u001b[0m\u001b[0mcheck_y_params\u001b[0m\u001b[1;33m)\u001b[0m\u001b[1;33m\u001b[0m\u001b[1;33m\u001b[0m\u001b[0m\n\u001b[0;32m    432\u001b[0m             \u001b[1;32melse\u001b[0m\u001b[1;33m:\u001b[0m\u001b[1;33m\u001b[0m\u001b[1;33m\u001b[0m\u001b[0m\n\u001b[1;32m--> 433\u001b[1;33m                 \u001b[0mX\u001b[0m\u001b[1;33m,\u001b[0m \u001b[0my\u001b[0m \u001b[1;33m=\u001b[0m \u001b[0mcheck_X_y\u001b[0m\u001b[1;33m(\u001b[0m\u001b[0mX\u001b[0m\u001b[1;33m,\u001b[0m \u001b[0my\u001b[0m\u001b[1;33m,\u001b[0m \u001b[1;33m**\u001b[0m\u001b[0mcheck_params\u001b[0m\u001b[1;33m)\u001b[0m\u001b[1;33m\u001b[0m\u001b[1;33m\u001b[0m\u001b[0m\n\u001b[0m\u001b[0;32m    434\u001b[0m             \u001b[0mout\u001b[0m \u001b[1;33m=\u001b[0m \u001b[0mX\u001b[0m\u001b[1;33m,\u001b[0m \u001b[0my\u001b[0m\u001b[1;33m\u001b[0m\u001b[1;33m\u001b[0m\u001b[0m\n\u001b[0;32m    435\u001b[0m \u001b[1;33m\u001b[0m\u001b[0m\n",
      "\u001b[1;32mc:\\Users\\oessa\\anaconda3\\lib\\site-packages\\sklearn\\utils\\validation.py\u001b[0m in \u001b[0;36minner_f\u001b[1;34m(*args, **kwargs)\u001b[0m\n\u001b[0;32m     61\u001b[0m             \u001b[0mextra_args\u001b[0m \u001b[1;33m=\u001b[0m \u001b[0mlen\u001b[0m\u001b[1;33m(\u001b[0m\u001b[0margs\u001b[0m\u001b[1;33m)\u001b[0m \u001b[1;33m-\u001b[0m \u001b[0mlen\u001b[0m\u001b[1;33m(\u001b[0m\u001b[0mall_args\u001b[0m\u001b[1;33m)\u001b[0m\u001b[1;33m\u001b[0m\u001b[1;33m\u001b[0m\u001b[0m\n\u001b[0;32m     62\u001b[0m             \u001b[1;32mif\u001b[0m \u001b[0mextra_args\u001b[0m \u001b[1;33m<=\u001b[0m \u001b[1;36m0\u001b[0m\u001b[1;33m:\u001b[0m\u001b[1;33m\u001b[0m\u001b[1;33m\u001b[0m\u001b[0m\n\u001b[1;32m---> 63\u001b[1;33m                 \u001b[1;32mreturn\u001b[0m \u001b[0mf\u001b[0m\u001b[1;33m(\u001b[0m\u001b[1;33m*\u001b[0m\u001b[0margs\u001b[0m\u001b[1;33m,\u001b[0m \u001b[1;33m**\u001b[0m\u001b[0mkwargs\u001b[0m\u001b[1;33m)\u001b[0m\u001b[1;33m\u001b[0m\u001b[1;33m\u001b[0m\u001b[0m\n\u001b[0m\u001b[0;32m     64\u001b[0m \u001b[1;33m\u001b[0m\u001b[0m\n\u001b[0;32m     65\u001b[0m             \u001b[1;31m# extra_args > 0\u001b[0m\u001b[1;33m\u001b[0m\u001b[1;33m\u001b[0m\u001b[0m\n",
      "\u001b[1;32mc:\\Users\\oessa\\anaconda3\\lib\\site-packages\\sklearn\\utils\\validation.py\u001b[0m in \u001b[0;36mcheck_X_y\u001b[1;34m(X, y, accept_sparse, accept_large_sparse, dtype, order, copy, force_all_finite, ensure_2d, allow_nd, multi_output, ensure_min_samples, ensure_min_features, y_numeric, estimator)\u001b[0m\n\u001b[0;32m    886\u001b[0m         \u001b[0my\u001b[0m \u001b[1;33m=\u001b[0m \u001b[0my\u001b[0m\u001b[1;33m.\u001b[0m\u001b[0mastype\u001b[0m\u001b[1;33m(\u001b[0m\u001b[0mnp\u001b[0m\u001b[1;33m.\u001b[0m\u001b[0mfloat64\u001b[0m\u001b[1;33m)\u001b[0m\u001b[1;33m\u001b[0m\u001b[1;33m\u001b[0m\u001b[0m\n\u001b[0;32m    887\u001b[0m \u001b[1;33m\u001b[0m\u001b[0m\n\u001b[1;32m--> 888\u001b[1;33m     \u001b[0mcheck_consistent_length\u001b[0m\u001b[1;33m(\u001b[0m\u001b[0mX\u001b[0m\u001b[1;33m,\u001b[0m \u001b[0my\u001b[0m\u001b[1;33m)\u001b[0m\u001b[1;33m\u001b[0m\u001b[1;33m\u001b[0m\u001b[0m\n\u001b[0m\u001b[0;32m    889\u001b[0m \u001b[1;33m\u001b[0m\u001b[0m\n\u001b[0;32m    890\u001b[0m     \u001b[1;32mreturn\u001b[0m \u001b[0mX\u001b[0m\u001b[1;33m,\u001b[0m \u001b[0my\u001b[0m\u001b[1;33m\u001b[0m\u001b[1;33m\u001b[0m\u001b[0m\n",
      "\u001b[1;32mc:\\Users\\oessa\\anaconda3\\lib\\site-packages\\sklearn\\utils\\validation.py\u001b[0m in \u001b[0;36mcheck_consistent_length\u001b[1;34m(*arrays)\u001b[0m\n\u001b[0;32m    317\u001b[0m     \u001b[0muniques\u001b[0m \u001b[1;33m=\u001b[0m \u001b[0mnp\u001b[0m\u001b[1;33m.\u001b[0m\u001b[0munique\u001b[0m\u001b[1;33m(\u001b[0m\u001b[0mlengths\u001b[0m\u001b[1;33m)\u001b[0m\u001b[1;33m\u001b[0m\u001b[1;33m\u001b[0m\u001b[0m\n\u001b[0;32m    318\u001b[0m     \u001b[1;32mif\u001b[0m \u001b[0mlen\u001b[0m\u001b[1;33m(\u001b[0m\u001b[0muniques\u001b[0m\u001b[1;33m)\u001b[0m \u001b[1;33m>\u001b[0m \u001b[1;36m1\u001b[0m\u001b[1;33m:\u001b[0m\u001b[1;33m\u001b[0m\u001b[1;33m\u001b[0m\u001b[0m\n\u001b[1;32m--> 319\u001b[1;33m         raise ValueError(\"Found input variables with inconsistent numbers of\"\n\u001b[0m\u001b[0;32m    320\u001b[0m                          \" samples: %r\" % [int(l) for l in lengths])\n\u001b[0;32m    321\u001b[0m \u001b[1;33m\u001b[0m\u001b[0m\n",
      "\u001b[1;31mValueError\u001b[0m: Found input variables with inconsistent numbers of samples: [4096, 1649]"
     ]
    }
   ],
   "source": [
    "from sklearn import linear_model\n",
    "logreg = linear_model.LogisticRegression(random_state = 42,max_iter= 150)\n",
    "print(\"test accuracy: {} \".format(logreg.fit(x_train.T, y_train.T).score(x_test.T, y_test.T)))\n",
    "print(\"train accuracy: {} \".format(logreg.fit(x_train.T, y_train.T).score(x_train.T, y_train.T)))"
   ]
  }
 ],
 "metadata": {
  "kernelspec": {
   "display_name": "base",
   "language": "python",
   "name": "python3"
  },
  "language_info": {
   "codemirror_mode": {
    "name": "ipython",
    "version": 3
   },
   "file_extension": ".py",
   "mimetype": "text/x-python",
   "name": "python",
   "nbconvert_exporter": "python",
   "pygments_lexer": "ipython3",
   "version": "3.9.7"
  },
  "vscode": {
   "interpreter": {
    "hash": "4fd2609a31ccce37eb6c2c21abac1ac753f697883cf8c1e72a554f0bec890428"
   }
  }
 },
 "nbformat": 4,
 "nbformat_minor": 5
}
