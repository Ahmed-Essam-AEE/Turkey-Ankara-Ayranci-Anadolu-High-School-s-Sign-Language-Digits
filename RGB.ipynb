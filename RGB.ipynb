{
 "cells": [
  {
   "cell_type": "code",
   "execution_count": 2,
   "metadata": {},
   "outputs": [],
   "source": [
    "import tensorflow as ts\n",
    "from tensorflow import keras\n",
    "import matplotlib.pyplot as plt\n",
    "%matplotlib inline\n",
    "import numpy as np\n",
    "import pandas as pd\n",
    "import seaborn as sn\n",
    "import os\n",
    "os.environ['KMP_DUPLICATE_LIB_OK']='True'\n",
    "from PIL import Image\n",
    "import warnings\n",
    "warnings.filterwarnings('ignore')\n",
    "import random\n",
    "random.seed(10)\n",
    "from os import listdir\n",
    "from keras.utils import to_categorical\n",
    "from skimage.io import imread\n",
    "from os import listdir\n",
    "from matplotlib.pyplot import imread\n",
    "from skimage.transform import resize\n",
    "from sklearn.model_selection import train_test_split"
   ]
  },
  {
   "cell_type": "code",
   "execution_count": 3,
   "metadata": {},
   "outputs": [],
   "source": [
    "# Settings:\n",
    "img_size = 64\n",
    "grayscale_images = True\n",
    "num_class = 10\n",
    "test_size = 0.2"
   ]
  },
  {
   "cell_type": "code",
   "execution_count": 4,
   "metadata": {},
   "outputs": [],
   "source": [
    "def get_img_RGB(data_path):\n",
    "    # Getting image array from path:\n",
    "    img = imread(data_path)\n",
    "    img = resize(img, (img_size, img_size, 3))\n",
    "    return img"
   ]
  },
  {
   "cell_type": "code",
   "execution_count": 17,
   "metadata": {},
   "outputs": [],
   "source": [
    "def get_dataset(dataset_path='Dataset'):\n",
    "    \n",
    "    # Getting all data from data path\n",
    "    labels = listdir(dataset_path)  # Geting labels\n",
    "    X = []\n",
    "    Y = []\n",
    "    Z = []\n",
    "    for i, label in enumerate(labels):\n",
    "        datas_path = dataset_path + '/' + label\n",
    "        for data in listdir(datas_path):\n",
    "            img = get_img_RGB(datas_path + '/' + data)\n",
    "            #plt.matshow(img)\n",
    "            X.append(img)\n",
    "            Z.append(img)\n",
    "            Y.append(i)\n",
    "        # Create dateset:\n",
    "    #X = 1 - np.array(X).astype('float32') / 255.\n",
    "    X = np.array(X).astype('float32')\n",
    "    Y = np.array(Y).astype('float32')\n",
    "    m=X.mean()\n",
    "    #Y = to_categorical(Y, num_class)\n",
    "    X, X_test, Y, Y_test = train_test_split(X, Y, test_size=test_size, random_state=None)\n",
    "    return X, X_test, Y, Y_test,Z , m"
   ]
  },
  {
   "cell_type": "code",
   "execution_count": 18,
   "metadata": {},
   "outputs": [],
   "source": [
    "x_train, x_test, y_train, y_test , img , m = get_dataset('D:\\Sign-Language-Digits-Dataset-master\\Dataset')"
   ]
  },
  {
   "cell_type": "code",
   "execution_count": 34,
   "metadata": {},
   "outputs": [
    {
     "name": "stdout",
     "output_type": "stream",
     "text": [
      "(1649, 4096, 3)\n",
      "0.6419269\n",
      "[[-0.15736806 -0.1463961  -0.11141217]\n",
      " [-0.15124062 -0.13947588 -0.10435414]\n",
      " [-0.1411916  -0.1294269  -0.09413278]\n",
      " ...\n",
      " [-0.28056812 -0.2846965  -0.2997279 ]\n",
      " [-0.2884955  -0.29241708 -0.30810335]\n",
      " [-0.29383022 -0.29775178 -0.31343806]]\n",
      "==================================\n",
      "[[-0.79929495 -0.788323   -0.75333905]\n",
      " [-0.7931675  -0.78140277 -0.746281  ]\n",
      " [-0.7831185  -0.7713538  -0.73605967]\n",
      " ...\n",
      " [-0.922495   -0.92662334 -0.9416548 ]\n",
      " [-0.9304224  -0.93434393 -0.9500302 ]\n",
      " [-0.9357571  -0.93967867 -0.95536494]]\n"
     ]
    }
   ],
   "source": [
    "print(x_train.shape)\n",
    "x_train = x_train.reshape(len(x_train),64*64 , 3)\n",
    "x_test = x_test.reshape(len(x_test),64*64 , 3)\n",
    "print(m)\n",
    "print(x_train[0])\n",
    "print(\"==================================\")\n",
    "for i  in range(x_train.shape[0]):\n",
    "    for j in range(x_train.shape[1]): \n",
    "        x_train[i][j] = (x_train[i][j] - m) \n",
    "print(x_train[0])\n"
   ]
  }
 ],
 "metadata": {
  "interpreter": {
   "hash": "2db84d0c2d2edc4b15fbb69ceff36f90fbec9fd5cb82aacf7d82e3d591515806"
  },
  "kernelspec": {
   "display_name": "Python 3.9.7 ('base')",
   "language": "python",
   "name": "python3"
  },
  "language_info": {
   "codemirror_mode": {
    "name": "ipython",
    "version": 3
   },
   "file_extension": ".py",
   "mimetype": "text/x-python",
   "name": "python",
   "nbconvert_exporter": "python",
   "pygments_lexer": "ipython3",
   "version": "3.9.7"
  },
  "orig_nbformat": 4
 },
 "nbformat": 4,
 "nbformat_minor": 2
}
